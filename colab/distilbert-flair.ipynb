{
 "cells": [
  {
   "cell_type": "markdown",
   "metadata": {},
   "source": [
    "1.Lets install and invoke packages."
   ]
  },
  {
   "cell_type": "code",
   "execution_count": 1,
   "metadata": {},
   "outputs": [
    {
     "name": "stdout",
     "output_type": "stream",
     "text": [
      "Requirement already satisfied: flair in /home/sginne/anaconda3/envs/flair_env/lib/python3.8/site-packages (0.14.0)\n",
      "Requirement already satisfied: boto3>=1.20.27 in /home/sginne/anaconda3/envs/flair_env/lib/python3.8/site-packages (from flair) (1.35.13)\n",
      "Requirement already satisfied: conllu<5.0.0,>=4.0 in /home/sginne/anaconda3/envs/flair_env/lib/python3.8/site-packages (from flair) (4.5.3)\n",
      "Requirement already satisfied: deprecated>=1.2.13 in /home/sginne/anaconda3/envs/flair_env/lib/python3.8/site-packages (from flair) (1.2.14)\n",
      "Requirement already satisfied: ftfy>=6.1.0 in /home/sginne/anaconda3/envs/flair_env/lib/python3.8/site-packages (from flair) (6.2.3)\n",
      "Requirement already satisfied: gdown>=4.4.0 in /home/sginne/anaconda3/envs/flair_env/lib/python3.8/site-packages (from flair) (5.2.0)\n",
      "Requirement already satisfied: huggingface-hub>=0.10.0 in /home/sginne/anaconda3/envs/flair_env/lib/python3.8/site-packages (from flair) (0.24.6)\n",
      "Requirement already satisfied: langdetect>=1.0.9 in /home/sginne/anaconda3/envs/flair_env/lib/python3.8/site-packages (from flair) (1.0.9)\n",
      "Requirement already satisfied: lxml>=4.8.0 in /home/sginne/anaconda3/envs/flair_env/lib/python3.8/site-packages (from flair) (5.3.0)\n",
      "Requirement already satisfied: matplotlib>=2.2.3 in /home/sginne/anaconda3/envs/flair_env/lib/python3.8/site-packages (from flair) (3.7.5)\n",
      "Requirement already satisfied: more-itertools>=8.13.0 in /home/sginne/anaconda3/envs/flair_env/lib/python3.8/site-packages (from flair) (10.5.0)\n",
      "Requirement already satisfied: mpld3>=0.3 in /home/sginne/anaconda3/envs/flair_env/lib/python3.8/site-packages (from flair) (0.5.10)\n",
      "Requirement already satisfied: pptree>=3.1 in /home/sginne/anaconda3/envs/flair_env/lib/python3.8/site-packages (from flair) (3.1)\n",
      "Requirement already satisfied: python-dateutil>=2.8.2 in /home/sginne/anaconda3/envs/flair_env/lib/python3.8/site-packages (from flair) (2.9.0)\n",
      "Requirement already satisfied: pytorch-revgrad>=0.2.0 in /home/sginne/anaconda3/envs/flair_env/lib/python3.8/site-packages (from flair) (0.2.0)\n",
      "Requirement already satisfied: regex>=2022.1.18 in /home/sginne/anaconda3/envs/flair_env/lib/python3.8/site-packages (from flair) (2024.7.24)\n",
      "Requirement already satisfied: scikit-learn>=1.0.2 in /home/sginne/anaconda3/envs/flair_env/lib/python3.8/site-packages (from flair) (1.3.2)\n",
      "Requirement already satisfied: segtok>=1.5.11 in /home/sginne/anaconda3/envs/flair_env/lib/python3.8/site-packages (from flair) (1.5.11)\n",
      "Requirement already satisfied: sqlitedict>=2.0.0 in /home/sginne/anaconda3/envs/flair_env/lib/python3.8/site-packages (from flair) (2.1.0)\n",
      "Requirement already satisfied: tabulate>=0.8.10 in /home/sginne/anaconda3/envs/flair_env/lib/python3.8/site-packages (from flair) (0.9.0)\n",
      "Requirement already satisfied: torch!=1.8,>=1.5.0 in /home/sginne/anaconda3/envs/flair_env/lib/python3.8/site-packages (from flair) (2.4.1)\n",
      "Requirement already satisfied: tqdm>=4.63.0 in /home/sginne/anaconda3/envs/flair_env/lib/python3.8/site-packages (from flair) (4.66.5)\n",
      "Requirement already satisfied: transformer-smaller-training-vocab>=0.2.3 in /home/sginne/anaconda3/envs/flair_env/lib/python3.8/site-packages (from flair) (0.4.0)\n",
      "Requirement already satisfied: transformers<5.0.0,>=4.18.0 in /home/sginne/anaconda3/envs/flair_env/lib/python3.8/site-packages (from transformers[sentencepiece]<5.0.0,>=4.18.0->flair) (4.44.2)\n",
      "Requirement already satisfied: wikipedia-api>=0.5.7 in /home/sginne/anaconda3/envs/flair_env/lib/python3.8/site-packages (from flair) (0.7.1)\n",
      "Requirement already satisfied: semver<4.0.0,>=3.0.0 in /home/sginne/anaconda3/envs/flair_env/lib/python3.8/site-packages (from flair) (3.0.2)\n",
      "Requirement already satisfied: bioc<3.0.0,>=2.0.0 in /home/sginne/anaconda3/envs/flair_env/lib/python3.8/site-packages (from flair) (2.1)\n",
      "Requirement already satisfied: jsonlines>=1.2.0 in /home/sginne/anaconda3/envs/flair_env/lib/python3.8/site-packages (from bioc<3.0.0,>=2.0.0->flair) (4.0.0)\n",
      "Requirement already satisfied: intervaltree in /home/sginne/anaconda3/envs/flair_env/lib/python3.8/site-packages (from bioc<3.0.0,>=2.0.0->flair) (3.1.0)\n",
      "Requirement already satisfied: docopt in /home/sginne/anaconda3/envs/flair_env/lib/python3.8/site-packages (from bioc<3.0.0,>=2.0.0->flair) (0.6.2)\n",
      "Requirement already satisfied: botocore<1.36.0,>=1.35.13 in /home/sginne/anaconda3/envs/flair_env/lib/python3.8/site-packages (from boto3>=1.20.27->flair) (1.35.13)\n",
      "Requirement already satisfied: jmespath<2.0.0,>=0.7.1 in /home/sginne/anaconda3/envs/flair_env/lib/python3.8/site-packages (from boto3>=1.20.27->flair) (1.0.1)\n",
      "Requirement already satisfied: s3transfer<0.11.0,>=0.10.0 in /home/sginne/anaconda3/envs/flair_env/lib/python3.8/site-packages (from boto3>=1.20.27->flair) (0.10.2)\n",
      "Requirement already satisfied: wrapt<2,>=1.10 in /home/sginne/anaconda3/envs/flair_env/lib/python3.8/site-packages (from deprecated>=1.2.13->flair) (1.16.0)\n",
      "Requirement already satisfied: wcwidth<0.3.0,>=0.2.12 in /home/sginne/anaconda3/envs/flair_env/lib/python3.8/site-packages (from ftfy>=6.1.0->flair) (0.2.13)\n",
      "Requirement already satisfied: beautifulsoup4 in /home/sginne/anaconda3/envs/flair_env/lib/python3.8/site-packages (from gdown>=4.4.0->flair) (4.12.3)\n",
      "Requirement already satisfied: filelock in /home/sginne/anaconda3/envs/flair_env/lib/python3.8/site-packages (from gdown>=4.4.0->flair) (3.15.4)\n",
      "Requirement already satisfied: requests[socks] in /home/sginne/anaconda3/envs/flair_env/lib/python3.8/site-packages (from gdown>=4.4.0->flair) (2.32.3)\n",
      "Requirement already satisfied: fsspec>=2023.5.0 in /home/sginne/anaconda3/envs/flair_env/lib/python3.8/site-packages (from huggingface-hub>=0.10.0->flair) (2024.9.0)\n",
      "Requirement already satisfied: packaging>=20.9 in /home/sginne/anaconda3/envs/flair_env/lib/python3.8/site-packages (from huggingface-hub>=0.10.0->flair) (24.1)\n",
      "Requirement already satisfied: pyyaml>=5.1 in /home/sginne/anaconda3/envs/flair_env/lib/python3.8/site-packages (from huggingface-hub>=0.10.0->flair) (6.0.2)\n",
      "Requirement already satisfied: typing-extensions>=3.7.4.3 in /home/sginne/anaconda3/envs/flair_env/lib/python3.8/site-packages (from huggingface-hub>=0.10.0->flair) (4.12.2)\n",
      "Requirement already satisfied: six in /home/sginne/anaconda3/envs/flair_env/lib/python3.8/site-packages (from langdetect>=1.0.9->flair) (1.16.0)\n",
      "Requirement already satisfied: contourpy>=1.0.1 in /home/sginne/anaconda3/envs/flair_env/lib/python3.8/site-packages (from matplotlib>=2.2.3->flair) (1.1.1)\n",
      "Requirement already satisfied: cycler>=0.10 in /home/sginne/anaconda3/envs/flair_env/lib/python3.8/site-packages (from matplotlib>=2.2.3->flair) (0.12.1)\n",
      "Requirement already satisfied: fonttools>=4.22.0 in /home/sginne/anaconda3/envs/flair_env/lib/python3.8/site-packages (from matplotlib>=2.2.3->flair) (4.53.1)\n",
      "Requirement already satisfied: kiwisolver>=1.0.1 in /home/sginne/anaconda3/envs/flair_env/lib/python3.8/site-packages (from matplotlib>=2.2.3->flair) (1.4.7)\n",
      "Requirement already satisfied: numpy<2,>=1.20 in /home/sginne/anaconda3/envs/flair_env/lib/python3.8/site-packages (from matplotlib>=2.2.3->flair) (1.24.4)\n",
      "Requirement already satisfied: pillow>=6.2.0 in /home/sginne/anaconda3/envs/flair_env/lib/python3.8/site-packages (from matplotlib>=2.2.3->flair) (10.4.0)\n",
      "Requirement already satisfied: pyparsing>=2.3.1 in /home/sginne/anaconda3/envs/flair_env/lib/python3.8/site-packages (from matplotlib>=2.2.3->flair) (3.1.4)\n",
      "Requirement already satisfied: importlib-resources>=3.2.0 in /home/sginne/anaconda3/envs/flair_env/lib/python3.8/site-packages (from matplotlib>=2.2.3->flair) (6.4.4)\n",
      "Requirement already satisfied: jinja2 in /home/sginne/anaconda3/envs/flair_env/lib/python3.8/site-packages (from mpld3>=0.3->flair) (3.1.4)\n",
      "Requirement already satisfied: scipy>=1.5.0 in /home/sginne/anaconda3/envs/flair_env/lib/python3.8/site-packages (from scikit-learn>=1.0.2->flair) (1.10.1)\n",
      "Requirement already satisfied: joblib>=1.1.1 in /home/sginne/anaconda3/envs/flair_env/lib/python3.8/site-packages (from scikit-learn>=1.0.2->flair) (1.4.2)\n",
      "Requirement already satisfied: threadpoolctl>=2.0.0 in /home/sginne/anaconda3/envs/flair_env/lib/python3.8/site-packages (from scikit-learn>=1.0.2->flair) (3.5.0)\n",
      "Requirement already satisfied: sympy in /home/sginne/anaconda3/envs/flair_env/lib/python3.8/site-packages (from torch!=1.8,>=1.5.0->flair) (1.13.2)\n",
      "Requirement already satisfied: networkx in /home/sginne/anaconda3/envs/flair_env/lib/python3.8/site-packages (from torch!=1.8,>=1.5.0->flair) (3.1)\n",
      "Requirement already satisfied: nvidia-cuda-nvrtc-cu12==12.1.105 in /home/sginne/anaconda3/envs/flair_env/lib/python3.8/site-packages (from torch!=1.8,>=1.5.0->flair) (12.1.105)\n",
      "Requirement already satisfied: nvidia-cuda-runtime-cu12==12.1.105 in /home/sginne/anaconda3/envs/flair_env/lib/python3.8/site-packages (from torch!=1.8,>=1.5.0->flair) (12.1.105)\n",
      "Requirement already satisfied: nvidia-cuda-cupti-cu12==12.1.105 in /home/sginne/anaconda3/envs/flair_env/lib/python3.8/site-packages (from torch!=1.8,>=1.5.0->flair) (12.1.105)\n",
      "Requirement already satisfied: nvidia-cudnn-cu12==9.1.0.70 in /home/sginne/anaconda3/envs/flair_env/lib/python3.8/site-packages (from torch!=1.8,>=1.5.0->flair) (9.1.0.70)\n",
      "Requirement already satisfied: nvidia-cublas-cu12==12.1.3.1 in /home/sginne/anaconda3/envs/flair_env/lib/python3.8/site-packages (from torch!=1.8,>=1.5.0->flair) (12.1.3.1)\n",
      "Requirement already satisfied: nvidia-cufft-cu12==11.0.2.54 in /home/sginne/anaconda3/envs/flair_env/lib/python3.8/site-packages (from torch!=1.8,>=1.5.0->flair) (11.0.2.54)\n",
      "Requirement already satisfied: nvidia-curand-cu12==10.3.2.106 in /home/sginne/anaconda3/envs/flair_env/lib/python3.8/site-packages (from torch!=1.8,>=1.5.0->flair) (10.3.2.106)\n",
      "Requirement already satisfied: nvidia-cusolver-cu12==11.4.5.107 in /home/sginne/anaconda3/envs/flair_env/lib/python3.8/site-packages (from torch!=1.8,>=1.5.0->flair) (11.4.5.107)\n",
      "Requirement already satisfied: nvidia-cusparse-cu12==12.1.0.106 in /home/sginne/anaconda3/envs/flair_env/lib/python3.8/site-packages (from torch!=1.8,>=1.5.0->flair) (12.1.0.106)\n",
      "Requirement already satisfied: nvidia-nccl-cu12==2.20.5 in /home/sginne/anaconda3/envs/flair_env/lib/python3.8/site-packages (from torch!=1.8,>=1.5.0->flair) (2.20.5)\n",
      "Requirement already satisfied: nvidia-nvtx-cu12==12.1.105 in /home/sginne/anaconda3/envs/flair_env/lib/python3.8/site-packages (from torch!=1.8,>=1.5.0->flair) (12.1.105)\n",
      "Requirement already satisfied: triton==3.0.0 in /home/sginne/anaconda3/envs/flair_env/lib/python3.8/site-packages (from torch!=1.8,>=1.5.0->flair) (3.0.0)\n",
      "Requirement already satisfied: nvidia-nvjitlink-cu12 in /home/sginne/anaconda3/envs/flair_env/lib/python3.8/site-packages (from nvidia-cusolver-cu12==11.4.5.107->torch!=1.8,>=1.5.0->flair) (12.6.68)\n",
      "Requirement already satisfied: safetensors>=0.4.1 in /home/sginne/anaconda3/envs/flair_env/lib/python3.8/site-packages (from transformers<5.0.0,>=4.18.0->transformers[sentencepiece]<5.0.0,>=4.18.0->flair) (0.4.5)\n",
      "Requirement already satisfied: tokenizers<0.20,>=0.19 in /home/sginne/anaconda3/envs/flair_env/lib/python3.8/site-packages (from transformers<5.0.0,>=4.18.0->transformers[sentencepiece]<5.0.0,>=4.18.0->flair) (0.19.1)\n",
      "Requirement already satisfied: protobuf in /home/sginne/anaconda3/envs/flair_env/lib/python3.8/site-packages (from transformers[sentencepiece]<5.0.0,>=4.18.0->flair) (5.28.0)\n",
      "Requirement already satisfied: sentencepiece!=0.1.92,>=0.1.91 in /home/sginne/anaconda3/envs/flair_env/lib/python3.8/site-packages (from transformers[sentencepiece]<5.0.0,>=4.18.0->flair) (0.2.0)\n",
      "Requirement already satisfied: urllib3<1.27,>=1.25.4 in /home/sginne/anaconda3/envs/flair_env/lib/python3.8/site-packages (from botocore<1.36.0,>=1.35.13->boto3>=1.20.27->flair) (1.26.20)\n",
      "Requirement already satisfied: zipp>=3.1.0 in /home/sginne/anaconda3/envs/flair_env/lib/python3.8/site-packages (from importlib-resources>=3.2.0->matplotlib>=2.2.3->flair) (3.20.1)\n",
      "Requirement already satisfied: attrs>=19.2.0 in /home/sginne/anaconda3/envs/flair_env/lib/python3.8/site-packages (from jsonlines>=1.2.0->bioc<3.0.0,>=2.0.0->flair) (24.2.0)\n",
      "Requirement already satisfied: accelerate>=0.21.0 in /home/sginne/anaconda3/envs/flair_env/lib/python3.8/site-packages (from transformers[sentencepiece,torch]<5.0,>=4.1->transformer-smaller-training-vocab>=0.2.3->flair) (0.34.2)\n",
      "Requirement already satisfied: soupsieve>1.2 in /home/sginne/anaconda3/envs/flair_env/lib/python3.8/site-packages (from beautifulsoup4->gdown>=4.4.0->flair) (2.6)\n",
      "Requirement already satisfied: sortedcontainers<3.0,>=2.0 in /home/sginne/anaconda3/envs/flair_env/lib/python3.8/site-packages (from intervaltree->bioc<3.0.0,>=2.0.0->flair) (2.4.0)\n",
      "Requirement already satisfied: MarkupSafe>=2.0 in /home/sginne/anaconda3/envs/flair_env/lib/python3.8/site-packages (from jinja2->mpld3>=0.3->flair) (2.1.5)\n",
      "Requirement already satisfied: charset-normalizer<4,>=2 in /home/sginne/anaconda3/envs/flair_env/lib/python3.8/site-packages (from requests[socks]->gdown>=4.4.0->flair) (3.3.2)\n",
      "Requirement already satisfied: idna<4,>=2.5 in /home/sginne/anaconda3/envs/flair_env/lib/python3.8/site-packages (from requests[socks]->gdown>=4.4.0->flair) (3.8)\n",
      "Requirement already satisfied: certifi>=2017.4.17 in /home/sginne/anaconda3/envs/flair_env/lib/python3.8/site-packages (from requests[socks]->gdown>=4.4.0->flair) (2024.8.30)\n",
      "Requirement already satisfied: PySocks!=1.5.7,>=1.5.6 in /home/sginne/anaconda3/envs/flair_env/lib/python3.8/site-packages (from requests[socks]->gdown>=4.4.0->flair) (1.7.1)\n",
      "Requirement already satisfied: mpmath<1.4,>=1.1.0 in /home/sginne/anaconda3/envs/flair_env/lib/python3.8/site-packages (from sympy->torch!=1.8,>=1.5.0->flair) (1.3.0)\n",
      "Requirement already satisfied: psutil in /home/sginne/anaconda3/envs/flair_env/lib/python3.8/site-packages (from accelerate>=0.21.0->transformers[sentencepiece,torch]<5.0,>=4.1->transformer-smaller-training-vocab>=0.2.3->flair) (5.9.0)\n"
     ]
    },
    {
     "name": "stderr",
     "output_type": "stream",
     "text": [
      "/home/sginne/anaconda3/envs/flair_env/lib/python3.8/site-packages/tqdm/auto.py:21: TqdmWarning: IProgress not found. Please update jupyter and ipywidgets. See https://ipywidgets.readthedocs.io/en/stable/user_install.html\n",
      "  from .autonotebook import tqdm as notebook_tqdm\n"
     ]
    },
    {
     "name": "stdout",
     "output_type": "stream",
     "text": [
      "expandable_segments:True\n"
     ]
    }
   ],
   "source": [
    "!pip install flair\n",
    "from tqdm.notebook import tqdm\n",
    "from transformers import BertTokenizer, BertForTokenClassification\n",
    "import requests,os\n",
    "from flair.datasets import ColumnCorpus\n",
    "from flair.embeddings import TransformerWordEmbeddings\n",
    "from flair.models import SequenceTagger\n",
    "from flair.trainers import ModelTrainer\n",
    "from flair.data import Sentence\n",
    "os.environ[\"PYTORCH_CUDA_ALLOC_CONF\"] = \"expandable_segments:True\"\n",
    "print(os.getenv(\"PYTORCH_CUDA_ALLOC_CONF\"))"
   ]
  },
  {
   "cell_type": "markdown",
   "metadata": {},
   "source": [
    "2-Loading tokenizers, models, etc"
   ]
  },
  {
   "cell_type": "code",
   "execution_count": 2,
   "metadata": {},
   "outputs": [
    {
     "name": "stderr",
     "output_type": "stream",
     "text": [
      "/home/sginne/anaconda3/envs/flair_env/lib/python3.8/site-packages/transformers/tokenization_utils_base.py:1601: FutureWarning: `clean_up_tokenization_spaces` was not set. It will be set to `True` by default. This behavior will be depracted in transformers v4.45, and will be then set to `False` by default. For more details check this issue: https://github.com/huggingface/transformers/issues/31884\n",
      "  warnings.warn(\n",
      "Some weights of BertForTokenClassification were not initialized from the model checkpoint at bert-base-multilingual-cased and are newly initialized: ['classifier.bias', 'classifier.weight']\n",
      "You should probably TRAIN this model on a down-stream task to be able to use it for predictions and inference.\n"
     ]
    },
    {
     "name": "stdout",
     "output_type": "stream",
     "text": [
      "Data found: ./data/train.iob\n",
      "Data found: ./data/test.iob\n"
     ]
    }
   ],
   "source": [
    "tokenizer = BertTokenizer.from_pretrained('bert-base-multilingual-cased')\n",
    "model = BertForTokenClassification.from_pretrained('bert-base-multilingual-cased', num_labels=9)\n",
    "train_url = 'https://raw.githubusercontent.com/lang-uk/flair-ner/main/fixed-split/train.iob'\n",
    "test_url = 'https://raw.githubusercontent.com/lang-uk/flair-ner/main/fixed-split/test.iob'\n",
    "\n",
    "def download_data(url, file_name):\n",
    "    if not os.path.exists(file_name):\n",
    "        response = requests.get(url)\n",
    "        with open(file_name, 'w', encoding='utf-8') as f:\n",
    "            f.write(response.text)\n",
    "        print(f'Data downloaded: {file_name}')\n",
    "    else:\n",
    "        print('Data found:', file_name)\n",
    "data_folder = './data/'\n",
    "os.makedirs(data_folder, exist_ok=True)\n",
    "download_data(train_url, os.path.join(data_folder, 'train.iob'))\n",
    "download_data(test_url, os.path.join(data_folder, 'test.iob'))\n",
    "\n",
    "distilbert_embeddings = TransformerWordEmbeddings('distilbert-base-multilingual-cased', fine_tune=True)\n"
   ]
  },
  {
   "cell_type": "markdown",
   "metadata": {},
   "source": [
    "Lets make corpus"
   ]
  },
  {
   "cell_type": "code",
   "execution_count": 3,
   "metadata": {},
   "outputs": [
    {
     "name": "stdout",
     "output_type": "stream",
     "text": [
      "2024-09-07 18:49:07,654 Reading data from data\n",
      "2024-09-07 18:49:07,655 Train: data/train.iob\n",
      "2024-09-07 18:49:07,656 Dev: None\n",
      "2024-09-07 18:49:07,656 Test: data/test.iob\n",
      "2024-09-07 18:49:10,234 No dev split found. Using 10% (i.e. 876 samples) of the train split as dev data\n",
      "Corpus: 7886 train + 876 dev + 4045 test sentences\n",
      "Sentence[22]: \"З одного боку , саме через це більшість проектів КСВ здійснюються епізодично та деколи виглядають , радше , як просто благодійність .\"\n",
      "Sentence[8]: \"Винятком будуть хіба що представництва іноземних корпорацій .\"\n",
      "Sentence[20]: \"З іншого боку , для українських компаній відкривається потужне « вікно можливостей » , щоб втілювати власні унікальні стратегії .\"\n",
      "Sentence[3]: \"Філантропія як пріоритет\"\n",
      "Sentence[17]: \"Найпоширенішим підходом українського бізнесу у КСВ є філантропія — компанії виділяють кошти на суспільно важливі проекти .\"\n",
      "Sentence[15]: \"Це може бути як власна ініціатива , так і відповідь на запит від громади .\"\n",
      "Sentence[17]: \"Це абсолютно нормальна практика через недостатній рівень статків та доходів переважної більшості українських громадян та громад .\"\n",
      "Sentence[23]: \"І хоча деякі місцеві експерти вважають це базовим рівнем , що свідчить про недостатній розвиток КСВ , ця діяльність заслуговує на повагу .\"\n",
      "Sentence[34]: \"Особливо якщо зауважити , що такі проекти часто спрямовані на обладнання шкіл , сприяння освіті , допомогу вимушеним переселенцям або літнім людям , як , наприклад , проект « Життєлюб » Гаріка Корогодського .\" → [\"Життєлюб\"/ORG, \"Гаріка Корогодського\"/PERS]\n",
      "Sentence[11]: \"Вони абсолютно відповідають Глобальному договору та Цілям сталого розвитку ООН .\" → [\"Глобальному договору та Цілям сталого розвитку ООН\"/MISC]\n",
      "Sentence[3]: \"Виклики воєнного часу\"\n",
      "Sentence[33]: \"Підтримка Збройних Сил — один з унікальних і суто українських напрямків КСВ . Збройні Сили України напередодні анексії Криму та втручання « заклятого друга » у Донбасі перебували в стані жорсткого недофінансування .\" → [\"Збройних Сил\"/ORG, \"Збройні Сили України\"/ORG, \"Криму\"/LOC, \"Донбасі\"/LOC]\n",
      "Sentence[6]: \"Хто прийшов на допомогу армії ?\"\n",
      "Sentence[5]: \"Малий та середній бізнес .\"\n",
      "Sentence[27]: \"Складно сказати , чи буде коли-небудь зроблена оцінка пожертв громадян у 2014 р . , але , радше за все , йдеться про сотні мільйонів доларів .\"\n",
      "2024-09-07 18:49:10,235 Computing label dictionary. Progress:\n"
     ]
    },
    {
     "name": "stderr",
     "output_type": "stream",
     "text": [
      "8it [00:00, 7612.17it/s]\n",
      "7886it [00:00, 32118.20it/s]"
     ]
    },
    {
     "name": "stdout",
     "output_type": "stream",
     "text": [
      "2024-09-07 18:49:10,487 Dictionary created for label 'ner' with 4 values: PERS (seen 2473 times), LOC (seen 1101 times), ORG (seen 470 times), MISC (seen 381 times)\n",
      "Dictionary with 4 tags: PERS, LOC, ORG, MISC\n"
     ]
    },
    {
     "name": "stderr",
     "output_type": "stream",
     "text": [
      "\n"
     ]
    }
   ],
   "source": [
    "columns = {0: 'text', 1: 'ner'}\n",
    "corpus = ColumnCorpus(data_folder, columns,\n",
    "                      train_file='train.iob',\n",
    "                      test_file='test.iob')\n",
    "print(corpus)\n",
    "for i in range(15):\n",
    "    print(corpus.train[i])\n",
    "tag_types = corpus.make_label_dictionary(label_type='ner')\n",
    "print(tag_types)\n",
    "\n",
    "\n"
   ]
  },
  {
   "cell_type": "markdown",
   "metadata": {},
   "source": [
    "Lets make tagger and trainer"
   ]
  },
  {
   "cell_type": "code",
   "execution_count": 4,
   "metadata": {},
   "outputs": [
    {
     "name": "stdout",
     "output_type": "stream",
     "text": [
      "2024-09-07 18:49:10,496 SequenceTagger predicts: Dictionary with 17 tags: O, S-PERS, B-PERS, E-PERS, I-PERS, S-LOC, B-LOC, E-LOC, I-LOC, S-ORG, B-ORG, E-ORG, I-ORG, S-MISC, B-MISC, E-MISC, I-MISC\n"
     ]
    }
   ],
   "source": [
    "tagger = SequenceTagger(hidden_size=128,\n",
    "                        embeddings=distilbert_embeddings,\n",
    "                        tag_dictionary=tag_types,\n",
    "                        tag_type='ner',\n",
    "                        use_crf=False)\n",
    "trainer = ModelTrainer(tagger, corpus)\n"
   ]
  },
  {
   "cell_type": "markdown",
   "metadata": {},
   "source": [
    "Model name and and model"
   ]
  },
  {
   "cell_type": "code",
   "execution_count": 5,
   "metadata": {},
   "outputs": [],
   "source": [
    "finetuned_model_name='dist-finetuned.04'\n"
   ]
  },
  {
   "cell_type": "code",
   "execution_count": 6,
   "metadata": {},
   "outputs": [
    {
     "name": "stdout",
     "output_type": "stream",
     "text": [
      "2024-09-07 18:49:14,819 ----------------------------------------------------------------------------------------------------\n",
      "2024-09-07 18:49:14,821 Model: \"SequenceTagger(\n",
      "  (embeddings): TransformerWordEmbeddings(\n",
      "    (model): DistilBertModel(\n",
      "      (embeddings): Embeddings(\n",
      "        (word_embeddings): Embedding(119548, 768, padding_idx=0)\n",
      "        (position_embeddings): Embedding(512, 768)\n",
      "        (LayerNorm): LayerNorm((768,), eps=1e-12, elementwise_affine=True)\n",
      "        (dropout): Dropout(p=0.1, inplace=False)\n",
      "      )\n",
      "      (transformer): Transformer(\n",
      "        (layer): ModuleList(\n",
      "          (0-5): 6 x TransformerBlock(\n",
      "            (attention): MultiHeadSelfAttention(\n",
      "              (dropout): Dropout(p=0.1, inplace=False)\n",
      "              (q_lin): Linear(in_features=768, out_features=768, bias=True)\n",
      "              (k_lin): Linear(in_features=768, out_features=768, bias=True)\n",
      "              (v_lin): Linear(in_features=768, out_features=768, bias=True)\n",
      "              (out_lin): Linear(in_features=768, out_features=768, bias=True)\n",
      "            )\n",
      "            (sa_layer_norm): LayerNorm((768,), eps=1e-12, elementwise_affine=True)\n",
      "            (ffn): FFN(\n",
      "              (dropout): Dropout(p=0.1, inplace=False)\n",
      "              (lin1): Linear(in_features=768, out_features=3072, bias=True)\n",
      "              (lin2): Linear(in_features=3072, out_features=768, bias=True)\n",
      "              (activation): GELUActivation()\n",
      "            )\n",
      "            (output_layer_norm): LayerNorm((768,), eps=1e-12, elementwise_affine=True)\n",
      "          )\n",
      "        )\n",
      "      )\n",
      "    )\n",
      "  )\n",
      "  (word_dropout): WordDropout(p=0.05)\n",
      "  (locked_dropout): LockedDropout(p=0.5)\n",
      "  (embedding2nn): Linear(in_features=768, out_features=768, bias=True)\n",
      "  (rnn): LSTM(768, 128, batch_first=True, bidirectional=True)\n",
      "  (linear): Linear(in_features=256, out_features=17, bias=True)\n",
      "  (loss_function): CrossEntropyLoss()\n",
      ")\"\n",
      "2024-09-07 18:49:14,821 ----------------------------------------------------------------------------------------------------\n",
      "2024-09-07 18:49:14,822 Corpus: 7886 train + 876 dev + 4045 test sentences\n",
      "2024-09-07 18:49:14,823 ----------------------------------------------------------------------------------------------------\n",
      "2024-09-07 18:49:14,823 Train:  8762 sentences\n",
      "2024-09-07 18:49:14,824         (train_with_dev=True, train_with_test=False)\n",
      "2024-09-07 18:49:14,824 ----------------------------------------------------------------------------------------------------\n",
      "2024-09-07 18:49:14,825 Training Params:\n",
      "2024-09-07 18:49:14,826  - learning_rate: \"0.01\" \n",
      "2024-09-07 18:49:14,826  - mini_batch_size: \"1\"\n",
      "2024-09-07 18:49:14,827  - max_epochs: \"10\"\n",
      "2024-09-07 18:49:14,827  - shuffle: \"True\"\n",
      "2024-09-07 18:49:14,828 ----------------------------------------------------------------------------------------------------\n",
      "2024-09-07 18:49:14,829 Plugins:\n",
      "2024-09-07 18:49:14,829  - AnnealOnPlateau | patience: '3', anneal_factor: '0.5', min_learning_rate: '0.0001'\n",
      "2024-09-07 18:49:14,830 ----------------------------------------------------------------------------------------------------\n",
      "2024-09-07 18:49:14,830 Final evaluation on model from best epoch (best-model.pt)\n",
      "2024-09-07 18:49:14,831  - metric: \"('micro avg', 'f1-score')\"\n",
      "2024-09-07 18:49:14,833 ----------------------------------------------------------------------------------------------------\n",
      "2024-09-07 18:49:14,834 Computation:\n",
      "2024-09-07 18:49:14,836  - compute on device: cuda:0\n",
      "2024-09-07 18:49:14,836  - embedding storage: cpu\n",
      "2024-09-07 18:49:14,837 ----------------------------------------------------------------------------------------------------\n",
      "2024-09-07 18:49:14,838 Model training base path: \"dist-finetuned.04\"\n",
      "2024-09-07 18:49:14,839 ----------------------------------------------------------------------------------------------------\n",
      "2024-09-07 18:49:14,839 ----------------------------------------------------------------------------------------------------\n"
     ]
    },
    {
     "name": "stderr",
     "output_type": "stream",
     "text": [
      "/home/sginne/anaconda3/envs/flair_env/lib/python3.8/site-packages/flair/trainers/trainer.py:499: FutureWarning: `torch.cuda.amp.GradScaler(args...)` is deprecated. Please use `torch.amp.GradScaler('cuda', args...)` instead.\n",
      "  scaler = torch.cuda.amp.GradScaler(enabled=use_amp and flair.device.type != \"cpu\")\n"
     ]
    },
    {
     "name": "stdout",
     "output_type": "stream",
     "text": [
      "2024-09-07 18:50:11,959 epoch 1 - iter 876/8762 - loss 0.34582672 - time (sec): 57.12 - samples/sec: 280.40 - lr: 0.010000 - momentum: 0.000000\n",
      "2024-09-07 18:51:01,790 epoch 1 - iter 1752/8762 - loss 0.27080861 - time (sec): 106.95 - samples/sec: 301.64 - lr: 0.010000 - momentum: 0.000000\n",
      "2024-09-07 18:51:51,703 epoch 1 - iter 2628/8762 - loss 0.23174478 - time (sec): 156.86 - samples/sec: 308.49 - lr: 0.010000 - momentum: 0.000000\n",
      "2024-09-07 18:52:42,026 epoch 1 - iter 3504/8762 - loss 0.20704101 - time (sec): 207.18 - samples/sec: 306.43 - lr: 0.010000 - momentum: 0.000000\n",
      "2024-09-07 18:53:32,059 epoch 1 - iter 4380/8762 - loss 0.19170939 - time (sec): 257.22 - samples/sec: 308.24 - lr: 0.010000 - momentum: 0.000000\n",
      "2024-09-07 18:54:21,711 epoch 1 - iter 5256/8762 - loss 0.18353368 - time (sec): 306.87 - samples/sec: 310.00 - lr: 0.010000 - momentum: 0.000000\n",
      "2024-09-07 18:55:12,066 epoch 1 - iter 6132/8762 - loss 0.17462399 - time (sec): 357.22 - samples/sec: 311.93 - lr: 0.010000 - momentum: 0.000000\n",
      "2024-09-07 18:56:03,156 epoch 1 - iter 7008/8762 - loss 0.16714423 - time (sec): 408.31 - samples/sec: 312.29 - lr: 0.010000 - momentum: 0.000000\n",
      "2024-09-07 18:56:54,413 epoch 1 - iter 7884/8762 - loss 0.15961162 - time (sec): 459.57 - samples/sec: 312.04 - lr: 0.010000 - momentum: 0.000000\n",
      "2024-09-07 18:57:45,231 epoch 1 - iter 8760/8762 - loss 0.15625891 - time (sec): 510.39 - samples/sec: 310.95 - lr: 0.010000 - momentum: 0.000000\n",
      "2024-09-07 18:57:45,385 ----------------------------------------------------------------------------------------------------\n",
      "2024-09-07 18:57:45,386 EPOCH 1 done: loss 0.1562 - lr: 0.010000\n"
     ]
    },
    {
     "name": "stderr",
     "output_type": "stream",
     "text": [
      "100%|██████████| 64/64 [01:03<00:00,  1.00it/s]\n"
     ]
    },
    {
     "name": "stdout",
     "output_type": "stream",
     "text": [
      "2024-09-07 18:58:49,538 TEST : loss 0.14886006712913513 - f1-score (micro avg)  0.6764\n",
      "2024-09-07 18:58:49,754  - 0 epochs without improvement\n",
      "2024-09-07 18:58:49,790 ----------------------------------------------------------------------------------------------------\n",
      "2024-09-07 18:59:40,547 epoch 2 - iter 876/8762 - loss 0.10313069 - time (sec): 50.76 - samples/sec: 315.49 - lr: 0.010000 - momentum: 0.000000\n",
      "2024-09-07 19:00:31,022 epoch 2 - iter 1752/8762 - loss 0.11191604 - time (sec): 101.23 - samples/sec: 308.35 - lr: 0.010000 - momentum: 0.000000\n",
      "2024-09-07 19:01:22,178 epoch 2 - iter 2628/8762 - loss 0.10588968 - time (sec): 152.39 - samples/sec: 308.26 - lr: 0.010000 - momentum: 0.000000\n",
      "2024-09-07 19:02:13,430 epoch 2 - iter 3504/8762 - loss 0.10215125 - time (sec): 203.64 - samples/sec: 307.17 - lr: 0.010000 - momentum: 0.000000\n",
      "2024-09-07 19:03:04,859 epoch 2 - iter 4380/8762 - loss 0.10771823 - time (sec): 255.07 - samples/sec: 311.04 - lr: 0.010000 - momentum: 0.000000\n",
      "2024-09-07 19:03:54,618 epoch 2 - iter 5256/8762 - loss 0.10516532 - time (sec): 304.83 - samples/sec: 311.94 - lr: 0.010000 - momentum: 0.000000\n",
      "2024-09-07 19:04:47,166 epoch 2 - iter 6132/8762 - loss 0.10124818 - time (sec): 357.37 - samples/sec: 309.83 - lr: 0.010000 - momentum: 0.000000\n",
      "2024-09-07 19:05:38,781 epoch 2 - iter 7008/8762 - loss 0.09974236 - time (sec): 408.99 - samples/sec: 309.92 - lr: 0.010000 - momentum: 0.000000\n",
      "2024-09-07 19:06:30,069 epoch 2 - iter 7884/8762 - loss 0.09730570 - time (sec): 460.28 - samples/sec: 308.85 - lr: 0.010000 - momentum: 0.000000\n",
      "2024-09-07 19:07:21,490 epoch 2 - iter 8760/8762 - loss 0.09578652 - time (sec): 511.70 - samples/sec: 310.18 - lr: 0.010000 - momentum: 0.000000\n",
      "2024-09-07 19:07:21,610 ----------------------------------------------------------------------------------------------------\n",
      "2024-09-07 19:07:21,611 EPOCH 2 done: loss 0.0958 - lr: 0.010000\n"
     ]
    },
    {
     "name": "stderr",
     "output_type": "stream",
     "text": [
      "100%|██████████| 64/64 [00:06<00:00, 10.00it/s]\n"
     ]
    },
    {
     "name": "stdout",
     "output_type": "stream",
     "text": [
      "2024-09-07 19:07:28,100 TEST : loss 0.1416422724723816 - f1-score (micro avg)  0.7161\n",
      "2024-09-07 19:07:28,321  - 0 epochs without improvement\n",
      "2024-09-07 19:07:28,335 ----------------------------------------------------------------------------------------------------\n",
      "2024-09-07 19:08:19,910 epoch 3 - iter 876/8762 - loss 0.07094500 - time (sec): 51.57 - samples/sec: 302.92 - lr: 0.010000 - momentum: 0.000000\n",
      "2024-09-07 19:09:11,412 epoch 3 - iter 1752/8762 - loss 0.07028932 - time (sec): 103.07 - samples/sec: 306.14 - lr: 0.010000 - momentum: 0.000000\n",
      "2024-09-07 19:10:02,941 epoch 3 - iter 2628/8762 - loss 0.07405556 - time (sec): 154.60 - samples/sec: 305.85 - lr: 0.010000 - momentum: 0.000000\n",
      "2024-09-07 19:10:54,399 epoch 3 - iter 3504/8762 - loss 0.07505100 - time (sec): 206.06 - samples/sec: 307.73 - lr: 0.010000 - momentum: 0.000000\n",
      "2024-09-07 19:11:45,604 epoch 3 - iter 4380/8762 - loss 0.07328112 - time (sec): 257.27 - samples/sec: 308.44 - lr: 0.010000 - momentum: 0.000000\n",
      "2024-09-07 19:12:36,779 epoch 3 - iter 5256/8762 - loss 0.07301608 - time (sec): 308.44 - samples/sec: 305.92 - lr: 0.010000 - momentum: 0.000000\n",
      "2024-09-07 19:13:28,173 epoch 3 - iter 6132/8762 - loss 0.07232481 - time (sec): 359.83 - samples/sec: 307.69 - lr: 0.010000 - momentum: 0.000000\n",
      "2024-09-07 19:14:19,996 epoch 3 - iter 7008/8762 - loss 0.07146319 - time (sec): 411.66 - samples/sec: 310.92 - lr: 0.010000 - momentum: 0.000000\n",
      "2024-09-07 19:15:12,180 epoch 3 - iter 7884/8762 - loss 0.07110515 - time (sec): 463.84 - samples/sec: 309.57 - lr: 0.010000 - momentum: 0.000000\n",
      "2024-09-07 19:16:04,067 epoch 3 - iter 8760/8762 - loss 0.07140050 - time (sec): 515.73 - samples/sec: 307.76 - lr: 0.010000 - momentum: 0.000000\n",
      "2024-09-07 19:16:04,183 ----------------------------------------------------------------------------------------------------\n",
      "2024-09-07 19:16:04,184 EPOCH 3 done: loss 0.0714 - lr: 0.010000\n"
     ]
    },
    {
     "name": "stderr",
     "output_type": "stream",
     "text": [
      "100%|██████████| 64/64 [00:06<00:00, 10.32it/s]\n"
     ]
    },
    {
     "name": "stdout",
     "output_type": "stream",
     "text": [
      "2024-09-07 19:16:10,436 TEST : loss 0.13951894640922546 - f1-score (micro avg)  0.7209\n",
      "2024-09-07 19:16:10,655  - 0 epochs without improvement\n",
      "2024-09-07 19:16:10,669 ----------------------------------------------------------------------------------------------------\n",
      "2024-09-07 19:17:01,843 epoch 4 - iter 876/8762 - loss 0.06027371 - time (sec): 51.17 - samples/sec: 308.38 - lr: 0.010000 - momentum: 0.000000\n",
      "2024-09-07 19:17:53,820 epoch 4 - iter 1752/8762 - loss 0.05543883 - time (sec): 103.15 - samples/sec: 308.43 - lr: 0.010000 - momentum: 0.000000\n",
      "2024-09-07 19:18:44,239 epoch 4 - iter 2628/8762 - loss 0.05357077 - time (sec): 153.57 - samples/sec: 313.97 - lr: 0.010000 - momentum: 0.000000\n",
      "2024-09-07 19:19:34,989 epoch 4 - iter 3504/8762 - loss 0.04890137 - time (sec): 204.32 - samples/sec: 313.90 - lr: 0.010000 - momentum: 0.000000\n",
      "2024-09-07 19:20:24,984 epoch 4 - iter 4380/8762 - loss 0.05157646 - time (sec): 254.31 - samples/sec: 316.04 - lr: 0.010000 - momentum: 0.000000\n",
      "2024-09-07 19:21:16,164 epoch 4 - iter 5256/8762 - loss 0.05110036 - time (sec): 305.49 - samples/sec: 315.43 - lr: 0.010000 - momentum: 0.000000\n",
      "2024-09-07 19:22:06,679 epoch 4 - iter 6132/8762 - loss 0.05264361 - time (sec): 356.01 - samples/sec: 313.68 - lr: 0.010000 - momentum: 0.000000\n",
      "2024-09-07 19:22:58,205 epoch 4 - iter 7008/8762 - loss 0.05310516 - time (sec): 407.53 - samples/sec: 312.57 - lr: 0.010000 - momentum: 0.000000\n",
      "2024-09-07 19:23:49,285 epoch 4 - iter 7884/8762 - loss 0.05285988 - time (sec): 458.61 - samples/sec: 311.96 - lr: 0.010000 - momentum: 0.000000\n",
      "2024-09-07 19:24:40,616 epoch 4 - iter 8760/8762 - loss 0.05429792 - time (sec): 509.94 - samples/sec: 311.18 - lr: 0.010000 - momentum: 0.000000\n",
      "2024-09-07 19:24:40,732 ----------------------------------------------------------------------------------------------------\n",
      "2024-09-07 19:24:40,733 EPOCH 4 done: loss 0.0543 - lr: 0.010000\n"
     ]
    },
    {
     "name": "stderr",
     "output_type": "stream",
     "text": [
      "100%|██████████| 64/64 [00:06<00:00, 10.50it/s]\n"
     ]
    },
    {
     "name": "stdout",
     "output_type": "stream",
     "text": [
      "2024-09-07 19:24:46,891 TEST : loss 0.14645111560821533 - f1-score (micro avg)  0.7264\n",
      "2024-09-07 19:24:47,108  - 0 epochs without improvement\n",
      "2024-09-07 19:24:47,110 ----------------------------------------------------------------------------------------------------\n",
      "2024-09-07 19:25:37,894 epoch 5 - iter 876/8762 - loss 0.03730956 - time (sec): 50.78 - samples/sec: 314.91 - lr: 0.010000 - momentum: 0.000000\n",
      "2024-09-07 19:26:28,902 epoch 5 - iter 1752/8762 - loss 0.03845240 - time (sec): 101.79 - samples/sec: 312.54 - lr: 0.010000 - momentum: 0.000000\n",
      "2024-09-07 19:27:19,109 epoch 5 - iter 2628/8762 - loss 0.04482694 - time (sec): 152.00 - samples/sec: 320.59 - lr: 0.010000 - momentum: 0.000000\n",
      "2024-09-07 19:28:10,129 epoch 5 - iter 3504/8762 - loss 0.04397389 - time (sec): 203.02 - samples/sec: 316.99 - lr: 0.010000 - momentum: 0.000000\n",
      "2024-09-07 19:29:01,359 epoch 5 - iter 4380/8762 - loss 0.04485842 - time (sec): 254.25 - samples/sec: 314.59 - lr: 0.010000 - momentum: 0.000000\n",
      "2024-09-07 19:29:53,269 epoch 5 - iter 5256/8762 - loss 0.04406402 - time (sec): 306.16 - samples/sec: 312.49 - lr: 0.010000 - momentum: 0.000000\n",
      "2024-09-07 19:30:43,879 epoch 5 - iter 6132/8762 - loss 0.04251022 - time (sec): 356.77 - samples/sec: 312.28 - lr: 0.010000 - momentum: 0.000000\n",
      "2024-09-07 19:31:34,901 epoch 5 - iter 7008/8762 - loss 0.04276288 - time (sec): 407.79 - samples/sec: 310.91 - lr: 0.010000 - momentum: 0.000000\n",
      "2024-09-07 19:32:26,925 epoch 5 - iter 7884/8762 - loss 0.04165658 - time (sec): 459.81 - samples/sec: 311.46 - lr: 0.010000 - momentum: 0.000000\n",
      "2024-09-07 19:33:18,507 epoch 5 - iter 8760/8762 - loss 0.04065285 - time (sec): 511.40 - samples/sec: 310.38 - lr: 0.010000 - momentum: 0.000000\n",
      "2024-09-07 19:33:18,628 ----------------------------------------------------------------------------------------------------\n",
      "2024-09-07 19:33:18,629 EPOCH 5 done: loss 0.0407 - lr: 0.010000\n"
     ]
    },
    {
     "name": "stderr",
     "output_type": "stream",
     "text": [
      "100%|██████████| 64/64 [00:05<00:00, 11.22it/s]\n"
     ]
    },
    {
     "name": "stdout",
     "output_type": "stream",
     "text": [
      "2024-09-07 19:33:24,407 TEST : loss 0.15221591293811798 - f1-score (micro avg)  0.7264\n",
      "2024-09-07 19:33:24,638  - 0 epochs without improvement\n",
      "2024-09-07 19:33:24,652 ----------------------------------------------------------------------------------------------------\n",
      "2024-09-07 19:34:16,449 epoch 6 - iter 876/8762 - loss 0.03156520 - time (sec): 51.79 - samples/sec: 305.67 - lr: 0.010000 - momentum: 0.000000\n",
      "2024-09-07 19:35:08,213 epoch 6 - iter 1752/8762 - loss 0.03074747 - time (sec): 103.56 - samples/sec: 306.62 - lr: 0.010000 - momentum: 0.000000\n",
      "2024-09-07 19:36:01,197 epoch 6 - iter 2628/8762 - loss 0.03439549 - time (sec): 156.54 - samples/sec: 303.38 - lr: 0.010000 - momentum: 0.000000\n",
      "2024-09-07 19:36:51,633 epoch 6 - iter 3504/8762 - loss 0.03321529 - time (sec): 206.98 - samples/sec: 306.24 - lr: 0.010000 - momentum: 0.000000\n",
      "2024-09-07 19:37:42,871 epoch 6 - iter 4380/8762 - loss 0.03236806 - time (sec): 258.22 - samples/sec: 309.28 - lr: 0.010000 - momentum: 0.000000\n",
      "2024-09-07 19:38:36,106 epoch 6 - iter 5256/8762 - loss 0.03177354 - time (sec): 311.45 - samples/sec: 306.38 - lr: 0.010000 - momentum: 0.000000\n",
      "2024-09-07 19:39:28,071 epoch 6 - iter 6132/8762 - loss 0.03027783 - time (sec): 363.42 - samples/sec: 307.15 - lr: 0.010000 - momentum: 0.000000\n",
      "2024-09-07 19:40:20,064 epoch 6 - iter 7008/8762 - loss 0.03025571 - time (sec): 415.41 - samples/sec: 306.84 - lr: 0.010000 - momentum: 0.000000\n",
      "2024-09-07 19:41:11,455 epoch 6 - iter 7884/8762 - loss 0.03032636 - time (sec): 466.80 - samples/sec: 306.63 - lr: 0.010000 - momentum: 0.000000\n",
      "2024-09-07 19:42:01,490 epoch 6 - iter 8760/8762 - loss 0.03114021 - time (sec): 516.84 - samples/sec: 307.08 - lr: 0.010000 - momentum: 0.000000\n",
      "2024-09-07 19:42:01,602 ----------------------------------------------------------------------------------------------------\n",
      "2024-09-07 19:42:01,603 EPOCH 6 done: loss 0.0311 - lr: 0.010000\n"
     ]
    },
    {
     "name": "stderr",
     "output_type": "stream",
     "text": [
      "100%|██████████| 64/64 [00:06<00:00, 10.28it/s]"
     ]
    },
    {
     "name": "stdout",
     "output_type": "stream",
     "text": [
      "2024-09-07 19:42:07,925 TEST : loss 0.16165336966514587 - f1-score (micro avg)  0.7239\n"
     ]
    },
    {
     "name": "stderr",
     "output_type": "stream",
     "text": [
      "\n"
     ]
    },
    {
     "name": "stdout",
     "output_type": "stream",
     "text": [
      "2024-09-07 19:42:08,318  - 0 epochs without improvement\n",
      "2024-09-07 19:42:08,331 ----------------------------------------------------------------------------------------------------\n",
      "2024-09-07 19:42:58,194 epoch 7 - iter 876/8762 - loss 0.02135570 - time (sec): 49.86 - samples/sec: 299.68 - lr: 0.010000 - momentum: 0.000000\n",
      "2024-09-07 19:43:48,613 epoch 7 - iter 1752/8762 - loss 0.01864068 - time (sec): 100.28 - samples/sec: 312.79 - lr: 0.010000 - momentum: 0.000000\n",
      "2024-09-07 19:44:39,655 epoch 7 - iter 2628/8762 - loss 0.02326518 - time (sec): 151.32 - samples/sec: 313.39 - lr: 0.010000 - momentum: 0.000000\n",
      "2024-09-07 19:45:30,291 epoch 7 - iter 3504/8762 - loss 0.02272481 - time (sec): 201.96 - samples/sec: 311.31 - lr: 0.010000 - momentum: 0.000000\n",
      "2024-09-07 19:46:20,841 epoch 7 - iter 4380/8762 - loss 0.02197320 - time (sec): 252.51 - samples/sec: 311.86 - lr: 0.010000 - momentum: 0.000000\n",
      "2024-09-07 19:47:11,898 epoch 7 - iter 5256/8762 - loss 0.02158587 - time (sec): 303.56 - samples/sec: 313.82 - lr: 0.010000 - momentum: 0.000000\n",
      "2024-09-07 19:48:02,987 epoch 7 - iter 6132/8762 - loss 0.02245219 - time (sec): 354.65 - samples/sec: 312.05 - lr: 0.010000 - momentum: 0.000000\n",
      "2024-09-07 19:48:54,131 epoch 7 - iter 7008/8762 - loss 0.02298986 - time (sec): 405.80 - samples/sec: 312.89 - lr: 0.010000 - momentum: 0.000000\n",
      "2024-09-07 19:49:45,079 epoch 7 - iter 7884/8762 - loss 0.02289198 - time (sec): 456.75 - samples/sec: 312.29 - lr: 0.010000 - momentum: 0.000000\n",
      "2024-09-07 19:50:36,221 epoch 7 - iter 8760/8762 - loss 0.02378696 - time (sec): 507.89 - samples/sec: 312.49 - lr: 0.010000 - momentum: 0.000000\n",
      "2024-09-07 19:50:36,336 ----------------------------------------------------------------------------------------------------\n",
      "2024-09-07 19:50:36,337 EPOCH 7 done: loss 0.0238 - lr: 0.010000\n"
     ]
    },
    {
     "name": "stderr",
     "output_type": "stream",
     "text": [
      "100%|██████████| 64/64 [00:06<00:00, 10.53it/s]\n"
     ]
    },
    {
     "name": "stdout",
     "output_type": "stream",
     "text": [
      "2024-09-07 19:50:42,468 TEST : loss 0.17556937038898468 - f1-score (micro avg)  0.7155\n",
      "2024-09-07 19:50:42,687  - 0 epochs without improvement\n",
      "2024-09-07 19:50:42,689 ----------------------------------------------------------------------------------------------------\n",
      "2024-09-07 19:51:33,166 epoch 8 - iter 876/8762 - loss 0.02269852 - time (sec): 50.48 - samples/sec: 310.07 - lr: 0.010000 - momentum: 0.000000\n",
      "2024-09-07 19:52:24,479 epoch 8 - iter 1752/8762 - loss 0.02014558 - time (sec): 101.79 - samples/sec: 312.85 - lr: 0.010000 - momentum: 0.000000\n",
      "2024-09-07 19:53:15,774 epoch 8 - iter 2628/8762 - loss 0.01910202 - time (sec): 153.08 - samples/sec: 309.53 - lr: 0.010000 - momentum: 0.000000\n",
      "2024-09-07 19:54:07,071 epoch 8 - iter 3504/8762 - loss 0.01848796 - time (sec): 204.38 - samples/sec: 315.05 - lr: 0.010000 - momentum: 0.000000\n",
      "2024-09-07 19:54:56,979 epoch 8 - iter 4380/8762 - loss 0.01812296 - time (sec): 254.29 - samples/sec: 316.22 - lr: 0.010000 - momentum: 0.000000\n",
      "2024-09-07 19:55:48,654 epoch 8 - iter 5256/8762 - loss 0.01873390 - time (sec): 305.96 - samples/sec: 315.01 - lr: 0.010000 - momentum: 0.000000\n",
      "2024-09-07 19:56:46,810 epoch 8 - iter 6132/8762 - loss 0.01978867 - time (sec): 364.12 - samples/sec: 307.12 - lr: 0.010000 - momentum: 0.000000\n",
      "2024-09-07 19:57:38,082 epoch 8 - iter 7008/8762 - loss 0.01999411 - time (sec): 415.39 - samples/sec: 307.52 - lr: 0.010000 - momentum: 0.000000\n",
      "2024-09-07 19:58:27,536 epoch 8 - iter 7884/8762 - loss 0.01936176 - time (sec): 464.85 - samples/sec: 307.45 - lr: 0.010000 - momentum: 0.000000\n",
      "2024-09-07 19:59:16,944 epoch 8 - iter 8760/8762 - loss 0.01869029 - time (sec): 514.25 - samples/sec: 308.57 - lr: 0.010000 - momentum: 0.000000\n",
      "2024-09-07 19:59:17,323 ----------------------------------------------------------------------------------------------------\n",
      "2024-09-07 19:59:17,324 EPOCH 8 done: loss 0.0188 - lr: 0.010000\n"
     ]
    },
    {
     "name": "stderr",
     "output_type": "stream",
     "text": [
      "100%|██████████| 64/64 [00:09<00:00,  6.71it/s]\n"
     ]
    },
    {
     "name": "stdout",
     "output_type": "stream",
     "text": [
      "2024-09-07 19:59:27,286 TEST : loss 0.18282370269298553 - f1-score (micro avg)  0.7115\n",
      "2024-09-07 19:59:27,500  - 0 epochs without improvement\n",
      "2024-09-07 19:59:27,515 ----------------------------------------------------------------------------------------------------\n",
      "2024-09-07 20:00:18,582 epoch 9 - iter 876/8762 - loss 0.01955674 - time (sec): 51.07 - samples/sec: 305.98 - lr: 0.010000 - momentum: 0.000000\n",
      "2024-09-07 20:01:08,560 epoch 9 - iter 1752/8762 - loss 0.01919997 - time (sec): 101.04 - samples/sec: 308.89 - lr: 0.010000 - momentum: 0.000000\n",
      "2024-09-07 20:01:57,824 epoch 9 - iter 2628/8762 - loss 0.01733555 - time (sec): 150.31 - samples/sec: 313.66 - lr: 0.010000 - momentum: 0.000000\n",
      "2024-09-07 20:02:48,186 epoch 9 - iter 3504/8762 - loss 0.01582078 - time (sec): 200.67 - samples/sec: 311.45 - lr: 0.010000 - momentum: 0.000000\n",
      "2024-09-07 20:03:38,642 epoch 9 - iter 4380/8762 - loss 0.01507271 - time (sec): 251.13 - samples/sec: 313.64 - lr: 0.010000 - momentum: 0.000000\n",
      "2024-09-07 20:04:29,253 epoch 9 - iter 5256/8762 - loss 0.01429087 - time (sec): 301.74 - samples/sec: 312.55 - lr: 0.010000 - momentum: 0.000000\n",
      "2024-09-07 20:05:19,555 epoch 9 - iter 6132/8762 - loss 0.01464057 - time (sec): 352.04 - samples/sec: 314.72 - lr: 0.010000 - momentum: 0.000000\n",
      "2024-09-07 20:06:10,213 epoch 9 - iter 7008/8762 - loss 0.01526165 - time (sec): 402.70 - samples/sec: 315.26 - lr: 0.010000 - momentum: 0.000000\n",
      "2024-09-07 20:07:01,708 epoch 9 - iter 7884/8762 - loss 0.01479311 - time (sec): 454.19 - samples/sec: 312.24 - lr: 0.010000 - momentum: 0.000000\n",
      "2024-09-07 20:07:53,637 epoch 9 - iter 8760/8762 - loss 0.01477393 - time (sec): 506.12 - samples/sec: 313.61 - lr: 0.010000 - momentum: 0.000000\n",
      "2024-09-07 20:07:53,758 ----------------------------------------------------------------------------------------------------\n",
      "2024-09-07 20:07:53,759 EPOCH 9 done: loss 0.0148 - lr: 0.010000\n"
     ]
    },
    {
     "name": "stderr",
     "output_type": "stream",
     "text": [
      "100%|██████████| 64/64 [00:06<00:00, 10.42it/s]\n"
     ]
    },
    {
     "name": "stdout",
     "output_type": "stream",
     "text": [
      "2024-09-07 20:07:59,954 TEST : loss 0.19461259245872498 - f1-score (micro avg)  0.7097\n",
      "2024-09-07 20:08:00,173  - 0 epochs without improvement\n",
      "2024-09-07 20:08:00,175 ----------------------------------------------------------------------------------------------------\n",
      "2024-09-07 20:08:51,567 epoch 10 - iter 876/8762 - loss 0.00919409 - time (sec): 51.39 - samples/sec: 318.98 - lr: 0.010000 - momentum: 0.000000\n",
      "2024-09-07 20:09:42,482 epoch 10 - iter 1752/8762 - loss 0.01045699 - time (sec): 102.31 - samples/sec: 313.44 - lr: 0.010000 - momentum: 0.000000\n",
      "2024-09-07 20:10:33,747 epoch 10 - iter 2628/8762 - loss 0.01149338 - time (sec): 153.57 - samples/sec: 312.28 - lr: 0.010000 - momentum: 0.000000\n",
      "2024-09-07 20:11:24,622 epoch 10 - iter 3504/8762 - loss 0.01194718 - time (sec): 204.45 - samples/sec: 307.77 - lr: 0.010000 - momentum: 0.000000\n",
      "2024-09-07 20:12:15,484 epoch 10 - iter 4380/8762 - loss 0.01218600 - time (sec): 255.31 - samples/sec: 306.77 - lr: 0.010000 - momentum: 0.000000\n",
      "2024-09-07 20:13:06,763 epoch 10 - iter 5256/8762 - loss 0.01142311 - time (sec): 306.59 - samples/sec: 309.01 - lr: 0.010000 - momentum: 0.000000\n",
      "2024-09-07 20:13:57,838 epoch 10 - iter 6132/8762 - loss 0.01236753 - time (sec): 357.66 - samples/sec: 309.32 - lr: 0.010000 - momentum: 0.000000\n",
      "2024-09-07 20:14:48,613 epoch 10 - iter 7008/8762 - loss 0.01219999 - time (sec): 408.44 - samples/sec: 309.20 - lr: 0.010000 - momentum: 0.000000\n",
      "2024-09-07 20:15:39,698 epoch 10 - iter 7884/8762 - loss 0.01216640 - time (sec): 459.52 - samples/sec: 309.28 - lr: 0.010000 - momentum: 0.000000\n",
      "2024-09-07 20:16:30,825 epoch 10 - iter 8760/8762 - loss 0.01278781 - time (sec): 510.65 - samples/sec: 310.77 - lr: 0.010000 - momentum: 0.000000\n",
      "2024-09-07 20:16:30,947 ----------------------------------------------------------------------------------------------------\n",
      "2024-09-07 20:16:30,947 EPOCH 10 done: loss 0.0128 - lr: 0.010000\n"
     ]
    },
    {
     "name": "stderr",
     "output_type": "stream",
     "text": [
      "100%|██████████| 64/64 [00:06<00:00, 10.51it/s]"
     ]
    },
    {
     "name": "stdout",
     "output_type": "stream",
     "text": [
      "2024-09-07 20:16:37,084 TEST : loss 0.20052605867385864 - f1-score (micro avg)  0.7083\n"
     ]
    },
    {
     "name": "stderr",
     "output_type": "stream",
     "text": [
      "\n"
     ]
    },
    {
     "name": "stdout",
     "output_type": "stream",
     "text": [
      "2024-09-07 20:16:37,300  - 0 epochs without improvement\n",
      "2024-09-07 20:16:44,948 ----------------------------------------------------------------------------------------------------\n",
      "2024-09-07 20:16:44,971 Testing using last state of model ...\n"
     ]
    },
    {
     "name": "stderr",
     "output_type": "stream",
     "text": [
      "100%|██████████| 64/64 [00:06<00:00,  9.62it/s]\n"
     ]
    },
    {
     "name": "stdout",
     "output_type": "stream",
     "text": [
      "2024-09-07 20:16:51,815 \n",
      "Results:\n",
      "- F-score (micro) 0.7083\n",
      "- F-score (macro) 0.4936\n",
      "- Accuracy 0.6273\n",
      "\n",
      "By class:\n",
      "              precision    recall  f1-score   support\n",
      "\n",
      "        PERS     0.9090    0.8278    0.8665      1678\n",
      "         ORG     0.2791    0.6705    0.3941       261\n",
      "         LOC     0.6410    0.7257    0.6807       401\n",
      "        MISC     0.0794    0.0208    0.0330       240\n",
      "\n",
      "   micro avg     0.6961    0.7209    0.7083      2580\n",
      "   macro avg     0.4771    0.5612    0.4936      2580\n",
      "weighted avg     0.7265    0.7209    0.7123      2580\n",
      "\n",
      "2024-09-07 20:16:51,816 ----------------------------------------------------------------------------------------------------\n"
     ]
    },
    {
     "data": {
      "text/plain": [
       "{'test_score': 0.7083015993907081}"
      ]
     },
     "execution_count": 6,
     "metadata": {},
     "output_type": "execute_result"
    }
   ],
   "source": [
    "trainer.train(finetuned_model_name,\n",
    "              learning_rate=0.01,\n",
    "              mini_batch_size=1,\n",
    "              max_epochs=10,\n",
    "              embeddings_storage_mode='cpu',\n",
    "              #main_evaluation_metric='f1',\n",
    "              monitor_test=True,\n",
    "              #use_amp=True,\n",
    "              train_with_dev=True) "
   ]
  },
  {
   "cell_type": "markdown",
   "metadata": {},
   "source": [
    "Lets evaluate it"
   ]
  },
  {
   "cell_type": "code",
   "execution_count": 7,
   "metadata": {},
   "outputs": [
    {
     "name": "stderr",
     "output_type": "stream",
     "text": [
      "100%|██████████| 127/127 [00:50<00:00,  2.52it/s]"
     ]
    },
    {
     "name": "stdout",
     "output_type": "stream",
     "text": [
      "\n",
      "Results:\n",
      "- F-score (micro) 0.8018\n",
      "- F-score (macro) 0.6901\n",
      "- Accuracy 0.7308\n",
      "\n",
      "By class:\n",
      "              precision    recall  f1-score   support\n",
      "\n",
      "        PERS     0.9152    0.8743    0.8942      1678\n",
      "         LOC     0.7127    0.7855    0.7473       401\n",
      "        MISC     0.4641    0.5917    0.5201       240\n",
      "         ORG     0.6120    0.5862    0.5988       261\n",
      "\n",
      "   micro avg     0.7985    0.8050    0.8018      2580\n",
      "   macro avg     0.6760    0.7094    0.6901      2580\n",
      "weighted avg     0.8111    0.8050    0.8067      2580\n",
      "\n"
     ]
    },
    {
     "name": "stderr",
     "output_type": "stream",
     "text": [
      "\n"
     ]
    }
   ],
   "source": [
    "result = tagger.evaluate(corpus.test, gold_label_type='ner')  # Evaluate on the test set\n",
    "print(result.detailed_results)"
   ]
  },
  {
   "cell_type": "markdown",
   "metadata": {},
   "source": [
    "Lets test with own data"
   ]
  },
  {
   "cell_type": "code",
   "execution_count": 15,
   "metadata": {},
   "outputs": [
    {
     "name": "stdout",
     "output_type": "stream",
     "text": [
      "2024-09-07 20:25:58,049 SequenceTagger predicts: Dictionary with 17 tags: O, S-PERS, B-PERS, E-PERS, I-PERS, S-LOC, B-LOC, E-LOC, I-LOC, S-ORG, B-ORG, E-ORG, I-ORG, S-MISC, B-MISC, E-MISC, I-MISC\n",
      "Привіт , мене звати [Тімо|(PERS=100.0%)] і я живу в [Турку|(LOC=100.0%)] , навчаюсь в [Универсітеті|(ORG=90.3%)] Турку\n",
      "Тімо [Юнолайнен|(PERS=100.0%)] живе в місті [Турку|(LOC=100.0%)] й навчається в [Університеті|(ORG=99.7%)] міста Турку .\n",
      "Місто [Турку|(LOC=100.0%)] розташоване на південно-західному узбережжі [Фінляндії|(LOC=100.0%)] .\n",
      "В [Турку|(LOC=99.8%)] є поліція , й вона вельми корумпована\n",
      "У [Турку|(LOC=100.0%)] проходить щорічний фестиваль музики та мистецтв .\n",
      "Тімо [Юнолайнен|(PERS=93.4%)] , професор в [Університеті|(ORG=99.6%)] міста Турку , співпрацює з організацією \" [Турку|(ORG=99.5%)] Інститут \" для розробки нових проектів у [Турку|(LOC=100.0%)] .\n"
     ]
    }
   ],
   "source": [
    "finetuned_model = SequenceTagger.load('/home/sginne/src/master_thesis/colab/dist-finetuned.04/final-model.pt')\n",
    "def print_tagged_sentences(sentences, model=None):\n",
    "    # Load model only if not already loaded\n",
    "    \n",
    "    for text in sentences:\n",
    "        sentence = Sentence(text)  # Create Sentence object\n",
    "        model.predict(sentence)    # Predict tags\n",
    "        #print (sentence.to_tagged_string())\n",
    "        tagged_sentence = []\n",
    "        spans=sentence.get_spans('ner')\n",
    "    \n",
    "        #for span in spans:\n",
    "        #    print (\"Span:\",span.get_label('ner').value)\n",
    "        #    print (\"Span:\",span.get_label('ner').score)\n",
    "        i=0\n",
    "        for token in sentence:\n",
    "            if i!=len(spans):\n",
    "                if (token==spans[i][0]):\n",
    "                    current_tag_token=spans[i]\n",
    "                    current_tag_value=current_tag_token.get_label('ner').value\n",
    "                    current_tag_score=current_tag_token.get_label('ner').score\n",
    "                    tagged_sentence.append(f'[{token.text}|({current_tag_value}={current_tag_score*100:.1f}%)]')\n",
    "                    i=i+1\n",
    "                else:\n",
    "                    tagged_sentence.append(token.text)\n",
    "            else:\n",
    "                tagged_sentence.append(token.text)\n",
    "\n",
    "        print ( ' '.join(tagged_sentence))\n",
    "\n",
    "sentences = [\n",
    "    'Привіт , мене звати Тімо і я живу в Турку , навчаюсь в Универсітеті Турку',\n",
    "    'Тімо Юнолайнен живе в місті Турку й навчається в Університеті міста Турку.',\n",
    "    'Місто Турку розташоване на південно-західному узбережжі Фінляндії.',\n",
    "    'В Турку є поліція, й вона вельми корумпована',\n",
    "    'У Турку проходить щорічний фестиваль музики та мистецтв.',\n",
    "    'Тімо Юнолайнен, професор в Університеті міста Турку, співпрацює з організацією \"Турку Інститут\" для розробки нових проектів у Турку.'\n",
    "]\n",
    "\n",
    "print_tagged_sentences(sentences, finetuned_model)"
   ]
  },
  {
   "cell_type": "code",
   "execution_count": null,
   "metadata": {},
   "outputs": [],
   "source": []
  }
 ],
 "metadata": {
  "kernelspec": {
   "display_name": "flair_env",
   "language": "python",
   "name": "python3"
  },
  "language_info": {
   "codemirror_mode": {
    "name": "ipython",
    "version": 3
   },
   "file_extension": ".py",
   "mimetype": "text/x-python",
   "name": "python",
   "nbconvert_exporter": "python",
   "pygments_lexer": "ipython3",
   "version": "3.8.19"
  }
 },
 "nbformat": 4,
 "nbformat_minor": 2
}
