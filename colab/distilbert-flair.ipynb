{
 "cells": [
  {
   "cell_type": "markdown",
   "metadata": {},
   "source": [
    "1.Lets install and invoke packages."
   ]
  },
  {
   "cell_type": "code",
   "execution_count": 1,
   "metadata": {},
   "outputs": [
    {
     "name": "stdout",
     "output_type": "stream",
     "text": [
      "Requirement already satisfied: flair in /home/sginne/anaconda3/envs/flair_env/lib/python3.8/site-packages (0.14.0)\n",
      "Requirement already satisfied: boto3>=1.20.27 in /home/sginne/anaconda3/envs/flair_env/lib/python3.8/site-packages (from flair) (1.35.13)\n",
      "Requirement already satisfied: conllu<5.0.0,>=4.0 in /home/sginne/anaconda3/envs/flair_env/lib/python3.8/site-packages (from flair) (4.5.3)\n",
      "Requirement already satisfied: deprecated>=1.2.13 in /home/sginne/anaconda3/envs/flair_env/lib/python3.8/site-packages (from flair) (1.2.14)\n",
      "Requirement already satisfied: ftfy>=6.1.0 in /home/sginne/anaconda3/envs/flair_env/lib/python3.8/site-packages (from flair) (6.2.3)\n",
      "Requirement already satisfied: gdown>=4.4.0 in /home/sginne/anaconda3/envs/flair_env/lib/python3.8/site-packages (from flair) (5.2.0)\n",
      "Requirement already satisfied: huggingface-hub>=0.10.0 in /home/sginne/anaconda3/envs/flair_env/lib/python3.8/site-packages (from flair) (0.24.6)\n",
      "Requirement already satisfied: langdetect>=1.0.9 in /home/sginne/anaconda3/envs/flair_env/lib/python3.8/site-packages (from flair) (1.0.9)\n",
      "Requirement already satisfied: lxml>=4.8.0 in /home/sginne/anaconda3/envs/flair_env/lib/python3.8/site-packages (from flair) (5.3.0)\n",
      "Requirement already satisfied: matplotlib>=2.2.3 in /home/sginne/anaconda3/envs/flair_env/lib/python3.8/site-packages (from flair) (3.7.5)\n",
      "Requirement already satisfied: more-itertools>=8.13.0 in /home/sginne/anaconda3/envs/flair_env/lib/python3.8/site-packages (from flair) (10.5.0)\n",
      "Requirement already satisfied: mpld3>=0.3 in /home/sginne/anaconda3/envs/flair_env/lib/python3.8/site-packages (from flair) (0.5.10)\n",
      "Requirement already satisfied: pptree>=3.1 in /home/sginne/anaconda3/envs/flair_env/lib/python3.8/site-packages (from flair) (3.1)\n",
      "Requirement already satisfied: python-dateutil>=2.8.2 in /home/sginne/anaconda3/envs/flair_env/lib/python3.8/site-packages (from flair) (2.9.0)\n",
      "Requirement already satisfied: pytorch-revgrad>=0.2.0 in /home/sginne/anaconda3/envs/flair_env/lib/python3.8/site-packages (from flair) (0.2.0)\n",
      "Requirement already satisfied: regex>=2022.1.18 in /home/sginne/anaconda3/envs/flair_env/lib/python3.8/site-packages (from flair) (2024.7.24)\n",
      "Requirement already satisfied: scikit-learn>=1.0.2 in /home/sginne/anaconda3/envs/flair_env/lib/python3.8/site-packages (from flair) (1.3.2)\n",
      "Requirement already satisfied: segtok>=1.5.11 in /home/sginne/anaconda3/envs/flair_env/lib/python3.8/site-packages (from flair) (1.5.11)\n",
      "Requirement already satisfied: sqlitedict>=2.0.0 in /home/sginne/anaconda3/envs/flair_env/lib/python3.8/site-packages (from flair) (2.1.0)\n",
      "Requirement already satisfied: tabulate>=0.8.10 in /home/sginne/anaconda3/envs/flair_env/lib/python3.8/site-packages (from flair) (0.9.0)\n",
      "Requirement already satisfied: torch!=1.8,>=1.5.0 in /home/sginne/anaconda3/envs/flair_env/lib/python3.8/site-packages (from flair) (2.4.1)\n",
      "Requirement already satisfied: tqdm>=4.63.0 in /home/sginne/anaconda3/envs/flair_env/lib/python3.8/site-packages (from flair) (4.66.5)\n",
      "Requirement already satisfied: transformer-smaller-training-vocab>=0.2.3 in /home/sginne/anaconda3/envs/flair_env/lib/python3.8/site-packages (from flair) (0.4.0)\n",
      "Requirement already satisfied: transformers<5.0.0,>=4.18.0 in /home/sginne/anaconda3/envs/flair_env/lib/python3.8/site-packages (from transformers[sentencepiece]<5.0.0,>=4.18.0->flair) (4.44.2)\n",
      "Requirement already satisfied: wikipedia-api>=0.5.7 in /home/sginne/anaconda3/envs/flair_env/lib/python3.8/site-packages (from flair) (0.7.1)\n",
      "Requirement already satisfied: semver<4.0.0,>=3.0.0 in /home/sginne/anaconda3/envs/flair_env/lib/python3.8/site-packages (from flair) (3.0.2)\n",
      "Requirement already satisfied: bioc<3.0.0,>=2.0.0 in /home/sginne/anaconda3/envs/flair_env/lib/python3.8/site-packages (from flair) (2.1)\n",
      "Requirement already satisfied: jsonlines>=1.2.0 in /home/sginne/anaconda3/envs/flair_env/lib/python3.8/site-packages (from bioc<3.0.0,>=2.0.0->flair) (4.0.0)\n",
      "Requirement already satisfied: intervaltree in /home/sginne/anaconda3/envs/flair_env/lib/python3.8/site-packages (from bioc<3.0.0,>=2.0.0->flair) (3.1.0)\n",
      "Requirement already satisfied: docopt in /home/sginne/anaconda3/envs/flair_env/lib/python3.8/site-packages (from bioc<3.0.0,>=2.0.0->flair) (0.6.2)\n",
      "Requirement already satisfied: botocore<1.36.0,>=1.35.13 in /home/sginne/anaconda3/envs/flair_env/lib/python3.8/site-packages (from boto3>=1.20.27->flair) (1.35.13)\n",
      "Requirement already satisfied: jmespath<2.0.0,>=0.7.1 in /home/sginne/anaconda3/envs/flair_env/lib/python3.8/site-packages (from boto3>=1.20.27->flair) (1.0.1)\n",
      "Requirement already satisfied: s3transfer<0.11.0,>=0.10.0 in /home/sginne/anaconda3/envs/flair_env/lib/python3.8/site-packages (from boto3>=1.20.27->flair) (0.10.2)\n",
      "Requirement already satisfied: wrapt<2,>=1.10 in /home/sginne/anaconda3/envs/flair_env/lib/python3.8/site-packages (from deprecated>=1.2.13->flair) (1.16.0)\n",
      "Requirement already satisfied: wcwidth<0.3.0,>=0.2.12 in /home/sginne/anaconda3/envs/flair_env/lib/python3.8/site-packages (from ftfy>=6.1.0->flair) (0.2.13)\n",
      "Requirement already satisfied: beautifulsoup4 in /home/sginne/anaconda3/envs/flair_env/lib/python3.8/site-packages (from gdown>=4.4.0->flair) (4.12.3)\n",
      "Requirement already satisfied: filelock in /home/sginne/anaconda3/envs/flair_env/lib/python3.8/site-packages (from gdown>=4.4.0->flair) (3.15.4)\n",
      "Requirement already satisfied: requests[socks] in /home/sginne/anaconda3/envs/flair_env/lib/python3.8/site-packages (from gdown>=4.4.0->flair) (2.32.3)\n",
      "Requirement already satisfied: fsspec>=2023.5.0 in /home/sginne/anaconda3/envs/flair_env/lib/python3.8/site-packages (from huggingface-hub>=0.10.0->flair) (2024.9.0)\n",
      "Requirement already satisfied: packaging>=20.9 in /home/sginne/anaconda3/envs/flair_env/lib/python3.8/site-packages (from huggingface-hub>=0.10.0->flair) (24.1)\n",
      "Requirement already satisfied: pyyaml>=5.1 in /home/sginne/anaconda3/envs/flair_env/lib/python3.8/site-packages (from huggingface-hub>=0.10.0->flair) (6.0.2)\n",
      "Requirement already satisfied: typing-extensions>=3.7.4.3 in /home/sginne/anaconda3/envs/flair_env/lib/python3.8/site-packages (from huggingface-hub>=0.10.0->flair) (4.12.2)\n",
      "Requirement already satisfied: six in /home/sginne/anaconda3/envs/flair_env/lib/python3.8/site-packages (from langdetect>=1.0.9->flair) (1.16.0)\n",
      "Requirement already satisfied: contourpy>=1.0.1 in /home/sginne/anaconda3/envs/flair_env/lib/python3.8/site-packages (from matplotlib>=2.2.3->flair) (1.1.1)\n",
      "Requirement already satisfied: cycler>=0.10 in /home/sginne/anaconda3/envs/flair_env/lib/python3.8/site-packages (from matplotlib>=2.2.3->flair) (0.12.1)\n",
      "Requirement already satisfied: fonttools>=4.22.0 in /home/sginne/anaconda3/envs/flair_env/lib/python3.8/site-packages (from matplotlib>=2.2.3->flair) (4.53.1)\n",
      "Requirement already satisfied: kiwisolver>=1.0.1 in /home/sginne/anaconda3/envs/flair_env/lib/python3.8/site-packages (from matplotlib>=2.2.3->flair) (1.4.7)\n",
      "Requirement already satisfied: numpy<2,>=1.20 in /home/sginne/anaconda3/envs/flair_env/lib/python3.8/site-packages (from matplotlib>=2.2.3->flair) (1.24.4)\n",
      "Requirement already satisfied: pillow>=6.2.0 in /home/sginne/anaconda3/envs/flair_env/lib/python3.8/site-packages (from matplotlib>=2.2.3->flair) (10.4.0)\n",
      "Requirement already satisfied: pyparsing>=2.3.1 in /home/sginne/anaconda3/envs/flair_env/lib/python3.8/site-packages (from matplotlib>=2.2.3->flair) (3.1.4)\n",
      "Requirement already satisfied: importlib-resources>=3.2.0 in /home/sginne/anaconda3/envs/flair_env/lib/python3.8/site-packages (from matplotlib>=2.2.3->flair) (6.4.4)\n",
      "Requirement already satisfied: jinja2 in /home/sginne/anaconda3/envs/flair_env/lib/python3.8/site-packages (from mpld3>=0.3->flair) (3.1.4)\n",
      "Requirement already satisfied: scipy>=1.5.0 in /home/sginne/anaconda3/envs/flair_env/lib/python3.8/site-packages (from scikit-learn>=1.0.2->flair) (1.10.1)\n",
      "Requirement already satisfied: joblib>=1.1.1 in /home/sginne/anaconda3/envs/flair_env/lib/python3.8/site-packages (from scikit-learn>=1.0.2->flair) (1.4.2)\n",
      "Requirement already satisfied: threadpoolctl>=2.0.0 in /home/sginne/anaconda3/envs/flair_env/lib/python3.8/site-packages (from scikit-learn>=1.0.2->flair) (3.5.0)\n",
      "Requirement already satisfied: sympy in /home/sginne/anaconda3/envs/flair_env/lib/python3.8/site-packages (from torch!=1.8,>=1.5.0->flair) (1.13.2)\n",
      "Requirement already satisfied: networkx in /home/sginne/anaconda3/envs/flair_env/lib/python3.8/site-packages (from torch!=1.8,>=1.5.0->flair) (3.1)\n",
      "Requirement already satisfied: nvidia-cuda-nvrtc-cu12==12.1.105 in /home/sginne/anaconda3/envs/flair_env/lib/python3.8/site-packages (from torch!=1.8,>=1.5.0->flair) (12.1.105)\n",
      "Requirement already satisfied: nvidia-cuda-runtime-cu12==12.1.105 in /home/sginne/anaconda3/envs/flair_env/lib/python3.8/site-packages (from torch!=1.8,>=1.5.0->flair) (12.1.105)\n",
      "Requirement already satisfied: nvidia-cuda-cupti-cu12==12.1.105 in /home/sginne/anaconda3/envs/flair_env/lib/python3.8/site-packages (from torch!=1.8,>=1.5.0->flair) (12.1.105)\n",
      "Requirement already satisfied: nvidia-cudnn-cu12==9.1.0.70 in /home/sginne/anaconda3/envs/flair_env/lib/python3.8/site-packages (from torch!=1.8,>=1.5.0->flair) (9.1.0.70)\n",
      "Requirement already satisfied: nvidia-cublas-cu12==12.1.3.1 in /home/sginne/anaconda3/envs/flair_env/lib/python3.8/site-packages (from torch!=1.8,>=1.5.0->flair) (12.1.3.1)\n",
      "Requirement already satisfied: nvidia-cufft-cu12==11.0.2.54 in /home/sginne/anaconda3/envs/flair_env/lib/python3.8/site-packages (from torch!=1.8,>=1.5.0->flair) (11.0.2.54)\n",
      "Requirement already satisfied: nvidia-curand-cu12==10.3.2.106 in /home/sginne/anaconda3/envs/flair_env/lib/python3.8/site-packages (from torch!=1.8,>=1.5.0->flair) (10.3.2.106)\n",
      "Requirement already satisfied: nvidia-cusolver-cu12==11.4.5.107 in /home/sginne/anaconda3/envs/flair_env/lib/python3.8/site-packages (from torch!=1.8,>=1.5.0->flair) (11.4.5.107)\n",
      "Requirement already satisfied: nvidia-cusparse-cu12==12.1.0.106 in /home/sginne/anaconda3/envs/flair_env/lib/python3.8/site-packages (from torch!=1.8,>=1.5.0->flair) (12.1.0.106)\n",
      "Requirement already satisfied: nvidia-nccl-cu12==2.20.5 in /home/sginne/anaconda3/envs/flair_env/lib/python3.8/site-packages (from torch!=1.8,>=1.5.0->flair) (2.20.5)\n",
      "Requirement already satisfied: nvidia-nvtx-cu12==12.1.105 in /home/sginne/anaconda3/envs/flair_env/lib/python3.8/site-packages (from torch!=1.8,>=1.5.0->flair) (12.1.105)\n",
      "Requirement already satisfied: triton==3.0.0 in /home/sginne/anaconda3/envs/flair_env/lib/python3.8/site-packages (from torch!=1.8,>=1.5.0->flair) (3.0.0)\n",
      "Requirement already satisfied: nvidia-nvjitlink-cu12 in /home/sginne/anaconda3/envs/flair_env/lib/python3.8/site-packages (from nvidia-cusolver-cu12==11.4.5.107->torch!=1.8,>=1.5.0->flair) (12.6.68)\n",
      "Requirement already satisfied: safetensors>=0.4.1 in /home/sginne/anaconda3/envs/flair_env/lib/python3.8/site-packages (from transformers<5.0.0,>=4.18.0->transformers[sentencepiece]<5.0.0,>=4.18.0->flair) (0.4.5)\n",
      "Requirement already satisfied: tokenizers<0.20,>=0.19 in /home/sginne/anaconda3/envs/flair_env/lib/python3.8/site-packages (from transformers<5.0.0,>=4.18.0->transformers[sentencepiece]<5.0.0,>=4.18.0->flair) (0.19.1)\n",
      "Requirement already satisfied: protobuf in /home/sginne/anaconda3/envs/flair_env/lib/python3.8/site-packages (from transformers[sentencepiece]<5.0.0,>=4.18.0->flair) (5.28.0)\n",
      "Requirement already satisfied: sentencepiece!=0.1.92,>=0.1.91 in /home/sginne/anaconda3/envs/flair_env/lib/python3.8/site-packages (from transformers[sentencepiece]<5.0.0,>=4.18.0->flair) (0.2.0)\n",
      "Requirement already satisfied: urllib3<1.27,>=1.25.4 in /home/sginne/anaconda3/envs/flair_env/lib/python3.8/site-packages (from botocore<1.36.0,>=1.35.13->boto3>=1.20.27->flair) (1.26.20)\n",
      "Requirement already satisfied: zipp>=3.1.0 in /home/sginne/anaconda3/envs/flair_env/lib/python3.8/site-packages (from importlib-resources>=3.2.0->matplotlib>=2.2.3->flair) (3.20.1)\n",
      "Requirement already satisfied: attrs>=19.2.0 in /home/sginne/anaconda3/envs/flair_env/lib/python3.8/site-packages (from jsonlines>=1.2.0->bioc<3.0.0,>=2.0.0->flair) (24.2.0)\n",
      "Requirement already satisfied: accelerate>=0.21.0 in /home/sginne/anaconda3/envs/flair_env/lib/python3.8/site-packages (from transformers[sentencepiece,torch]<5.0,>=4.1->transformer-smaller-training-vocab>=0.2.3->flair) (0.34.2)\n",
      "Requirement already satisfied: soupsieve>1.2 in /home/sginne/anaconda3/envs/flair_env/lib/python3.8/site-packages (from beautifulsoup4->gdown>=4.4.0->flair) (2.6)\n",
      "Requirement already satisfied: sortedcontainers<3.0,>=2.0 in /home/sginne/anaconda3/envs/flair_env/lib/python3.8/site-packages (from intervaltree->bioc<3.0.0,>=2.0.0->flair) (2.4.0)\n",
      "Requirement already satisfied: MarkupSafe>=2.0 in /home/sginne/anaconda3/envs/flair_env/lib/python3.8/site-packages (from jinja2->mpld3>=0.3->flair) (2.1.5)\n",
      "Requirement already satisfied: charset-normalizer<4,>=2 in /home/sginne/anaconda3/envs/flair_env/lib/python3.8/site-packages (from requests[socks]->gdown>=4.4.0->flair) (3.3.2)\n",
      "Requirement already satisfied: idna<4,>=2.5 in /home/sginne/anaconda3/envs/flair_env/lib/python3.8/site-packages (from requests[socks]->gdown>=4.4.0->flair) (3.8)\n",
      "Requirement already satisfied: certifi>=2017.4.17 in /home/sginne/anaconda3/envs/flair_env/lib/python3.8/site-packages (from requests[socks]->gdown>=4.4.0->flair) (2024.8.30)\n",
      "Requirement already satisfied: PySocks!=1.5.7,>=1.5.6 in /home/sginne/anaconda3/envs/flair_env/lib/python3.8/site-packages (from requests[socks]->gdown>=4.4.0->flair) (1.7.1)\n",
      "Requirement already satisfied: mpmath<1.4,>=1.1.0 in /home/sginne/anaconda3/envs/flair_env/lib/python3.8/site-packages (from sympy->torch!=1.8,>=1.5.0->flair) (1.3.0)\n",
      "Requirement already satisfied: psutil in /home/sginne/anaconda3/envs/flair_env/lib/python3.8/site-packages (from accelerate>=0.21.0->transformers[sentencepiece,torch]<5.0,>=4.1->transformer-smaller-training-vocab>=0.2.3->flair) (5.9.0)\n"
     ]
    },
    {
     "name": "stderr",
     "output_type": "stream",
     "text": [
      "/home/sginne/anaconda3/envs/flair_env/lib/python3.8/site-packages/tqdm/auto.py:21: TqdmWarning: IProgress not found. Please update jupyter and ipywidgets. See https://ipywidgets.readthedocs.io/en/stable/user_install.html\n",
      "  from .autonotebook import tqdm as notebook_tqdm\n"
     ]
    },
    {
     "name": "stdout",
     "output_type": "stream",
     "text": [
      "expandable_segments:True\n"
     ]
    }
   ],
   "source": [
    "!pip install flair\n",
    "from tqdm.notebook import tqdm\n",
    "from transformers import BertTokenizer, BertForTokenClassification\n",
    "import requests,os\n",
    "from flair.datasets import ColumnCorpus\n",
    "from flair.embeddings import TransformerWordEmbeddings\n",
    "from flair.models import SequenceTagger\n",
    "from flair.trainers import ModelTrainer\n",
    "from flair.data import Sentence\n",
    "os.environ[\"PYTORCH_CUDA_ALLOC_CONF\"] = \"expandable_segments:True\"\n",
    "print(os.getenv(\"PYTORCH_CUDA_ALLOC_CONF\"))"
   ]
  },
  {
   "cell_type": "markdown",
   "metadata": {},
   "source": [
    "2-Loading tokenizers, models, etc"
   ]
  },
  {
   "cell_type": "code",
   "execution_count": 2,
   "metadata": {},
   "outputs": [
    {
     "name": "stderr",
     "output_type": "stream",
     "text": [
      "/home/sginne/anaconda3/envs/flair_env/lib/python3.8/site-packages/transformers/tokenization_utils_base.py:1601: FutureWarning: `clean_up_tokenization_spaces` was not set. It will be set to `True` by default. This behavior will be depracted in transformers v4.45, and will be then set to `False` by default. For more details check this issue: https://github.com/huggingface/transformers/issues/31884\n",
      "  warnings.warn(\n",
      "Some weights of BertForTokenClassification were not initialized from the model checkpoint at bert-base-multilingual-cased and are newly initialized: ['classifier.bias', 'classifier.weight']\n",
      "You should probably TRAIN this model on a down-stream task to be able to use it for predictions and inference.\n"
     ]
    },
    {
     "name": "stdout",
     "output_type": "stream",
     "text": [
      "Data found: ./data/train.iob\n",
      "Data found: ./data/test.iob\n"
     ]
    }
   ],
   "source": [
    "tokenizer = BertTokenizer.from_pretrained('bert-base-multilingual-cased')\n",
    "model = BertForTokenClassification.from_pretrained('bert-base-multilingual-cased', num_labels=9)\n",
    "train_url = 'https://raw.githubusercontent.com/lang-uk/flair-ner/main/fixed-split/train.iob'\n",
    "test_url = 'https://raw.githubusercontent.com/lang-uk/flair-ner/main/fixed-split/test.iob'\n",
    "\n",
    "def download_data(url, file_name):\n",
    "    if not os.path.exists(file_name):\n",
    "        response = requests.get(url)\n",
    "        with open(file_name, 'w', encoding='utf-8') as f:\n",
    "            f.write(response.text)\n",
    "        print(f'Data downloaded: {file_name}')\n",
    "    else:\n",
    "        print('Data found:', file_name)\n",
    "data_folder = './data/'\n",
    "os.makedirs(data_folder, exist_ok=True)\n",
    "download_data(train_url, os.path.join(data_folder, 'train.iob'))\n",
    "download_data(test_url, os.path.join(data_folder, 'test.iob'))\n",
    "\n",
    "distilbert_embeddings = TransformerWordEmbeddings('distilbert-base-multilingual-cased', fine_tune=True)\n"
   ]
  },
  {
   "cell_type": "markdown",
   "metadata": {},
   "source": [
    "Lets make corpus"
   ]
  },
  {
   "cell_type": "code",
   "execution_count": 3,
   "metadata": {},
   "outputs": [
    {
     "name": "stdout",
     "output_type": "stream",
     "text": [
      "2024-09-07 18:45:36,204 Reading data from data\n",
      "2024-09-07 18:45:36,218 Train: data/train.iob\n",
      "2024-09-07 18:45:36,219 Dev: None\n",
      "2024-09-07 18:45:36,220 Test: data/test.iob\n",
      "2024-09-07 18:45:39,069 No dev split found. Using 10% (i.e. 876 samples) of the train split as dev data\n",
      "Corpus: 7886 train + 876 dev + 4045 test sentences\n",
      "Sentence[18]: \"Зрозуміло , що український бізнес почав використовувати КСВ як інструмент формування своєї репутації буквально декілька років тому .\"\n",
      "Sentence[22]: \"З одного боку , саме через це більшість проектів КСВ здійснюються епізодично та деколи виглядають , радше , як просто благодійність .\"\n",
      "Sentence[8]: \"Винятком будуть хіба що представництва іноземних корпорацій .\"\n",
      "Sentence[20]: \"З іншого боку , для українських компаній відкривається потужне « вікно можливостей » , щоб втілювати власні унікальні стратегії .\"\n",
      "Sentence[3]: \"Філантропія як пріоритет\"\n",
      "Sentence[15]: \"Це може бути як власна ініціатива , так і відповідь на запит від громади .\"\n",
      "Sentence[17]: \"Це абсолютно нормальна практика через недостатній рівень статків та доходів переважної більшості українських громадян та громад .\"\n",
      "Sentence[11]: \"Вони абсолютно відповідають Глобальному договору та Цілям сталого розвитку ООН .\" → [\"Глобальному договору та Цілям сталого розвитку ООН\"/MISC]\n",
      "Sentence[3]: \"Виклики воєнного часу\"\n",
      "Sentence[33]: \"Підтримка Збройних Сил — один з унікальних і суто українських напрямків КСВ . Збройні Сили України напередодні анексії Криму та втручання « заклятого друга » у Донбасі перебували в стані жорсткого недофінансування .\" → [\"Збройних Сил\"/ORG, \"Збройні Сили України\"/ORG, \"Криму\"/LOC, \"Донбасі\"/LOC]\n",
      "Sentence[6]: \"Хто прийшов на допомогу армії ?\"\n",
      "Sentence[5]: \"Малий та середній бізнес .\"\n",
      "Sentence[27]: \"Складно сказати , чи буде коли-небудь зроблена оцінка пожертв громадян у 2014 р . , але , радше за все , йдеться про сотні мільйонів доларів .\"\n",
      "Sentence[18]: \"Адже підприємці віддавали на оборону і гроші , і споряд ження , і продовольство , і автомобілі .\"\n",
      "Sentence[13]: \"На окупованих територіях багато бізнесменів втратили підприємства , які вони розбудовували роками .\"\n",
      "2024-09-07 18:45:39,071 Computing label dictionary. Progress:\n"
     ]
    },
    {
     "name": "stderr",
     "output_type": "stream",
     "text": [
      "7it [00:00, 92.10it/s]\n",
      "7886it [00:00, 31743.44it/s]"
     ]
    },
    {
     "name": "stdout",
     "output_type": "stream",
     "text": [
      "2024-09-07 18:45:39,477 Dictionary created for label 'ner' with 4 values: PERS (seen 2419 times), LOC (seen 1063 times), ORG (seen 471 times), MISC (seen 373 times)\n",
      "Dictionary with 4 tags: PERS, LOC, ORG, MISC\n"
     ]
    },
    {
     "name": "stderr",
     "output_type": "stream",
     "text": [
      "\n"
     ]
    }
   ],
   "source": [
    "columns = {0: 'text', 1: 'ner'}\n",
    "corpus = ColumnCorpus(data_folder, columns,\n",
    "                      train_file='train.iob',\n",
    "                      test_file='test.iob')\n",
    "print(corpus)\n",
    "for i in range(15):\n",
    "    print(corpus.train[i])\n",
    "tag_types = corpus.make_label_dictionary(label_type='ner')\n",
    "print(tag_types)\n",
    "\n",
    "\n"
   ]
  },
  {
   "cell_type": "markdown",
   "metadata": {},
   "source": [
    "Lets make tagger and trainer"
   ]
  },
  {
   "cell_type": "code",
   "execution_count": 4,
   "metadata": {},
   "outputs": [
    {
     "name": "stdout",
     "output_type": "stream",
     "text": [
      "2024-09-07 18:45:39,486 SequenceTagger predicts: Dictionary with 17 tags: O, S-PERS, B-PERS, E-PERS, I-PERS, S-LOC, B-LOC, E-LOC, I-LOC, S-ORG, B-ORG, E-ORG, I-ORG, S-MISC, B-MISC, E-MISC, I-MISC\n"
     ]
    }
   ],
   "source": [
    "tagger = SequenceTagger(hidden_size=128,\n",
    "                        embeddings=distilbert_embeddings,\n",
    "                        tag_dictionary=tag_types,\n",
    "                        tag_type='ner',\n",
    "                        use_crf=False)\n",
    "trainer = ModelTrainer(tagger, corpus)\n"
   ]
  },
  {
   "cell_type": "markdown",
   "metadata": {},
   "source": [
    "Model name and and model"
   ]
  },
  {
   "cell_type": "code",
   "execution_count": 5,
   "metadata": {},
   "outputs": [],
   "source": [
    "finetuned_model_name='dist-finetuned.04'\n"
   ]
  },
  {
   "cell_type": "code",
   "execution_count": 6,
   "metadata": {},
   "outputs": [
    {
     "name": "stdout",
     "output_type": "stream",
     "text": [
      "2024-09-07 18:45:44,683 ----------------------------------------------------------------------------------------------------\n",
      "2024-09-07 18:45:44,685 Model: \"SequenceTagger(\n",
      "  (embeddings): TransformerWordEmbeddings(\n",
      "    (model): DistilBertModel(\n",
      "      (embeddings): Embeddings(\n",
      "        (word_embeddings): Embedding(119548, 768, padding_idx=0)\n",
      "        (position_embeddings): Embedding(512, 768)\n",
      "        (LayerNorm): LayerNorm((768,), eps=1e-12, elementwise_affine=True)\n",
      "        (dropout): Dropout(p=0.1, inplace=False)\n",
      "      )\n",
      "      (transformer): Transformer(\n",
      "        (layer): ModuleList(\n",
      "          (0-5): 6 x TransformerBlock(\n",
      "            (attention): MultiHeadSelfAttention(\n",
      "              (dropout): Dropout(p=0.1, inplace=False)\n",
      "              (q_lin): Linear(in_features=768, out_features=768, bias=True)\n",
      "              (k_lin): Linear(in_features=768, out_features=768, bias=True)\n",
      "              (v_lin): Linear(in_features=768, out_features=768, bias=True)\n",
      "              (out_lin): Linear(in_features=768, out_features=768, bias=True)\n",
      "            )\n",
      "            (sa_layer_norm): LayerNorm((768,), eps=1e-12, elementwise_affine=True)\n",
      "            (ffn): FFN(\n",
      "              (dropout): Dropout(p=0.1, inplace=False)\n",
      "              (lin1): Linear(in_features=768, out_features=3072, bias=True)\n",
      "              (lin2): Linear(in_features=3072, out_features=768, bias=True)\n",
      "              (activation): GELUActivation()\n",
      "            )\n",
      "            (output_layer_norm): LayerNorm((768,), eps=1e-12, elementwise_affine=True)\n",
      "          )\n",
      "        )\n",
      "      )\n",
      "    )\n",
      "  )\n",
      "  (word_dropout): WordDropout(p=0.05)\n",
      "  (locked_dropout): LockedDropout(p=0.5)\n",
      "  (embedding2nn): Linear(in_features=768, out_features=768, bias=True)\n",
      "  (rnn): LSTM(768, 128, batch_first=True, bidirectional=True)\n",
      "  (linear): Linear(in_features=256, out_features=17, bias=True)\n",
      "  (loss_function): CrossEntropyLoss()\n",
      ")\"\n",
      "2024-09-07 18:45:44,685 ----------------------------------------------------------------------------------------------------\n",
      "2024-09-07 18:45:44,686 Corpus: 7886 train + 876 dev + 4045 test sentences\n",
      "2024-09-07 18:45:44,687 ----------------------------------------------------------------------------------------------------\n",
      "2024-09-07 18:45:44,688 Train:  8762 sentences\n",
      "2024-09-07 18:45:44,689         (train_with_dev=True, train_with_test=False)\n",
      "2024-09-07 18:45:44,689 ----------------------------------------------------------------------------------------------------\n",
      "2024-09-07 18:45:44,690 Training Params:\n",
      "2024-09-07 18:45:44,690  - learning_rate: \"0.01\" \n",
      "2024-09-07 18:45:44,691  - mini_batch_size: \"1\"\n",
      "2024-09-07 18:45:44,691  - max_epochs: \"3\"\n",
      "2024-09-07 18:45:44,692  - shuffle: \"True\"\n",
      "2024-09-07 18:45:44,692 ----------------------------------------------------------------------------------------------------\n",
      "2024-09-07 18:45:44,693 Plugins:\n",
      "2024-09-07 18:45:44,693  - AnnealOnPlateau | patience: '3', anneal_factor: '0.5', min_learning_rate: '0.0001'\n",
      "2024-09-07 18:45:44,694 ----------------------------------------------------------------------------------------------------\n",
      "2024-09-07 18:45:44,694 Final evaluation on model from best epoch (best-model.pt)\n",
      "2024-09-07 18:45:44,695  - metric: \"('micro avg', 'f1-score')\"\n",
      "2024-09-07 18:45:44,696 ----------------------------------------------------------------------------------------------------\n",
      "2024-09-07 18:45:44,697 Computation:\n",
      "2024-09-07 18:45:44,698  - compute on device: cuda:0\n",
      "2024-09-07 18:45:44,698  - embedding storage: cpu\n",
      "2024-09-07 18:45:44,699 ----------------------------------------------------------------------------------------------------\n",
      "2024-09-07 18:45:44,699 Model training base path: \"dist-finetuned.04\"\n",
      "2024-09-07 18:45:44,700 ----------------------------------------------------------------------------------------------------\n",
      "2024-09-07 18:45:44,700 ----------------------------------------------------------------------------------------------------\n"
     ]
    },
    {
     "name": "stderr",
     "output_type": "stream",
     "text": [
      "/home/sginne/anaconda3/envs/flair_env/lib/python3.8/site-packages/flair/trainers/trainer.py:499: FutureWarning: `torch.cuda.amp.GradScaler(args...)` is deprecated. Please use `torch.amp.GradScaler('cuda', args...)` instead.\n",
      "  scaler = torch.cuda.amp.GradScaler(enabled=use_amp and flair.device.type != \"cpu\")\n"
     ]
    },
    {
     "name": "stdout",
     "output_type": "stream",
     "text": [
      "2024-09-07 18:46:44,491 epoch 1 - iter 876/8762 - loss 0.34136188 - time (sec): 59.79 - samples/sec: 271.07 - lr: 0.010000 - momentum: 0.000000\n",
      "2024-09-07 18:47:19,976 ----------------------------------------------------------------------------------------------------\n",
      "2024-09-07 18:47:19,978 Exiting from training early.\n",
      "2024-09-07 18:47:19,978 Saving model ...\n",
      "2024-09-07 18:47:25,202 Done.\n",
      "2024-09-07 18:47:25,225 ----------------------------------------------------------------------------------------------------\n",
      "2024-09-07 18:47:25,227 Testing using last state of model ...\n"
     ]
    },
    {
     "name": "stderr",
     "output_type": "stream",
     "text": [
      "  8%|▊         | 5/64 [00:06<01:04,  1.10s/it]"
     ]
    }
   ],
   "source": [
    "trainer.train(finetuned_model_name,\n",
    "              learning_rate=0.01,\n",
    "              mini_batch_size=1,\n",
    "              max_epochs=10,\n",
    "              embeddings_storage_mode='cpu',\n",
    "              #main_evaluation_metric='f1',\n",
    "              monitor_test=True,\n",
    "              #use_amp=True,\n",
    "              train_with_dev=True) "
   ]
  },
  {
   "cell_type": "markdown",
   "metadata": {},
   "source": [
    "Lets evaluate it"
   ]
  },
  {
   "cell_type": "code",
   "execution_count": null,
   "metadata": {},
   "outputs": [
    {
     "name": "stderr",
     "output_type": "stream",
     "text": [
      "100%|██████████| 127/127 [00:50<00:00,  2.52it/s]"
     ]
    },
    {
     "name": "stdout",
     "output_type": "stream",
     "text": [
      "\n",
      "Results:\n",
      "- F-score (micro) 0.737\n",
      "- F-score (macro) 0.4779\n",
      "- Accuracy 0.6374\n",
      "\n",
      "By class:\n",
      "              precision    recall  f1-score   support\n",
      "\n",
      "        PERS     0.8565    0.9321    0.8927      1678\n",
      "         LOC     0.5123    0.6758    0.5828       401\n",
      "         ORG     0.3110    0.3372    0.3235       261\n",
      "        MISC     0.3636    0.0667    0.1127       240\n",
      "\n",
      "   micro avg     0.7230    0.7516    0.7370      2580\n",
      "   macro avg     0.5108    0.5029    0.4779      2580\n",
      "weighted avg     0.7020    0.7516    0.7144      2580\n",
      "\n"
     ]
    },
    {
     "name": "stderr",
     "output_type": "stream",
     "text": [
      "\n"
     ]
    }
   ],
   "source": [
    "result = tagger.evaluate(corpus.test, gold_label_type='ner')  # Evaluate on the test set\n",
    "print(result.detailed_results)"
   ]
  },
  {
   "cell_type": "markdown",
   "metadata": {},
   "source": [
    "Lets test with own data"
   ]
  },
  {
   "cell_type": "code",
   "execution_count": null,
   "metadata": {},
   "outputs": [
    {
     "name": "stdout",
     "output_type": "stream",
     "text": [
      "2024-09-07 17:14:24,452 SequenceTagger predicts: Dictionary with 17 tags: O, S-PERS, B-PERS, E-PERS, I-PERS, S-LOC, B-LOC, E-LOC, I-LOC, S-ORG, B-ORG, E-ORG, I-ORG, S-MISC, B-MISC, E-MISC, I-MISC\n",
      "Привіт , мене звати [Тімо|(PERS=99.9%)] і я живу в [Турку|(LOC=99.5%)] , навчаюсь в [Универсітеті|(LOC=98.6%)] [Турку|(LOC=99.0%)]\n",
      "Цікаву і пізнавальну подорож місцями , де народився та виріс видатний український поет [Тарас|(PERS=97.1%)] Шевченко , минулого тижня влаштував департамент культури і туризму [Кіровоградської|(LOC=26.6%)]\n"
     ]
    }
   ],
   "source": [
    "finetuned_model = SequenceTagger.load('/home/sginne/src/master_thesis/colab/dist-finetuned.04/final-model.pt')\n",
    "def print_tagged_sentences(sentences, model=None):\n",
    "    # Load model only if not already loaded\n",
    "    \n",
    "    for text in sentences:\n",
    "        sentence = Sentence(text)  # Create Sentence object\n",
    "        model.predict(sentence)    # Predict tags\n",
    "        #print (sentence.to_tagged_string())\n",
    "        tagged_sentence = []\n",
    "        spans=sentence.get_spans('ner')\n",
    "    \n",
    "        #for span in spans:\n",
    "        #    print (\"Span:\",span.get_label('ner').value)\n",
    "        #    print (\"Span:\",span.get_label('ner').score)\n",
    "        i=0\n",
    "        for token in sentence:\n",
    "            if i==len(spans):\n",
    "                #print ('BREAK',token.text)\n",
    "                break\n",
    "            #print (token.get_label('ner').value,spans[i][0].get_label('ner'))\n",
    "            if token==spans[i][0]:\n",
    "                current_tag_token=spans[i]\n",
    "                current_tag_value=current_tag_token.get_label('ner').value\n",
    "                current_tag_score=current_tag_token.get_label('ner').score\n",
    "                tagged_sentence.append(f'[{token.text}|({current_tag_value}={current_tag_score*100:.1f}%)]')\n",
    "                i=i+1\n",
    "            else:\n",
    "                tagged_sentence.append(token.text)\n",
    "        print ( ' '.join(tagged_sentence))\n",
    "\n",
    "sentences = [\"Привіт, мене звати Тімо і я живу в Турку, навчаюсь в Универсітеті Турку.\",\n",
    "\"Цікаву і пізнавальну подорож місцями , де народився та виріс видатний український поет Тарас Шевченко , минулого тижня влаштував департамент культури і туризму Кіровоградської ОДА .\"]\n",
    "print_tagged_sentences(sentences, finetuned_model)"
   ]
  }
 ],
 "metadata": {
  "kernelspec": {
   "display_name": "flair_env",
   "language": "python",
   "name": "python3"
  },
  "language_info": {
   "codemirror_mode": {
    "name": "ipython",
    "version": 3
   },
   "file_extension": ".py",
   "mimetype": "text/x-python",
   "name": "python",
   "nbconvert_exporter": "python",
   "pygments_lexer": "ipython3",
   "version": "3.8.19"
  }
 },
 "nbformat": 4,
 "nbformat_minor": 2
}
