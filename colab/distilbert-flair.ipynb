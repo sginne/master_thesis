{
 "cells": [
  {
   "cell_type": "markdown",
   "metadata": {},
   "source": [
    "1.Lets install and invoke packages."
   ]
  },
  {
   "cell_type": "code",
   "execution_count": 1,
   "metadata": {},
   "outputs": [
    {
     "name": "stdout",
     "output_type": "stream",
     "text": [
      "Requirement already satisfied: flair in /home/sginne/anaconda3/envs/flair_env/lib/python3.8/site-packages (0.14.0)\n",
      "Requirement already satisfied: boto3>=1.20.27 in /home/sginne/anaconda3/envs/flair_env/lib/python3.8/site-packages (from flair) (1.35.13)\n",
      "Requirement already satisfied: conllu<5.0.0,>=4.0 in /home/sginne/anaconda3/envs/flair_env/lib/python3.8/site-packages (from flair) (4.5.3)\n",
      "Requirement already satisfied: deprecated>=1.2.13 in /home/sginne/anaconda3/envs/flair_env/lib/python3.8/site-packages (from flair) (1.2.14)\n",
      "Requirement already satisfied: ftfy>=6.1.0 in /home/sginne/anaconda3/envs/flair_env/lib/python3.8/site-packages (from flair) (6.2.3)\n",
      "Requirement already satisfied: gdown>=4.4.0 in /home/sginne/anaconda3/envs/flair_env/lib/python3.8/site-packages (from flair) (5.2.0)\n",
      "Requirement already satisfied: huggingface-hub>=0.10.0 in /home/sginne/anaconda3/envs/flair_env/lib/python3.8/site-packages (from flair) (0.24.6)\n",
      "Requirement already satisfied: langdetect>=1.0.9 in /home/sginne/anaconda3/envs/flair_env/lib/python3.8/site-packages (from flair) (1.0.9)\n",
      "Requirement already satisfied: lxml>=4.8.0 in /home/sginne/anaconda3/envs/flair_env/lib/python3.8/site-packages (from flair) (5.3.0)\n",
      "Requirement already satisfied: matplotlib>=2.2.3 in /home/sginne/anaconda3/envs/flair_env/lib/python3.8/site-packages (from flair) (3.7.5)\n",
      "Requirement already satisfied: more-itertools>=8.13.0 in /home/sginne/anaconda3/envs/flair_env/lib/python3.8/site-packages (from flair) (10.5.0)\n",
      "Requirement already satisfied: mpld3>=0.3 in /home/sginne/anaconda3/envs/flair_env/lib/python3.8/site-packages (from flair) (0.5.10)\n",
      "Requirement already satisfied: pptree>=3.1 in /home/sginne/anaconda3/envs/flair_env/lib/python3.8/site-packages (from flair) (3.1)\n",
      "Requirement already satisfied: python-dateutil>=2.8.2 in /home/sginne/anaconda3/envs/flair_env/lib/python3.8/site-packages (from flair) (2.9.0)\n",
      "Requirement already satisfied: pytorch-revgrad>=0.2.0 in /home/sginne/anaconda3/envs/flair_env/lib/python3.8/site-packages (from flair) (0.2.0)\n",
      "Requirement already satisfied: regex>=2022.1.18 in /home/sginne/anaconda3/envs/flair_env/lib/python3.8/site-packages (from flair) (2024.7.24)\n",
      "Requirement already satisfied: scikit-learn>=1.0.2 in /home/sginne/anaconda3/envs/flair_env/lib/python3.8/site-packages (from flair) (1.3.2)\n",
      "Requirement already satisfied: segtok>=1.5.11 in /home/sginne/anaconda3/envs/flair_env/lib/python3.8/site-packages (from flair) (1.5.11)\n",
      "Requirement already satisfied: sqlitedict>=2.0.0 in /home/sginne/anaconda3/envs/flair_env/lib/python3.8/site-packages (from flair) (2.1.0)\n",
      "Requirement already satisfied: tabulate>=0.8.10 in /home/sginne/anaconda3/envs/flair_env/lib/python3.8/site-packages (from flair) (0.9.0)\n",
      "Requirement already satisfied: torch!=1.8,>=1.5.0 in /home/sginne/anaconda3/envs/flair_env/lib/python3.8/site-packages (from flair) (2.4.1)\n",
      "Requirement already satisfied: tqdm>=4.63.0 in /home/sginne/anaconda3/envs/flair_env/lib/python3.8/site-packages (from flair) (4.66.5)\n",
      "Requirement already satisfied: transformer-smaller-training-vocab>=0.2.3 in /home/sginne/anaconda3/envs/flair_env/lib/python3.8/site-packages (from flair) (0.4.0)\n",
      "Requirement already satisfied: transformers<5.0.0,>=4.18.0 in /home/sginne/anaconda3/envs/flair_env/lib/python3.8/site-packages (from transformers[sentencepiece]<5.0.0,>=4.18.0->flair) (4.44.2)\n",
      "Requirement already satisfied: wikipedia-api>=0.5.7 in /home/sginne/anaconda3/envs/flair_env/lib/python3.8/site-packages (from flair) (0.7.1)\n",
      "Requirement already satisfied: semver<4.0.0,>=3.0.0 in /home/sginne/anaconda3/envs/flair_env/lib/python3.8/site-packages (from flair) (3.0.2)\n",
      "Requirement already satisfied: bioc<3.0.0,>=2.0.0 in /home/sginne/anaconda3/envs/flair_env/lib/python3.8/site-packages (from flair) (2.1)\n",
      "Requirement already satisfied: jsonlines>=1.2.0 in /home/sginne/anaconda3/envs/flair_env/lib/python3.8/site-packages (from bioc<3.0.0,>=2.0.0->flair) (4.0.0)\n",
      "Requirement already satisfied: intervaltree in /home/sginne/anaconda3/envs/flair_env/lib/python3.8/site-packages (from bioc<3.0.0,>=2.0.0->flair) (3.1.0)\n",
      "Requirement already satisfied: docopt in /home/sginne/anaconda3/envs/flair_env/lib/python3.8/site-packages (from bioc<3.0.0,>=2.0.0->flair) (0.6.2)\n",
      "Requirement already satisfied: botocore<1.36.0,>=1.35.13 in /home/sginne/anaconda3/envs/flair_env/lib/python3.8/site-packages (from boto3>=1.20.27->flair) (1.35.13)\n",
      "Requirement already satisfied: jmespath<2.0.0,>=0.7.1 in /home/sginne/anaconda3/envs/flair_env/lib/python3.8/site-packages (from boto3>=1.20.27->flair) (1.0.1)\n",
      "Requirement already satisfied: s3transfer<0.11.0,>=0.10.0 in /home/sginne/anaconda3/envs/flair_env/lib/python3.8/site-packages (from boto3>=1.20.27->flair) (0.10.2)\n",
      "Requirement already satisfied: wrapt<2,>=1.10 in /home/sginne/anaconda3/envs/flair_env/lib/python3.8/site-packages (from deprecated>=1.2.13->flair) (1.16.0)\n",
      "Requirement already satisfied: wcwidth<0.3.0,>=0.2.12 in /home/sginne/anaconda3/envs/flair_env/lib/python3.8/site-packages (from ftfy>=6.1.0->flair) (0.2.13)\n",
      "Requirement already satisfied: beautifulsoup4 in /home/sginne/anaconda3/envs/flair_env/lib/python3.8/site-packages (from gdown>=4.4.0->flair) (4.12.3)\n",
      "Requirement already satisfied: filelock in /home/sginne/anaconda3/envs/flair_env/lib/python3.8/site-packages (from gdown>=4.4.0->flair) (3.15.4)\n",
      "Requirement already satisfied: requests[socks] in /home/sginne/anaconda3/envs/flair_env/lib/python3.8/site-packages (from gdown>=4.4.0->flair) (2.32.3)\n",
      "Requirement already satisfied: fsspec>=2023.5.0 in /home/sginne/anaconda3/envs/flair_env/lib/python3.8/site-packages (from huggingface-hub>=0.10.0->flair) (2024.9.0)\n",
      "Requirement already satisfied: packaging>=20.9 in /home/sginne/anaconda3/envs/flair_env/lib/python3.8/site-packages (from huggingface-hub>=0.10.0->flair) (24.1)\n",
      "Requirement already satisfied: pyyaml>=5.1 in /home/sginne/anaconda3/envs/flair_env/lib/python3.8/site-packages (from huggingface-hub>=0.10.0->flair) (6.0.2)\n",
      "Requirement already satisfied: typing-extensions>=3.7.4.3 in /home/sginne/anaconda3/envs/flair_env/lib/python3.8/site-packages (from huggingface-hub>=0.10.0->flair) (4.12.2)\n",
      "Requirement already satisfied: six in /home/sginne/anaconda3/envs/flair_env/lib/python3.8/site-packages (from langdetect>=1.0.9->flair) (1.16.0)\n",
      "Requirement already satisfied: contourpy>=1.0.1 in /home/sginne/anaconda3/envs/flair_env/lib/python3.8/site-packages (from matplotlib>=2.2.3->flair) (1.1.1)\n",
      "Requirement already satisfied: cycler>=0.10 in /home/sginne/anaconda3/envs/flair_env/lib/python3.8/site-packages (from matplotlib>=2.2.3->flair) (0.12.1)\n",
      "Requirement already satisfied: fonttools>=4.22.0 in /home/sginne/anaconda3/envs/flair_env/lib/python3.8/site-packages (from matplotlib>=2.2.3->flair) (4.53.1)\n",
      "Requirement already satisfied: kiwisolver>=1.0.1 in /home/sginne/anaconda3/envs/flair_env/lib/python3.8/site-packages (from matplotlib>=2.2.3->flair) (1.4.7)\n",
      "Requirement already satisfied: numpy<2,>=1.20 in /home/sginne/anaconda3/envs/flair_env/lib/python3.8/site-packages (from matplotlib>=2.2.3->flair) (1.24.4)\n",
      "Requirement already satisfied: pillow>=6.2.0 in /home/sginne/anaconda3/envs/flair_env/lib/python3.8/site-packages (from matplotlib>=2.2.3->flair) (10.4.0)\n",
      "Requirement already satisfied: pyparsing>=2.3.1 in /home/sginne/anaconda3/envs/flair_env/lib/python3.8/site-packages (from matplotlib>=2.2.3->flair) (3.1.4)\n",
      "Requirement already satisfied: importlib-resources>=3.2.0 in /home/sginne/anaconda3/envs/flair_env/lib/python3.8/site-packages (from matplotlib>=2.2.3->flair) (6.4.4)\n",
      "Requirement already satisfied: jinja2 in /home/sginne/anaconda3/envs/flair_env/lib/python3.8/site-packages (from mpld3>=0.3->flair) (3.1.4)\n",
      "Requirement already satisfied: scipy>=1.5.0 in /home/sginne/anaconda3/envs/flair_env/lib/python3.8/site-packages (from scikit-learn>=1.0.2->flair) (1.10.1)\n",
      "Requirement already satisfied: joblib>=1.1.1 in /home/sginne/anaconda3/envs/flair_env/lib/python3.8/site-packages (from scikit-learn>=1.0.2->flair) (1.4.2)\n",
      "Requirement already satisfied: threadpoolctl>=2.0.0 in /home/sginne/anaconda3/envs/flair_env/lib/python3.8/site-packages (from scikit-learn>=1.0.2->flair) (3.5.0)\n",
      "Requirement already satisfied: sympy in /home/sginne/anaconda3/envs/flair_env/lib/python3.8/site-packages (from torch!=1.8,>=1.5.0->flair) (1.13.2)\n",
      "Requirement already satisfied: networkx in /home/sginne/anaconda3/envs/flair_env/lib/python3.8/site-packages (from torch!=1.8,>=1.5.0->flair) (3.1)\n",
      "Requirement already satisfied: nvidia-cuda-nvrtc-cu12==12.1.105 in /home/sginne/anaconda3/envs/flair_env/lib/python3.8/site-packages (from torch!=1.8,>=1.5.0->flair) (12.1.105)\n",
      "Requirement already satisfied: nvidia-cuda-runtime-cu12==12.1.105 in /home/sginne/anaconda3/envs/flair_env/lib/python3.8/site-packages (from torch!=1.8,>=1.5.0->flair) (12.1.105)\n",
      "Requirement already satisfied: nvidia-cuda-cupti-cu12==12.1.105 in /home/sginne/anaconda3/envs/flair_env/lib/python3.8/site-packages (from torch!=1.8,>=1.5.0->flair) (12.1.105)\n",
      "Requirement already satisfied: nvidia-cudnn-cu12==9.1.0.70 in /home/sginne/anaconda3/envs/flair_env/lib/python3.8/site-packages (from torch!=1.8,>=1.5.0->flair) (9.1.0.70)\n",
      "Requirement already satisfied: nvidia-cublas-cu12==12.1.3.1 in /home/sginne/anaconda3/envs/flair_env/lib/python3.8/site-packages (from torch!=1.8,>=1.5.0->flair) (12.1.3.1)\n",
      "Requirement already satisfied: nvidia-cufft-cu12==11.0.2.54 in /home/sginne/anaconda3/envs/flair_env/lib/python3.8/site-packages (from torch!=1.8,>=1.5.0->flair) (11.0.2.54)\n",
      "Requirement already satisfied: nvidia-curand-cu12==10.3.2.106 in /home/sginne/anaconda3/envs/flair_env/lib/python3.8/site-packages (from torch!=1.8,>=1.5.0->flair) (10.3.2.106)\n",
      "Requirement already satisfied: nvidia-cusolver-cu12==11.4.5.107 in /home/sginne/anaconda3/envs/flair_env/lib/python3.8/site-packages (from torch!=1.8,>=1.5.0->flair) (11.4.5.107)\n",
      "Requirement already satisfied: nvidia-cusparse-cu12==12.1.0.106 in /home/sginne/anaconda3/envs/flair_env/lib/python3.8/site-packages (from torch!=1.8,>=1.5.0->flair) (12.1.0.106)\n",
      "Requirement already satisfied: nvidia-nccl-cu12==2.20.5 in /home/sginne/anaconda3/envs/flair_env/lib/python3.8/site-packages (from torch!=1.8,>=1.5.0->flair) (2.20.5)\n",
      "Requirement already satisfied: nvidia-nvtx-cu12==12.1.105 in /home/sginne/anaconda3/envs/flair_env/lib/python3.8/site-packages (from torch!=1.8,>=1.5.0->flair) (12.1.105)\n",
      "Requirement already satisfied: triton==3.0.0 in /home/sginne/anaconda3/envs/flair_env/lib/python3.8/site-packages (from torch!=1.8,>=1.5.0->flair) (3.0.0)\n",
      "Requirement already satisfied: nvidia-nvjitlink-cu12 in /home/sginne/anaconda3/envs/flair_env/lib/python3.8/site-packages (from nvidia-cusolver-cu12==11.4.5.107->torch!=1.8,>=1.5.0->flair) (12.6.68)\n",
      "Requirement already satisfied: safetensors>=0.4.1 in /home/sginne/anaconda3/envs/flair_env/lib/python3.8/site-packages (from transformers<5.0.0,>=4.18.0->transformers[sentencepiece]<5.0.0,>=4.18.0->flair) (0.4.5)\n",
      "Requirement already satisfied: tokenizers<0.20,>=0.19 in /home/sginne/anaconda3/envs/flair_env/lib/python3.8/site-packages (from transformers<5.0.0,>=4.18.0->transformers[sentencepiece]<5.0.0,>=4.18.0->flair) (0.19.1)\n",
      "Requirement already satisfied: protobuf in /home/sginne/anaconda3/envs/flair_env/lib/python3.8/site-packages (from transformers[sentencepiece]<5.0.0,>=4.18.0->flair) (5.28.0)\n",
      "Requirement already satisfied: sentencepiece!=0.1.92,>=0.1.91 in /home/sginne/anaconda3/envs/flair_env/lib/python3.8/site-packages (from transformers[sentencepiece]<5.0.0,>=4.18.0->flair) (0.2.0)\n",
      "Requirement already satisfied: urllib3<1.27,>=1.25.4 in /home/sginne/anaconda3/envs/flair_env/lib/python3.8/site-packages (from botocore<1.36.0,>=1.35.13->boto3>=1.20.27->flair) (1.26.20)\n",
      "Requirement already satisfied: zipp>=3.1.0 in /home/sginne/anaconda3/envs/flair_env/lib/python3.8/site-packages (from importlib-resources>=3.2.0->matplotlib>=2.2.3->flair) (3.20.1)\n",
      "Requirement already satisfied: attrs>=19.2.0 in /home/sginne/anaconda3/envs/flair_env/lib/python3.8/site-packages (from jsonlines>=1.2.0->bioc<3.0.0,>=2.0.0->flair) (24.2.0)\n",
      "Requirement already satisfied: accelerate>=0.21.0 in /home/sginne/anaconda3/envs/flair_env/lib/python3.8/site-packages (from transformers[sentencepiece,torch]<5.0,>=4.1->transformer-smaller-training-vocab>=0.2.3->flair) (0.34.2)\n",
      "Requirement already satisfied: soupsieve>1.2 in /home/sginne/anaconda3/envs/flair_env/lib/python3.8/site-packages (from beautifulsoup4->gdown>=4.4.0->flair) (2.6)\n",
      "Requirement already satisfied: sortedcontainers<3.0,>=2.0 in /home/sginne/anaconda3/envs/flair_env/lib/python3.8/site-packages (from intervaltree->bioc<3.0.0,>=2.0.0->flair) (2.4.0)\n",
      "Requirement already satisfied: MarkupSafe>=2.0 in /home/sginne/anaconda3/envs/flair_env/lib/python3.8/site-packages (from jinja2->mpld3>=0.3->flair) (2.1.5)\n",
      "Requirement already satisfied: charset-normalizer<4,>=2 in /home/sginne/anaconda3/envs/flair_env/lib/python3.8/site-packages (from requests[socks]->gdown>=4.4.0->flair) (3.3.2)\n",
      "Requirement already satisfied: idna<4,>=2.5 in /home/sginne/anaconda3/envs/flair_env/lib/python3.8/site-packages (from requests[socks]->gdown>=4.4.0->flair) (3.8)\n",
      "Requirement already satisfied: certifi>=2017.4.17 in /home/sginne/anaconda3/envs/flair_env/lib/python3.8/site-packages (from requests[socks]->gdown>=4.4.0->flair) (2024.8.30)\n",
      "Requirement already satisfied: PySocks!=1.5.7,>=1.5.6 in /home/sginne/anaconda3/envs/flair_env/lib/python3.8/site-packages (from requests[socks]->gdown>=4.4.0->flair) (1.7.1)\n",
      "Requirement already satisfied: mpmath<1.4,>=1.1.0 in /home/sginne/anaconda3/envs/flair_env/lib/python3.8/site-packages (from sympy->torch!=1.8,>=1.5.0->flair) (1.3.0)\n",
      "Requirement already satisfied: psutil in /home/sginne/anaconda3/envs/flair_env/lib/python3.8/site-packages (from accelerate>=0.21.0->transformers[sentencepiece,torch]<5.0,>=4.1->transformer-smaller-training-vocab>=0.2.3->flair) (5.9.0)\n"
     ]
    },
    {
     "name": "stderr",
     "output_type": "stream",
     "text": [
      "/home/sginne/anaconda3/envs/flair_env/lib/python3.8/site-packages/tqdm/auto.py:21: TqdmWarning: IProgress not found. Please update jupyter and ipywidgets. See https://ipywidgets.readthedocs.io/en/stable/user_install.html\n",
      "  from .autonotebook import tqdm as notebook_tqdm\n"
     ]
    },
    {
     "name": "stdout",
     "output_type": "stream",
     "text": [
      "expandable_segments:True\n"
     ]
    }
   ],
   "source": [
    "!pip install flair\n",
    "from tqdm.notebook import tqdm\n",
    "from transformers import BertTokenizer, BertForTokenClassification\n",
    "import requests,os\n",
    "from flair.datasets import ColumnCorpus\n",
    "from flair.embeddings import TransformerWordEmbeddings\n",
    "from flair.models import SequenceTagger\n",
    "from flair.trainers import ModelTrainer\n",
    "from flair.data import Sentence\n",
    "os.environ[\"PYTORCH_CUDA_ALLOC_CONF\"] = \"expandable_segments:True\"\n",
    "print(os.getenv(\"PYTORCH_CUDA_ALLOC_CONF\"))"
   ]
  },
  {
   "cell_type": "markdown",
   "metadata": {},
   "source": [
    "2-Loading tokenizers, models, etc"
   ]
  },
  {
   "cell_type": "code",
   "execution_count": 2,
   "metadata": {},
   "outputs": [
    {
     "name": "stderr",
     "output_type": "stream",
     "text": [
      "/home/sginne/anaconda3/envs/flair_env/lib/python3.8/site-packages/transformers/tokenization_utils_base.py:1601: FutureWarning: `clean_up_tokenization_spaces` was not set. It will be set to `True` by default. This behavior will be depracted in transformers v4.45, and will be then set to `False` by default. For more details check this issue: https://github.com/huggingface/transformers/issues/31884\n",
      "  warnings.warn(\n",
      "Some weights of BertForTokenClassification were not initialized from the model checkpoint at bert-base-multilingual-cased and are newly initialized: ['classifier.bias', 'classifier.weight']\n",
      "You should probably TRAIN this model on a down-stream task to be able to use it for predictions and inference.\n"
     ]
    },
    {
     "name": "stdout",
     "output_type": "stream",
     "text": [
      "Data found: ./data/train.iob\n",
      "Data found: ./data/test.iob\n"
     ]
    }
   ],
   "source": [
    "tokenizer = BertTokenizer.from_pretrained('bert-base-multilingual-cased')\n",
    "model = BertForTokenClassification.from_pretrained('bert-base-multilingual-cased', num_labels=9)\n",
    "train_url = 'https://raw.githubusercontent.com/lang-uk/flair-ner/main/fixed-split/train.iob'\n",
    "test_url = 'https://raw.githubusercontent.com/lang-uk/flair-ner/main/fixed-split/test.iob'\n",
    "\n",
    "def download_data(url, file_name):\n",
    "    if not os.path.exists(file_name):\n",
    "        response = requests.get(url)\n",
    "        with open(file_name, 'w', encoding='utf-8') as f:\n",
    "            f.write(response.text)\n",
    "        print(f'Data downloaded: {file_name}')\n",
    "    else:\n",
    "        print('Data found:', file_name)\n",
    "data_folder = './data/'\n",
    "os.makedirs(data_folder, exist_ok=True)\n",
    "download_data(train_url, os.path.join(data_folder, 'train.iob'))\n",
    "download_data(test_url, os.path.join(data_folder, 'test.iob'))\n",
    "\n",
    "distilbert_embeddings = TransformerWordEmbeddings('distilbert-base-multilingual-cased', fine_tune=True)\n"
   ]
  },
  {
   "cell_type": "markdown",
   "metadata": {},
   "source": [
    "Lets make corpus"
   ]
  },
  {
   "cell_type": "code",
   "execution_count": 3,
   "metadata": {},
   "outputs": [
    {
     "name": "stdout",
     "output_type": "stream",
     "text": [
      "2024-09-07 23:53:29,910 Reading data from data\n",
      "2024-09-07 23:53:29,912 Train: data/train.iob\n",
      "2024-09-07 23:53:29,913 Dev: None\n",
      "2024-09-07 23:53:29,913 Test: data/test.iob\n",
      "2024-09-07 23:53:32,649 No dev split found. Using 10% (i.e. 876 samples) of the train split as dev data\n",
      "Corpus: 7886 train + 876 dev + 4045 test sentences\n",
      "Sentence[18]: \"Зрозуміло , що український бізнес почав використовувати КСВ як інструмент формування своєї репутації буквально декілька років тому .\"\n",
      "Sentence[22]: \"З одного боку , саме через це більшість проектів КСВ здійснюються епізодично та деколи виглядають , радше , як просто благодійність .\"\n",
      "Sentence[8]: \"Винятком будуть хіба що представництва іноземних корпорацій .\"\n",
      "Sentence[20]: \"З іншого боку , для українських компаній відкривається потужне « вікно можливостей » , щоб втілювати власні унікальні стратегії .\"\n",
      "Sentence[3]: \"Філантропія як пріоритет\"\n",
      "Sentence[15]: \"Це може бути як власна ініціатива , так і відповідь на запит від громади .\"\n",
      "Sentence[17]: \"Це абсолютно нормальна практика через недостатній рівень статків та доходів переважної більшості українських громадян та громад .\"\n",
      "Sentence[23]: \"І хоча деякі місцеві експерти вважають це базовим рівнем , що свідчить про недостатній розвиток КСВ , ця діяльність заслуговує на повагу .\"\n",
      "Sentence[11]: \"Вони абсолютно відповідають Глобальному договору та Цілям сталого розвитку ООН .\" → [\"Глобальному договору та Цілям сталого розвитку ООН\"/MISC]\n",
      "Sentence[3]: \"Виклики воєнного часу\"\n",
      "Sentence[33]: \"Підтримка Збройних Сил — один з унікальних і суто українських напрямків КСВ . Збройні Сили України напередодні анексії Криму та втручання « заклятого друга » у Донбасі перебували в стані жорсткого недофінансування .\" → [\"Збройних Сил\"/ORG, \"Збройні Сили України\"/ORG, \"Криму\"/LOC, \"Донбасі\"/LOC]\n",
      "Sentence[6]: \"Хто прийшов на допомогу армії ?\"\n",
      "Sentence[27]: \"Складно сказати , чи буде коли-небудь зроблена оцінка пожертв громадян у 2014 р . , але , радше за все , йдеться про сотні мільйонів доларів .\"\n",
      "Sentence[18]: \"Адже підприємці віддавали на оборону і гроші , і споряд ження , і продовольство , і автомобілі .\"\n",
      "Sentence[13]: \"На окупованих територіях багато бізнесменів втратили підприємства , які вони розбудовували роками .\"\n",
      "2024-09-07 23:53:32,651 Computing label dictionary. Progress:\n"
     ]
    },
    {
     "name": "stderr",
     "output_type": "stream",
     "text": [
      "8it [00:00, 6633.93it/s]\n",
      "7886it [00:00, 32802.54it/s]"
     ]
    },
    {
     "name": "stdout",
     "output_type": "stream",
     "text": [
      "2024-09-07 23:53:32,898 Dictionary created for label 'ner' with 4 values: PERS (seen 2408 times), LOC (seen 1087 times), ORG (seen 453 times), MISC (seen 373 times)\n",
      "Dictionary with 4 tags: PERS, LOC, ORG, MISC\n"
     ]
    },
    {
     "name": "stderr",
     "output_type": "stream",
     "text": [
      "\n"
     ]
    }
   ],
   "source": [
    "columns = {0: 'text', 1: 'ner'}\n",
    "corpus = ColumnCorpus(data_folder, columns,\n",
    "                      train_file='train.iob',\n",
    "                      test_file='test.iob')\n",
    "print(corpus)\n",
    "for i in range(15):\n",
    "    print(corpus.train[i])\n",
    "tag_types = corpus.make_label_dictionary(label_type='ner')\n",
    "print(tag_types)\n",
    "\n",
    "\n"
   ]
  },
  {
   "cell_type": "markdown",
   "metadata": {},
   "source": [
    "Lets make tagger and trainer"
   ]
  },
  {
   "cell_type": "code",
   "execution_count": 4,
   "metadata": {},
   "outputs": [
    {
     "name": "stdout",
     "output_type": "stream",
     "text": [
      "2024-09-07 23:53:32,906 SequenceTagger predicts: Dictionary with 17 tags: O, S-PERS, B-PERS, E-PERS, I-PERS, S-LOC, B-LOC, E-LOC, I-LOC, S-ORG, B-ORG, E-ORG, I-ORG, S-MISC, B-MISC, E-MISC, I-MISC\n"
     ]
    }
   ],
   "source": [
    "tagger = SequenceTagger(hidden_size=128,\n",
    "                        embeddings=distilbert_embeddings,\n",
    "                        tag_dictionary=tag_types,\n",
    "                        tag_type='ner',\n",
    "                        use_crf=False)\n",
    "trainer = ModelTrainer(tagger, corpus)\n"
   ]
  },
  {
   "cell_type": "markdown",
   "metadata": {},
   "source": [
    "Model name and and model"
   ]
  },
  {
   "cell_type": "code",
   "execution_count": 5,
   "metadata": {},
   "outputs": [],
   "source": [
    "finetuned_model_name='dist-finetuned.05'\n"
   ]
  },
  {
   "cell_type": "code",
   "execution_count": 6,
   "metadata": {},
   "outputs": [
    {
     "name": "stdout",
     "output_type": "stream",
     "text": [
      "2024-09-07 23:53:39,051 ----------------------------------------------------------------------------------------------------\n",
      "2024-09-07 23:53:39,053 Model: \"SequenceTagger(\n",
      "  (embeddings): TransformerWordEmbeddings(\n",
      "    (model): DistilBertModel(\n",
      "      (embeddings): Embeddings(\n",
      "        (word_embeddings): Embedding(119548, 768, padding_idx=0)\n",
      "        (position_embeddings): Embedding(512, 768)\n",
      "        (LayerNorm): LayerNorm((768,), eps=1e-12, elementwise_affine=True)\n",
      "        (dropout): Dropout(p=0.1, inplace=False)\n",
      "      )\n",
      "      (transformer): Transformer(\n",
      "        (layer): ModuleList(\n",
      "          (0-5): 6 x TransformerBlock(\n",
      "            (attention): MultiHeadSelfAttention(\n",
      "              (dropout): Dropout(p=0.1, inplace=False)\n",
      "              (q_lin): Linear(in_features=768, out_features=768, bias=True)\n",
      "              (k_lin): Linear(in_features=768, out_features=768, bias=True)\n",
      "              (v_lin): Linear(in_features=768, out_features=768, bias=True)\n",
      "              (out_lin): Linear(in_features=768, out_features=768, bias=True)\n",
      "            )\n",
      "            (sa_layer_norm): LayerNorm((768,), eps=1e-12, elementwise_affine=True)\n",
      "            (ffn): FFN(\n",
      "              (dropout): Dropout(p=0.1, inplace=False)\n",
      "              (lin1): Linear(in_features=768, out_features=3072, bias=True)\n",
      "              (lin2): Linear(in_features=3072, out_features=768, bias=True)\n",
      "              (activation): GELUActivation()\n",
      "            )\n",
      "            (output_layer_norm): LayerNorm((768,), eps=1e-12, elementwise_affine=True)\n",
      "          )\n",
      "        )\n",
      "      )\n",
      "    )\n",
      "  )\n",
      "  (word_dropout): WordDropout(p=0.05)\n",
      "  (locked_dropout): LockedDropout(p=0.5)\n",
      "  (embedding2nn): Linear(in_features=768, out_features=768, bias=True)\n",
      "  (rnn): LSTM(768, 128, batch_first=True, bidirectional=True)\n",
      "  (linear): Linear(in_features=256, out_features=17, bias=True)\n",
      "  (loss_function): CrossEntropyLoss()\n",
      ")\"\n",
      "2024-09-07 23:53:39,054 ----------------------------------------------------------------------------------------------------\n",
      "2024-09-07 23:53:39,055 Corpus: 7886 train + 876 dev + 4045 test sentences\n",
      "2024-09-07 23:53:39,055 ----------------------------------------------------------------------------------------------------\n",
      "2024-09-07 23:53:39,056 Train:  8762 sentences\n",
      "2024-09-07 23:53:39,056         (train_with_dev=True, train_with_test=False)\n",
      "2024-09-07 23:53:39,057 ----------------------------------------------------------------------------------------------------\n",
      "2024-09-07 23:53:39,058 Training Params:\n",
      "2024-09-07 23:53:39,058  - learning_rate: \"0.01\" \n",
      "2024-09-07 23:53:39,059  - mini_batch_size: \"1\"\n",
      "2024-09-07 23:53:39,059  - max_epochs: \"48\"\n",
      "2024-09-07 23:53:39,060  - shuffle: \"True\"\n",
      "2024-09-07 23:53:39,060 ----------------------------------------------------------------------------------------------------\n",
      "2024-09-07 23:53:39,061 Plugins:\n",
      "2024-09-07 23:53:39,061  - AnnealOnPlateau | patience: '3', anneal_factor: '0.5', min_learning_rate: '0.0001'\n",
      "2024-09-07 23:53:39,063 ----------------------------------------------------------------------------------------------------\n",
      "2024-09-07 23:53:39,063 Final evaluation on model from best epoch (best-model.pt)\n",
      "2024-09-07 23:53:39,064  - metric: \"('micro avg', 'f1-score')\"\n",
      "2024-09-07 23:53:39,064 ----------------------------------------------------------------------------------------------------\n",
      "2024-09-07 23:53:39,065 Computation:\n",
      "2024-09-07 23:53:39,066  - compute on device: cuda:0\n",
      "2024-09-07 23:53:39,067  - embedding storage: cpu\n",
      "2024-09-07 23:53:39,067 ----------------------------------------------------------------------------------------------------\n",
      "2024-09-07 23:53:39,068 Model training base path: \"dist-finetuned.05\"\n",
      "2024-09-07 23:53:39,068 ----------------------------------------------------------------------------------------------------\n",
      "2024-09-07 23:53:39,069 ----------------------------------------------------------------------------------------------------\n"
     ]
    },
    {
     "name": "stderr",
     "output_type": "stream",
     "text": [
      "/home/sginne/anaconda3/envs/flair_env/lib/python3.8/site-packages/flair/trainers/trainer.py:499: FutureWarning: `torch.cuda.amp.GradScaler(args...)` is deprecated. Please use `torch.amp.GradScaler('cuda', args...)` instead.\n",
      "  scaler = torch.cuda.amp.GradScaler(enabled=use_amp and flair.device.type != \"cpu\")\n"
     ]
    },
    {
     "name": "stdout",
     "output_type": "stream",
     "text": [
      "2024-09-07 23:54:35,008 epoch 1 - iter 876/8762 - loss 0.30177201 - time (sec): 55.94 - samples/sec: 288.02 - lr: 0.010000 - momentum: 0.000000\n",
      "2024-09-07 23:55:26,159 epoch 1 - iter 1752/8762 - loss 0.25529109 - time (sec): 107.09 - samples/sec: 292.68 - lr: 0.010000 - momentum: 0.000000\n",
      "2024-09-07 23:56:16,638 epoch 1 - iter 2628/8762 - loss 0.21538985 - time (sec): 157.57 - samples/sec: 295.24 - lr: 0.010000 - momentum: 0.000000\n",
      "2024-09-07 23:57:07,196 epoch 1 - iter 3504/8762 - loss 0.19449142 - time (sec): 208.13 - samples/sec: 299.88 - lr: 0.010000 - momentum: 0.000000\n",
      "2024-09-07 23:57:57,915 epoch 1 - iter 4380/8762 - loss 0.18189258 - time (sec): 258.85 - samples/sec: 303.79 - lr: 0.010000 - momentum: 0.000000\n",
      "2024-09-07 23:58:48,780 epoch 1 - iter 5256/8762 - loss 0.17395712 - time (sec): 309.71 - samples/sec: 307.74 - lr: 0.010000 - momentum: 0.000000\n",
      "2024-09-07 23:59:39,334 epoch 1 - iter 6132/8762 - loss 0.16982783 - time (sec): 360.26 - samples/sec: 309.24 - lr: 0.010000 - momentum: 0.000000\n",
      "2024-09-08 00:00:29,931 epoch 1 - iter 7008/8762 - loss 0.16408565 - time (sec): 410.86 - samples/sec: 310.58 - lr: 0.010000 - momentum: 0.000000\n",
      "2024-09-08 00:01:20,387 epoch 1 - iter 7884/8762 - loss 0.15893651 - time (sec): 461.32 - samples/sec: 309.30 - lr: 0.010000 - momentum: 0.000000\n",
      "2024-09-08 00:02:10,983 epoch 1 - iter 8760/8762 - loss 0.15592788 - time (sec): 511.91 - samples/sec: 310.04 - lr: 0.010000 - momentum: 0.000000\n",
      "2024-09-08 00:02:11,099 ----------------------------------------------------------------------------------------------------\n",
      "2024-09-08 00:02:11,100 EPOCH 1 done: loss 0.1559 - lr: 0.010000\n"
     ]
    },
    {
     "name": "stderr",
     "output_type": "stream",
     "text": [
      "100%|██████████| 64/64 [01:03<00:00,  1.01it/s]"
     ]
    },
    {
     "name": "stdout",
     "output_type": "stream",
     "text": [
      "2024-09-08 00:03:14,377 TEST : loss 0.1391058713197708 - f1-score (micro avg)  0.6948\n"
     ]
    },
    {
     "name": "stderr",
     "output_type": "stream",
     "text": [
      "\n"
     ]
    },
    {
     "name": "stdout",
     "output_type": "stream",
     "text": [
      "2024-09-08 00:03:14,587  - 0 epochs without improvement\n",
      "2024-09-08 00:03:14,588 ----------------------------------------------------------------------------------------------------\n",
      "2024-09-08 00:04:05,333 epoch 2 - iter 876/8762 - loss 0.09334922 - time (sec): 50.74 - samples/sec: 306.66 - lr: 0.010000 - momentum: 0.000000\n",
      "2024-09-08 00:04:56,167 epoch 2 - iter 1752/8762 - loss 0.11052437 - time (sec): 101.58 - samples/sec: 313.72 - lr: 0.010000 - momentum: 0.000000\n",
      "2024-09-08 00:05:47,087 epoch 2 - iter 2628/8762 - loss 0.10017007 - time (sec): 152.50 - samples/sec: 315.05 - lr: 0.010000 - momentum: 0.000000\n",
      "2024-09-08 00:06:37,756 epoch 2 - iter 3504/8762 - loss 0.09403462 - time (sec): 203.17 - samples/sec: 313.65 - lr: 0.010000 - momentum: 0.000000\n",
      "2024-09-08 00:07:28,732 epoch 2 - iter 4380/8762 - loss 0.09662210 - time (sec): 254.14 - samples/sec: 313.29 - lr: 0.010000 - momentum: 0.000000\n",
      "2024-09-08 00:08:19,404 epoch 2 - iter 5256/8762 - loss 0.09247689 - time (sec): 304.82 - samples/sec: 311.74 - lr: 0.010000 - momentum: 0.000000\n",
      "2024-09-08 00:09:10,049 epoch 2 - iter 6132/8762 - loss 0.09329236 - time (sec): 355.46 - samples/sec: 311.23 - lr: 0.010000 - momentum: 0.000000\n",
      "2024-09-08 00:10:00,823 epoch 2 - iter 7008/8762 - loss 0.09428625 - time (sec): 406.23 - samples/sec: 310.56 - lr: 0.010000 - momentum: 0.000000\n",
      "2024-09-08 00:10:51,624 epoch 2 - iter 7884/8762 - loss 0.09431526 - time (sec): 457.03 - samples/sec: 311.83 - lr: 0.010000 - momentum: 0.000000\n",
      "2024-09-08 00:11:42,408 epoch 2 - iter 8760/8762 - loss 0.09286677 - time (sec): 507.82 - samples/sec: 312.51 - lr: 0.010000 - momentum: 0.000000\n",
      "2024-09-08 00:11:42,523 ----------------------------------------------------------------------------------------------------\n",
      "2024-09-08 00:11:42,524 EPOCH 2 done: loss 0.0928 - lr: 0.010000\n"
     ]
    },
    {
     "name": "stderr",
     "output_type": "stream",
     "text": [
      "100%|██████████| 64/64 [00:06<00:00, 10.31it/s]\n"
     ]
    },
    {
     "name": "stdout",
     "output_type": "stream",
     "text": [
      "2024-09-08 00:11:48,776 TEST : loss 0.13826881349086761 - f1-score (micro avg)  0.7256\n",
      "2024-09-08 00:11:48,979  - 0 epochs without improvement\n",
      "2024-09-08 00:11:48,980 ----------------------------------------------------------------------------------------------------\n",
      "2024-09-08 00:12:39,773 epoch 3 - iter 876/8762 - loss 0.08108207 - time (sec): 50.79 - samples/sec: 310.45 - lr: 0.010000 - momentum: 0.000000\n",
      "2024-09-08 00:13:30,750 epoch 3 - iter 1752/8762 - loss 0.07742904 - time (sec): 101.77 - samples/sec: 322.12 - lr: 0.010000 - momentum: 0.000000\n",
      "2024-09-08 00:14:21,345 epoch 3 - iter 2628/8762 - loss 0.07891175 - time (sec): 152.36 - samples/sec: 317.01 - lr: 0.010000 - momentum: 0.000000\n",
      "2024-09-08 00:15:12,340 epoch 3 - iter 3504/8762 - loss 0.07979293 - time (sec): 203.36 - samples/sec: 317.08 - lr: 0.010000 - momentum: 0.000000\n",
      "2024-09-08 00:16:02,903 epoch 3 - iter 4380/8762 - loss 0.07427881 - time (sec): 253.92 - samples/sec: 314.98 - lr: 0.010000 - momentum: 0.000000\n",
      "2024-09-08 00:16:53,752 epoch 3 - iter 5256/8762 - loss 0.07318058 - time (sec): 304.77 - samples/sec: 313.71 - lr: 0.010000 - momentum: 0.000000\n",
      "2024-09-08 00:17:44,652 epoch 3 - iter 6132/8762 - loss 0.07395652 - time (sec): 355.67 - samples/sec: 315.63 - lr: 0.010000 - momentum: 0.000000\n",
      "2024-09-08 00:18:35,246 epoch 3 - iter 7008/8762 - loss 0.07147683 - time (sec): 406.26 - samples/sec: 313.44 - lr: 0.010000 - momentum: 0.000000\n",
      "2024-09-08 00:19:25,980 epoch 3 - iter 7884/8762 - loss 0.07165748 - time (sec): 457.00 - samples/sec: 313.57 - lr: 0.010000 - momentum: 0.000000\n",
      "2024-09-08 00:20:16,617 epoch 3 - iter 8760/8762 - loss 0.07147749 - time (sec): 507.64 - samples/sec: 312.60 - lr: 0.010000 - momentum: 0.000000\n",
      "2024-09-08 00:20:16,733 ----------------------------------------------------------------------------------------------------\n",
      "2024-09-08 00:20:16,734 EPOCH 3 done: loss 0.0715 - lr: 0.010000\n"
     ]
    },
    {
     "name": "stderr",
     "output_type": "stream",
     "text": [
      "100%|██████████| 64/64 [00:06<00:00, 10.48it/s]\n"
     ]
    },
    {
     "name": "stdout",
     "output_type": "stream",
     "text": [
      "2024-09-08 00:20:22,907 TEST : loss 0.13800208270549774 - f1-score (micro avg)  0.7194\n",
      "2024-09-08 00:20:23,130  - 0 epochs without improvement\n",
      "2024-09-08 00:20:23,131 ----------------------------------------------------------------------------------------------------\n",
      "2024-09-08 00:21:13,739 epoch 4 - iter 876/8762 - loss 0.03751981 - time (sec): 50.61 - samples/sec: 311.11 - lr: 0.010000 - momentum: 0.000000\n",
      "2024-09-08 00:22:04,682 epoch 4 - iter 1752/8762 - loss 0.04639005 - time (sec): 101.55 - samples/sec: 320.50 - lr: 0.010000 - momentum: 0.000000\n",
      "2024-09-08 00:22:55,254 epoch 4 - iter 2628/8762 - loss 0.05312054 - time (sec): 152.12 - samples/sec: 316.83 - lr: 0.010000 - momentum: 0.000000\n",
      "2024-09-08 00:23:46,542 epoch 4 - iter 3504/8762 - loss 0.05187477 - time (sec): 203.41 - samples/sec: 313.04 - lr: 0.010000 - momentum: 0.000000\n",
      "2024-09-08 00:24:37,513 epoch 4 - iter 4380/8762 - loss 0.05208323 - time (sec): 254.38 - samples/sec: 312.05 - lr: 0.010000 - momentum: 0.000000\n",
      "2024-09-08 00:25:28,707 epoch 4 - iter 5256/8762 - loss 0.05351680 - time (sec): 305.57 - samples/sec: 312.36 - lr: 0.010000 - momentum: 0.000000\n",
      "2024-09-08 00:26:19,707 epoch 4 - iter 6132/8762 - loss 0.05454815 - time (sec): 356.57 - samples/sec: 311.19 - lr: 0.010000 - momentum: 0.000000\n",
      "2024-09-08 00:27:10,881 epoch 4 - iter 7008/8762 - loss 0.05601311 - time (sec): 407.75 - samples/sec: 311.46 - lr: 0.010000 - momentum: 0.000000\n",
      "2024-09-08 00:28:02,086 epoch 4 - iter 7884/8762 - loss 0.05554629 - time (sec): 458.95 - samples/sec: 310.98 - lr: 0.010000 - momentum: 0.000000\n",
      "2024-09-08 00:28:53,163 epoch 4 - iter 8760/8762 - loss 0.05425434 - time (sec): 510.03 - samples/sec: 311.18 - lr: 0.010000 - momentum: 0.000000\n",
      "2024-09-08 00:28:53,277 ----------------------------------------------------------------------------------------------------\n",
      "2024-09-08 00:28:53,278 EPOCH 4 done: loss 0.0542 - lr: 0.010000\n"
     ]
    },
    {
     "name": "stderr",
     "output_type": "stream",
     "text": [
      "100%|██████████| 64/64 [00:06<00:00, 10.34it/s]\n"
     ]
    },
    {
     "name": "stdout",
     "output_type": "stream",
     "text": [
      "2024-09-08 00:28:59,516 TEST : loss 0.1407155692577362 - f1-score (micro avg)  0.7136\n",
      "2024-09-08 00:28:59,732  - 0 epochs without improvement\n",
      "2024-09-08 00:28:59,733 ----------------------------------------------------------------------------------------------------\n",
      "2024-09-08 00:29:50,997 epoch 5 - iter 876/8762 - loss 0.03714032 - time (sec): 51.26 - samples/sec: 316.78 - lr: 0.010000 - momentum: 0.000000\n",
      "2024-09-08 00:30:42,319 epoch 5 - iter 1752/8762 - loss 0.04498555 - time (sec): 102.58 - samples/sec: 318.76 - lr: 0.010000 - momentum: 0.000000\n",
      "2024-09-08 00:31:33,391 epoch 5 - iter 2628/8762 - loss 0.04185791 - time (sec): 153.65 - samples/sec: 313.15 - lr: 0.010000 - momentum: 0.000000\n",
      "2024-09-08 00:32:24,748 epoch 5 - iter 3504/8762 - loss 0.04078193 - time (sec): 205.01 - samples/sec: 314.59 - lr: 0.010000 - momentum: 0.000000\n",
      "2024-09-08 00:33:15,719 epoch 5 - iter 4380/8762 - loss 0.04098185 - time (sec): 255.98 - samples/sec: 312.99 - lr: 0.010000 - momentum: 0.000000\n",
      "2024-09-08 00:34:06,582 epoch 5 - iter 5256/8762 - loss 0.04407818 - time (sec): 306.85 - samples/sec: 310.03 - lr: 0.010000 - momentum: 0.000000\n",
      "2024-09-08 00:34:57,723 epoch 5 - iter 6132/8762 - loss 0.04564440 - time (sec): 357.99 - samples/sec: 311.56 - lr: 0.010000 - momentum: 0.000000\n",
      "2024-09-08 00:35:48,539 epoch 5 - iter 7008/8762 - loss 0.04366797 - time (sec): 408.80 - samples/sec: 310.75 - lr: 0.010000 - momentum: 0.000000\n",
      "2024-09-08 00:36:39,252 epoch 5 - iter 7884/8762 - loss 0.04218905 - time (sec): 459.52 - samples/sec: 309.86 - lr: 0.010000 - momentum: 0.000000\n",
      "2024-09-08 00:37:30,263 epoch 5 - iter 8760/8762 - loss 0.04162883 - time (sec): 510.53 - samples/sec: 310.86 - lr: 0.010000 - momentum: 0.000000\n",
      "2024-09-08 00:37:30,379 ----------------------------------------------------------------------------------------------------\n",
      "2024-09-08 00:37:30,380 EPOCH 5 done: loss 0.0416 - lr: 0.010000\n"
     ]
    },
    {
     "name": "stderr",
     "output_type": "stream",
     "text": [
      "100%|██████████| 64/64 [00:06<00:00, 10.42it/s]\n"
     ]
    },
    {
     "name": "stdout",
     "output_type": "stream",
     "text": [
      "2024-09-08 00:37:36,574 TEST : loss 0.1478276401758194 - f1-score (micro avg)  0.7205\n",
      "2024-09-08 00:37:36,780  - 0 epochs without improvement\n",
      "2024-09-08 00:37:36,781 ----------------------------------------------------------------------------------------------------\n",
      "2024-09-08 00:38:27,740 epoch 6 - iter 876/8762 - loss 0.03128049 - time (sec): 50.96 - samples/sec: 317.60 - lr: 0.010000 - momentum: 0.000000\n",
      "2024-09-08 00:39:18,729 epoch 6 - iter 1752/8762 - loss 0.03222395 - time (sec): 101.95 - samples/sec: 313.79 - lr: 0.010000 - momentum: 0.000000\n",
      "2024-09-08 00:40:09,798 epoch 6 - iter 2628/8762 - loss 0.03416298 - time (sec): 153.02 - samples/sec: 315.30 - lr: 0.010000 - momentum: 0.000000\n",
      "2024-09-08 00:41:00,787 epoch 6 - iter 3504/8762 - loss 0.03500166 - time (sec): 204.01 - samples/sec: 314.04 - lr: 0.010000 - momentum: 0.000000\n",
      "2024-09-08 00:41:51,607 epoch 6 - iter 4380/8762 - loss 0.03480739 - time (sec): 254.82 - samples/sec: 311.33 - lr: 0.010000 - momentum: 0.000000\n",
      "2024-09-08 00:42:42,801 epoch 6 - iter 5256/8762 - loss 0.03413769 - time (sec): 306.02 - samples/sec: 312.47 - lr: 0.010000 - momentum: 0.000000\n",
      "2024-09-08 00:43:33,674 epoch 6 - iter 6132/8762 - loss 0.03229834 - time (sec): 356.89 - samples/sec: 310.89 - lr: 0.010000 - momentum: 0.000000\n",
      "2024-09-08 00:44:24,563 epoch 6 - iter 7008/8762 - loss 0.03081630 - time (sec): 407.78 - samples/sec: 311.66 - lr: 0.010000 - momentum: 0.000000\n",
      "2024-09-08 00:45:15,664 epoch 6 - iter 7884/8762 - loss 0.03053704 - time (sec): 458.88 - samples/sec: 312.23 - lr: 0.010000 - momentum: 0.000000\n",
      "2024-09-08 00:46:06,743 epoch 6 - iter 8760/8762 - loss 0.03043789 - time (sec): 509.96 - samples/sec: 311.21 - lr: 0.010000 - momentum: 0.000000\n",
      "2024-09-08 00:46:06,858 ----------------------------------------------------------------------------------------------------\n",
      "2024-09-08 00:46:06,858 EPOCH 6 done: loss 0.0304 - lr: 0.010000\n"
     ]
    },
    {
     "name": "stderr",
     "output_type": "stream",
     "text": [
      "100%|██████████| 64/64 [00:05<00:00, 11.70it/s]\n"
     ]
    },
    {
     "name": "stdout",
     "output_type": "stream",
     "text": [
      "2024-09-08 00:46:12,376 TEST : loss 0.15644781291484833 - f1-score (micro avg)  0.7223\n",
      "2024-09-08 00:46:12,582  - 0 epochs without improvement\n",
      "2024-09-08 00:46:12,583 ----------------------------------------------------------------------------------------------------\n",
      "2024-09-08 00:47:03,468 epoch 7 - iter 876/8762 - loss 0.01685088 - time (sec): 50.88 - samples/sec: 304.05 - lr: 0.010000 - momentum: 0.000000\n",
      "2024-09-08 00:47:54,497 epoch 7 - iter 1752/8762 - loss 0.02446325 - time (sec): 101.91 - samples/sec: 312.06 - lr: 0.010000 - momentum: 0.000000\n",
      "2024-09-08 00:48:45,218 epoch 7 - iter 2628/8762 - loss 0.02714071 - time (sec): 152.63 - samples/sec: 307.78 - lr: 0.010000 - momentum: 0.000000\n",
      "2024-09-08 00:49:36,247 epoch 7 - iter 3504/8762 - loss 0.02636813 - time (sec): 203.66 - samples/sec: 307.92 - lr: 0.010000 - momentum: 0.000000\n",
      "2024-09-08 00:50:27,204 epoch 7 - iter 4380/8762 - loss 0.02579914 - time (sec): 254.62 - samples/sec: 309.44 - lr: 0.010000 - momentum: 0.000000\n",
      "2024-09-08 00:51:18,106 epoch 7 - iter 5256/8762 - loss 0.02665349 - time (sec): 305.52 - samples/sec: 310.43 - lr: 0.010000 - momentum: 0.000000\n",
      "2024-09-08 00:52:08,918 epoch 7 - iter 6132/8762 - loss 0.02610566 - time (sec): 356.33 - samples/sec: 311.39 - lr: 0.010000 - momentum: 0.000000\n",
      "2024-09-08 00:52:59,906 epoch 7 - iter 7008/8762 - loss 0.02504101 - time (sec): 407.32 - samples/sec: 311.32 - lr: 0.010000 - momentum: 0.000000\n",
      "2024-09-08 00:53:50,739 epoch 7 - iter 7884/8762 - loss 0.02391641 - time (sec): 458.15 - samples/sec: 311.35 - lr: 0.010000 - momentum: 0.000000\n",
      "2024-09-08 00:54:41,663 epoch 7 - iter 8760/8762 - loss 0.02363917 - time (sec): 509.08 - samples/sec: 311.76 - lr: 0.010000 - momentum: 0.000000\n",
      "2024-09-08 00:54:41,778 ----------------------------------------------------------------------------------------------------\n",
      "2024-09-08 00:54:41,778 EPOCH 7 done: loss 0.0236 - lr: 0.010000\n"
     ]
    },
    {
     "name": "stderr",
     "output_type": "stream",
     "text": [
      "100%|██████████| 64/64 [00:06<00:00, 10.58it/s]\n"
     ]
    },
    {
     "name": "stdout",
     "output_type": "stream",
     "text": [
      "2024-09-08 00:54:47,875 TEST : loss 0.16844964027404785 - f1-score (micro avg)  0.7145\n",
      "2024-09-08 00:54:48,082  - 0 epochs without improvement\n",
      "2024-09-08 00:54:48,083 ----------------------------------------------------------------------------------------------------\n",
      "2024-09-08 00:55:38,871 epoch 8 - iter 876/8762 - loss 0.01886566 - time (sec): 50.79 - samples/sec: 305.10 - lr: 0.010000 - momentum: 0.000000\n",
      "2024-09-08 00:56:29,731 epoch 8 - iter 1752/8762 - loss 0.02026685 - time (sec): 101.65 - samples/sec: 308.07 - lr: 0.010000 - momentum: 0.000000\n",
      "2024-09-08 00:57:20,701 epoch 8 - iter 2628/8762 - loss 0.01796746 - time (sec): 152.62 - samples/sec: 311.13 - lr: 0.010000 - momentum: 0.000000\n",
      "2024-09-08 00:58:11,480 epoch 8 - iter 3504/8762 - loss 0.01626772 - time (sec): 203.40 - samples/sec: 309.98 - lr: 0.010000 - momentum: 0.000000\n",
      "2024-09-08 00:59:02,459 epoch 8 - iter 4380/8762 - loss 0.01832195 - time (sec): 254.37 - samples/sec: 311.12 - lr: 0.010000 - momentum: 0.000000\n",
      "2024-09-08 00:59:53,306 epoch 8 - iter 5256/8762 - loss 0.01788724 - time (sec): 305.22 - samples/sec: 310.49 - lr: 0.010000 - momentum: 0.000000\n",
      "2024-09-08 01:00:44,142 epoch 8 - iter 6132/8762 - loss 0.01876992 - time (sec): 356.06 - samples/sec: 310.43 - lr: 0.010000 - momentum: 0.000000\n",
      "2024-09-08 01:01:35,282 epoch 8 - iter 7008/8762 - loss 0.01919545 - time (sec): 407.20 - samples/sec: 311.44 - lr: 0.010000 - momentum: 0.000000\n",
      "2024-09-08 01:02:26,178 epoch 8 - iter 7884/8762 - loss 0.01931995 - time (sec): 458.09 - samples/sec: 312.45 - lr: 0.010000 - momentum: 0.000000\n",
      "2024-09-08 01:03:16,991 epoch 8 - iter 8760/8762 - loss 0.01912344 - time (sec): 508.91 - samples/sec: 311.87 - lr: 0.010000 - momentum: 0.000000\n",
      "2024-09-08 01:03:17,103 ----------------------------------------------------------------------------------------------------\n",
      "2024-09-08 01:03:17,104 EPOCH 8 done: loss 0.0191 - lr: 0.010000\n"
     ]
    },
    {
     "name": "stderr",
     "output_type": "stream",
     "text": [
      "100%|██████████| 64/64 [00:06<00:00, 10.41it/s]\n"
     ]
    },
    {
     "name": "stdout",
     "output_type": "stream",
     "text": [
      "2024-09-08 01:03:23,302 TEST : loss 0.17501312494277954 - f1-score (micro avg)  0.7154\n",
      "2024-09-08 01:03:23,505  - 0 epochs without improvement\n",
      "2024-09-08 01:03:23,525 ----------------------------------------------------------------------------------------------------\n",
      "2024-09-08 01:04:14,605 epoch 9 - iter 876/8762 - loss 0.02064154 - time (sec): 51.08 - samples/sec: 323.56 - lr: 0.010000 - momentum: 0.000000\n",
      "2024-09-08 01:05:05,618 epoch 9 - iter 1752/8762 - loss 0.01866504 - time (sec): 102.09 - samples/sec: 317.06 - lr: 0.010000 - momentum: 0.000000\n",
      "2024-09-08 01:05:56,495 epoch 9 - iter 2628/8762 - loss 0.01648486 - time (sec): 152.97 - samples/sec: 316.91 - lr: 0.010000 - momentum: 0.000000\n",
      "2024-09-08 01:06:47,247 epoch 9 - iter 3504/8762 - loss 0.01670474 - time (sec): 203.72 - samples/sec: 312.26 - lr: 0.010000 - momentum: 0.000000\n",
      "2024-09-08 01:07:38,051 epoch 9 - iter 4380/8762 - loss 0.01628784 - time (sec): 254.53 - samples/sec: 311.70 - lr: 0.010000 - momentum: 0.000000\n",
      "2024-09-08 01:08:28,877 epoch 9 - iter 5256/8762 - loss 0.01738813 - time (sec): 305.35 - samples/sec: 310.38 - lr: 0.010000 - momentum: 0.000000\n",
      "2024-09-08 01:09:19,872 epoch 9 - iter 6132/8762 - loss 0.01627504 - time (sec): 356.35 - samples/sec: 310.80 - lr: 0.010000 - momentum: 0.000000\n",
      "2024-09-08 01:10:10,970 epoch 9 - iter 7008/8762 - loss 0.01592482 - time (sec): 407.44 - samples/sec: 311.92 - lr: 0.010000 - momentum: 0.000000\n",
      "2024-09-08 01:11:01,902 epoch 9 - iter 7884/8762 - loss 0.01633653 - time (sec): 458.38 - samples/sec: 312.77 - lr: 0.010000 - momentum: 0.000000\n",
      "2024-09-08 01:11:52,706 epoch 9 - iter 8760/8762 - loss 0.01625516 - time (sec): 509.18 - samples/sec: 311.64 - lr: 0.010000 - momentum: 0.000000\n",
      "2024-09-08 01:11:52,823 ----------------------------------------------------------------------------------------------------\n",
      "2024-09-08 01:11:52,824 EPOCH 9 done: loss 0.0162 - lr: 0.010000\n"
     ]
    },
    {
     "name": "stderr",
     "output_type": "stream",
     "text": [
      "100%|██████████| 64/64 [00:06<00:00, 10.39it/s]\n"
     ]
    },
    {
     "name": "stdout",
     "output_type": "stream",
     "text": [
      "2024-09-08 01:11:59,034 TEST : loss 0.18330664932727814 - f1-score (micro avg)  0.713\n",
      "2024-09-08 01:11:59,239  - 0 epochs without improvement\n",
      "2024-09-08 01:11:59,240 ----------------------------------------------------------------------------------------------------\n",
      "2024-09-08 01:12:50,088 epoch 10 - iter 876/8762 - loss 0.01362153 - time (sec): 50.85 - samples/sec: 316.64 - lr: 0.010000 - momentum: 0.000000\n",
      "2024-09-08 01:13:40,822 epoch 10 - iter 1752/8762 - loss 0.01185251 - time (sec): 101.58 - samples/sec: 313.44 - lr: 0.010000 - momentum: 0.000000\n",
      "2024-09-08 01:14:31,701 epoch 10 - iter 2628/8762 - loss 0.01105096 - time (sec): 152.46 - samples/sec: 313.75 - lr: 0.010000 - momentum: 0.000000\n",
      "2024-09-08 01:15:22,780 epoch 10 - iter 3504/8762 - loss 0.01078818 - time (sec): 203.54 - samples/sec: 313.63 - lr: 0.010000 - momentum: 0.000000\n",
      "2024-09-08 01:16:13,348 epoch 10 - iter 4380/8762 - loss 0.01103157 - time (sec): 254.11 - samples/sec: 311.26 - lr: 0.010000 - momentum: 0.000000\n",
      "2024-09-08 01:17:04,547 epoch 10 - iter 5256/8762 - loss 0.01139280 - time (sec): 305.31 - samples/sec: 313.08 - lr: 0.010000 - momentum: 0.000000\n",
      "2024-09-08 01:17:55,739 epoch 10 - iter 6132/8762 - loss 0.01168452 - time (sec): 356.50 - samples/sec: 312.69 - lr: 0.010000 - momentum: 0.000000\n",
      "2024-09-08 01:18:47,014 epoch 10 - iter 7008/8762 - loss 0.01136763 - time (sec): 407.77 - samples/sec: 313.76 - lr: 0.010000 - momentum: 0.000000\n",
      "2024-09-08 01:19:38,037 epoch 10 - iter 7884/8762 - loss 0.01183758 - time (sec): 458.80 - samples/sec: 312.17 - lr: 0.010000 - momentum: 0.000000\n",
      "2024-09-08 01:20:29,107 epoch 10 - iter 8760/8762 - loss 0.01198892 - time (sec): 509.87 - samples/sec: 311.27 - lr: 0.010000 - momentum: 0.000000\n",
      "2024-09-08 01:20:29,220 ----------------------------------------------------------------------------------------------------\n",
      "2024-09-08 01:20:29,221 EPOCH 10 done: loss 0.0120 - lr: 0.010000\n"
     ]
    },
    {
     "name": "stderr",
     "output_type": "stream",
     "text": [
      "100%|██████████| 64/64 [00:06<00:00, 10.37it/s]\n"
     ]
    },
    {
     "name": "stdout",
     "output_type": "stream",
     "text": [
      "2024-09-08 01:20:35,444 TEST : loss 0.1914232075214386 - f1-score (micro avg)  0.7134\n",
      "2024-09-08 01:20:35,651  - 0 epochs without improvement\n",
      "2024-09-08 01:20:35,652 ----------------------------------------------------------------------------------------------------\n",
      "2024-09-08 01:21:26,636 epoch 11 - iter 876/8762 - loss 0.00852322 - time (sec): 50.98 - samples/sec: 307.47 - lr: 0.010000 - momentum: 0.000000\n",
      "2024-09-08 01:22:17,678 epoch 11 - iter 1752/8762 - loss 0.01019232 - time (sec): 102.02 - samples/sec: 303.04 - lr: 0.010000 - momentum: 0.000000\n",
      "2024-09-08 01:23:08,908 epoch 11 - iter 2628/8762 - loss 0.01011164 - time (sec): 153.25 - samples/sec: 304.98 - lr: 0.010000 - momentum: 0.000000\n",
      "2024-09-08 01:24:00,064 epoch 11 - iter 3504/8762 - loss 0.01083474 - time (sec): 204.41 - samples/sec: 306.11 - lr: 0.010000 - momentum: 0.000000\n",
      "2024-09-08 01:24:51,359 epoch 11 - iter 4380/8762 - loss 0.01028662 - time (sec): 255.71 - samples/sec: 306.97 - lr: 0.010000 - momentum: 0.000000\n",
      "2024-09-08 01:25:42,658 epoch 11 - iter 5256/8762 - loss 0.00925952 - time (sec): 307.00 - samples/sec: 308.24 - lr: 0.010000 - momentum: 0.000000\n",
      "2024-09-08 01:26:33,967 epoch 11 - iter 6132/8762 - loss 0.01058184 - time (sec): 358.31 - samples/sec: 310.59 - lr: 0.010000 - momentum: 0.000000\n",
      "2024-09-08 01:27:24,935 epoch 11 - iter 7008/8762 - loss 0.01144741 - time (sec): 409.28 - samples/sec: 310.01 - lr: 0.010000 - momentum: 0.000000\n",
      "2024-09-08 01:28:15,743 epoch 11 - iter 7884/8762 - loss 0.01181898 - time (sec): 460.09 - samples/sec: 309.48 - lr: 0.010000 - momentum: 0.000000\n",
      "2024-09-08 01:29:06,775 epoch 11 - iter 8760/8762 - loss 0.01125920 - time (sec): 511.12 - samples/sec: 310.52 - lr: 0.010000 - momentum: 0.000000\n",
      "2024-09-08 01:29:06,889 ----------------------------------------------------------------------------------------------------\n",
      "2024-09-08 01:29:06,889 EPOCH 11 done: loss 0.0113 - lr: 0.010000\n"
     ]
    },
    {
     "name": "stderr",
     "output_type": "stream",
     "text": [
      "100%|██████████| 64/64 [00:06<00:00, 10.48it/s]\n"
     ]
    },
    {
     "name": "stdout",
     "output_type": "stream",
     "text": [
      "2024-09-08 01:29:13,041 TEST : loss 0.19788722693920135 - f1-score (micro avg)  0.716\n",
      "2024-09-08 01:29:13,247  - 0 epochs without improvement\n",
      "2024-09-08 01:29:13,248 ----------------------------------------------------------------------------------------------------\n",
      "2024-09-08 01:30:04,270 epoch 12 - iter 876/8762 - loss 0.00400628 - time (sec): 51.02 - samples/sec: 310.93 - lr: 0.010000 - momentum: 0.000000\n",
      "2024-09-08 01:30:55,036 epoch 12 - iter 1752/8762 - loss 0.00521081 - time (sec): 101.79 - samples/sec: 312.14 - lr: 0.010000 - momentum: 0.000000\n",
      "2024-09-08 01:31:46,172 epoch 12 - iter 2628/8762 - loss 0.00750044 - time (sec): 152.92 - samples/sec: 318.60 - lr: 0.010000 - momentum: 0.000000\n",
      "2024-09-08 01:32:37,151 epoch 12 - iter 3504/8762 - loss 0.00717098 - time (sec): 203.90 - samples/sec: 316.97 - lr: 0.010000 - momentum: 0.000000\n",
      "2024-09-08 01:33:28,246 epoch 12 - iter 4380/8762 - loss 0.00851950 - time (sec): 255.00 - samples/sec: 317.43 - lr: 0.010000 - momentum: 0.000000\n",
      "2024-09-08 01:34:19,118 epoch 12 - iter 5256/8762 - loss 0.00902197 - time (sec): 305.87 - samples/sec: 314.84 - lr: 0.010000 - momentum: 0.000000\n",
      "2024-09-08 01:35:09,899 epoch 12 - iter 6132/8762 - loss 0.00875026 - time (sec): 356.65 - samples/sec: 312.56 - lr: 0.010000 - momentum: 0.000000\n",
      "2024-09-08 01:36:00,858 epoch 12 - iter 7008/8762 - loss 0.00903549 - time (sec): 407.61 - samples/sec: 312.09 - lr: 0.010000 - momentum: 0.000000\n",
      "2024-09-08 01:36:51,697 epoch 12 - iter 7884/8762 - loss 0.00884413 - time (sec): 458.45 - samples/sec: 311.98 - lr: 0.010000 - momentum: 0.000000\n",
      "2024-09-08 01:37:42,595 epoch 12 - iter 8760/8762 - loss 0.00885844 - time (sec): 509.35 - samples/sec: 311.59 - lr: 0.010000 - momentum: 0.000000\n",
      "2024-09-08 01:37:42,710 ----------------------------------------------------------------------------------------------------\n",
      "2024-09-08 01:37:42,711 EPOCH 12 done: loss 0.0089 - lr: 0.010000\n"
     ]
    },
    {
     "name": "stderr",
     "output_type": "stream",
     "text": [
      "100%|██████████| 64/64 [00:05<00:00, 11.74it/s]\n"
     ]
    },
    {
     "name": "stdout",
     "output_type": "stream",
     "text": [
      "2024-09-08 01:37:48,211 TEST : loss 0.2047211229801178 - f1-score (micro avg)  0.7103\n",
      "2024-09-08 01:37:48,421  - 0 epochs without improvement\n",
      "2024-09-08 01:37:48,423 ----------------------------------------------------------------------------------------------------\n",
      "2024-09-08 01:38:39,728 epoch 13 - iter 876/8762 - loss 0.00530208 - time (sec): 51.30 - samples/sec: 323.87 - lr: 0.010000 - momentum: 0.000000\n",
      "2024-09-08 01:39:30,692 epoch 13 - iter 1752/8762 - loss 0.00617223 - time (sec): 102.27 - samples/sec: 317.16 - lr: 0.010000 - momentum: 0.000000\n",
      "2024-09-08 01:40:21,884 epoch 13 - iter 2628/8762 - loss 0.00657900 - time (sec): 153.46 - samples/sec: 310.58 - lr: 0.010000 - momentum: 0.000000\n",
      "2024-09-08 01:41:12,923 epoch 13 - iter 3504/8762 - loss 0.00613402 - time (sec): 204.50 - samples/sec: 311.07 - lr: 0.010000 - momentum: 0.000000\n",
      "2024-09-08 01:42:04,017 epoch 13 - iter 4380/8762 - loss 0.00730045 - time (sec): 255.59 - samples/sec: 312.27 - lr: 0.010000 - momentum: 0.000000\n",
      "2024-09-08 01:42:54,984 epoch 13 - iter 5256/8762 - loss 0.00734146 - time (sec): 306.56 - samples/sec: 312.20 - lr: 0.010000 - momentum: 0.000000\n",
      "2024-09-08 01:43:45,913 epoch 13 - iter 6132/8762 - loss 0.00755210 - time (sec): 357.49 - samples/sec: 313.72 - lr: 0.010000 - momentum: 0.000000\n",
      "2024-09-08 01:44:36,877 epoch 13 - iter 7008/8762 - loss 0.00719164 - time (sec): 408.45 - samples/sec: 314.19 - lr: 0.010000 - momentum: 0.000000\n",
      "2024-09-08 01:45:27,554 epoch 13 - iter 7884/8762 - loss 0.00728725 - time (sec): 459.13 - samples/sec: 311.95 - lr: 0.010000 - momentum: 0.000000\n",
      "2024-09-08 01:46:18,387 epoch 13 - iter 8760/8762 - loss 0.00776998 - time (sec): 509.96 - samples/sec: 311.24 - lr: 0.010000 - momentum: 0.000000\n",
      "2024-09-08 01:46:18,500 ----------------------------------------------------------------------------------------------------\n",
      "2024-09-08 01:46:18,501 EPOCH 13 done: loss 0.0078 - lr: 0.010000\n"
     ]
    },
    {
     "name": "stderr",
     "output_type": "stream",
     "text": [
      "100%|██████████| 64/64 [00:06<00:00, 10.45it/s]\n"
     ]
    },
    {
     "name": "stdout",
     "output_type": "stream",
     "text": [
      "2024-09-08 01:46:24,753 TEST : loss 0.21056713163852692 - f1-score (micro avg)  0.7106\n",
      "2024-09-08 01:46:24,957  - 0 epochs without improvement\n",
      "2024-09-08 01:46:24,968 ----------------------------------------------------------------------------------------------------\n",
      "2024-09-08 01:47:16,022 epoch 14 - iter 876/8762 - loss 0.00797454 - time (sec): 51.05 - samples/sec: 314.11 - lr: 0.010000 - momentum: 0.000000\n",
      "2024-09-08 01:48:06,817 epoch 14 - iter 1752/8762 - loss 0.01011950 - time (sec): 101.85 - samples/sec: 306.80 - lr: 0.010000 - momentum: 0.000000\n",
      "2024-09-08 01:48:57,875 epoch 14 - iter 2628/8762 - loss 0.00998342 - time (sec): 152.91 - samples/sec: 310.26 - lr: 0.010000 - momentum: 0.000000\n",
      "2024-09-08 01:49:48,774 epoch 14 - iter 3504/8762 - loss 0.00839546 - time (sec): 203.80 - samples/sec: 311.86 - lr: 0.010000 - momentum: 0.000000\n",
      "2024-09-08 01:50:39,861 epoch 14 - iter 4380/8762 - loss 0.00750846 - time (sec): 254.89 - samples/sec: 314.06 - lr: 0.010000 - momentum: 0.000000\n",
      "2024-09-08 01:51:30,709 epoch 14 - iter 5256/8762 - loss 0.00723776 - time (sec): 305.74 - samples/sec: 312.61 - lr: 0.010000 - momentum: 0.000000\n",
      "2024-09-08 01:52:21,534 epoch 14 - iter 6132/8762 - loss 0.00666333 - time (sec): 356.57 - samples/sec: 312.67 - lr: 0.010000 - momentum: 0.000000\n",
      "2024-09-08 01:53:12,459 epoch 14 - iter 7008/8762 - loss 0.00641137 - time (sec): 407.49 - samples/sec: 313.05 - lr: 0.010000 - momentum: 0.000000\n",
      "2024-09-08 01:54:03,317 epoch 14 - iter 7884/8762 - loss 0.00652646 - time (sec): 458.35 - samples/sec: 313.16 - lr: 0.010000 - momentum: 0.000000\n",
      "2024-09-08 01:54:54,000 epoch 14 - iter 8760/8762 - loss 0.00650328 - time (sec): 509.03 - samples/sec: 311.72 - lr: 0.010000 - momentum: 0.000000\n",
      "2024-09-08 01:54:54,118 ----------------------------------------------------------------------------------------------------\n",
      "2024-09-08 01:54:54,119 EPOCH 14 done: loss 0.0065 - lr: 0.010000\n"
     ]
    },
    {
     "name": "stderr",
     "output_type": "stream",
     "text": [
      "100%|██████████| 64/64 [00:06<00:00, 10.47it/s]\n"
     ]
    },
    {
     "name": "stdout",
     "output_type": "stream",
     "text": [
      "2024-09-08 01:55:00,280 TEST : loss 0.21504220366477966 - f1-score (micro avg)  0.7116\n",
      "2024-09-08 01:55:00,482  - 0 epochs without improvement\n",
      "2024-09-08 01:55:00,483 ----------------------------------------------------------------------------------------------------\n",
      "2024-09-08 01:55:51,383 epoch 15 - iter 876/8762 - loss 0.00564954 - time (sec): 50.90 - samples/sec: 304.47 - lr: 0.010000 - momentum: 0.000000\n",
      "2024-09-08 01:56:42,440 epoch 15 - iter 1752/8762 - loss 0.00590442 - time (sec): 101.96 - samples/sec: 312.56 - lr: 0.010000 - momentum: 0.000000\n",
      "2024-09-08 01:57:33,244 epoch 15 - iter 2628/8762 - loss 0.00705828 - time (sec): 152.76 - samples/sec: 313.43 - lr: 0.010000 - momentum: 0.000000\n",
      "2024-09-08 01:58:24,172 epoch 15 - iter 3504/8762 - loss 0.00592697 - time (sec): 203.69 - samples/sec: 314.11 - lr: 0.010000 - momentum: 0.000000\n",
      "2024-09-08 01:59:15,293 epoch 15 - iter 4380/8762 - loss 0.00577035 - time (sec): 254.81 - samples/sec: 315.75 - lr: 0.010000 - momentum: 0.000000\n",
      "2024-09-08 02:00:06,148 epoch 15 - iter 5256/8762 - loss 0.00594651 - time (sec): 305.66 - samples/sec: 314.66 - lr: 0.010000 - momentum: 0.000000\n",
      "2024-09-08 02:00:56,916 epoch 15 - iter 6132/8762 - loss 0.00606797 - time (sec): 356.43 - samples/sec: 312.78 - lr: 0.010000 - momentum: 0.000000\n",
      "2024-09-08 02:01:47,985 epoch 15 - iter 7008/8762 - loss 0.00587948 - time (sec): 407.50 - samples/sec: 313.92 - lr: 0.010000 - momentum: 0.000000\n",
      "2024-09-08 02:02:38,702 epoch 15 - iter 7884/8762 - loss 0.00568554 - time (sec): 458.22 - samples/sec: 312.87 - lr: 0.010000 - momentum: 0.000000\n",
      "2024-09-08 02:03:29,596 epoch 15 - iter 8760/8762 - loss 0.00543021 - time (sec): 509.11 - samples/sec: 311.71 - lr: 0.010000 - momentum: 0.000000\n",
      "2024-09-08 02:03:29,710 ----------------------------------------------------------------------------------------------------\n",
      "2024-09-08 02:03:29,711 EPOCH 15 done: loss 0.0054 - lr: 0.010000\n"
     ]
    },
    {
     "name": "stderr",
     "output_type": "stream",
     "text": [
      "100%|██████████| 64/64 [00:06<00:00, 10.42it/s]\n"
     ]
    },
    {
     "name": "stdout",
     "output_type": "stream",
     "text": [
      "2024-09-08 02:03:35,904 TEST : loss 0.2225281149148941 - f1-score (micro avg)  0.7101\n",
      "2024-09-08 02:03:36,109  - 0 epochs without improvement\n",
      "2024-09-08 02:03:36,110 ----------------------------------------------------------------------------------------------------\n",
      "2024-09-08 02:04:26,926 epoch 16 - iter 876/8762 - loss 0.00606164 - time (sec): 50.82 - samples/sec: 312.66 - lr: 0.010000 - momentum: 0.000000\n",
      "2024-09-08 02:05:17,697 epoch 16 - iter 1752/8762 - loss 0.00493937 - time (sec): 101.59 - samples/sec: 311.26 - lr: 0.010000 - momentum: 0.000000\n",
      "2024-09-08 02:06:08,485 epoch 16 - iter 2628/8762 - loss 0.00556711 - time (sec): 152.37 - samples/sec: 307.84 - lr: 0.010000 - momentum: 0.000000\n",
      "2024-09-08 02:06:59,336 epoch 16 - iter 3504/8762 - loss 0.00533328 - time (sec): 203.22 - samples/sec: 308.17 - lr: 0.010000 - momentum: 0.000000\n",
      "2024-09-08 02:07:50,277 epoch 16 - iter 4380/8762 - loss 0.00485537 - time (sec): 254.17 - samples/sec: 309.66 - lr: 0.010000 - momentum: 0.000000\n",
      "2024-09-08 02:08:41,045 epoch 16 - iter 5256/8762 - loss 0.00433816 - time (sec): 304.93 - samples/sec: 309.99 - lr: 0.010000 - momentum: 0.000000\n",
      "2024-09-08 02:09:31,712 epoch 16 - iter 6132/8762 - loss 0.00438685 - time (sec): 355.60 - samples/sec: 311.09 - lr: 0.010000 - momentum: 0.000000\n",
      "2024-09-08 02:10:22,439 epoch 16 - iter 7008/8762 - loss 0.00435990 - time (sec): 406.33 - samples/sec: 311.05 - lr: 0.010000 - momentum: 0.000000\n",
      "2024-09-08 02:11:13,671 epoch 16 - iter 7884/8762 - loss 0.00427929 - time (sec): 457.56 - samples/sec: 311.79 - lr: 0.010000 - momentum: 0.000000\n",
      "2024-09-08 02:12:04,935 epoch 16 - iter 8760/8762 - loss 0.00422722 - time (sec): 508.82 - samples/sec: 311.90 - lr: 0.010000 - momentum: 0.000000\n",
      "2024-09-08 02:12:05,052 ----------------------------------------------------------------------------------------------------\n",
      "2024-09-08 02:12:05,052 EPOCH 16 done: loss 0.0042 - lr: 0.010000\n"
     ]
    },
    {
     "name": "stderr",
     "output_type": "stream",
     "text": [
      "100%|██████████| 64/64 [00:06<00:00, 10.39it/s]"
     ]
    },
    {
     "name": "stdout",
     "output_type": "stream",
     "text": [
      "2024-09-08 02:12:11,264 TEST : loss 0.22711922228336334 - f1-score (micro avg)  0.7105\n"
     ]
    },
    {
     "name": "stderr",
     "output_type": "stream",
     "text": [
      "\n"
     ]
    },
    {
     "name": "stdout",
     "output_type": "stream",
     "text": [
      "2024-09-08 02:12:11,475  - 0 epochs without improvement\n",
      "2024-09-08 02:12:11,476 ----------------------------------------------------------------------------------------------------\n",
      "2024-09-08 02:13:02,676 epoch 17 - iter 876/8762 - loss 0.00201853 - time (sec): 51.20 - samples/sec: 315.12 - lr: 0.010000 - momentum: 0.000000\n",
      "2024-09-08 02:13:53,704 epoch 17 - iter 1752/8762 - loss 0.00294303 - time (sec): 102.23 - samples/sec: 309.67 - lr: 0.010000 - momentum: 0.000000\n",
      "2024-09-08 02:14:44,871 epoch 17 - iter 2628/8762 - loss 0.00323313 - time (sec): 153.39 - samples/sec: 311.41 - lr: 0.010000 - momentum: 0.000000\n",
      "2024-09-08 02:15:35,879 epoch 17 - iter 3504/8762 - loss 0.00270552 - time (sec): 204.40 - samples/sec: 307.74 - lr: 0.010000 - momentum: 0.000000\n",
      "2024-09-08 02:16:27,264 epoch 17 - iter 4380/8762 - loss 0.00458862 - time (sec): 255.79 - samples/sec: 309.37 - lr: 0.010000 - momentum: 0.000000\n",
      "2024-09-08 02:17:18,369 epoch 17 - iter 5256/8762 - loss 0.00451221 - time (sec): 306.89 - samples/sec: 307.87 - lr: 0.010000 - momentum: 0.000000\n",
      "2024-09-08 02:18:09,620 epoch 17 - iter 6132/8762 - loss 0.00472137 - time (sec): 358.14 - samples/sec: 309.73 - lr: 0.010000 - momentum: 0.000000\n",
      "2024-09-08 02:19:00,899 epoch 17 - iter 7008/8762 - loss 0.00452407 - time (sec): 409.42 - samples/sec: 309.86 - lr: 0.010000 - momentum: 0.000000\n",
      "2024-09-08 02:19:51,977 epoch 17 - iter 7884/8762 - loss 0.00521968 - time (sec): 460.50 - samples/sec: 308.49 - lr: 0.010000 - momentum: 0.000000\n",
      "2024-09-08 02:20:43,375 epoch 17 - iter 8760/8762 - loss 0.00492954 - time (sec): 511.90 - samples/sec: 310.02 - lr: 0.010000 - momentum: 0.000000\n",
      "2024-09-08 02:20:43,492 ----------------------------------------------------------------------------------------------------\n",
      "2024-09-08 02:20:43,492 EPOCH 17 done: loss 0.0049 - lr: 0.010000\n"
     ]
    },
    {
     "name": "stderr",
     "output_type": "stream",
     "text": [
      "100%|██████████| 64/64 [00:05<00:00, 11.65it/s]\n"
     ]
    },
    {
     "name": "stdout",
     "output_type": "stream",
     "text": [
      "2024-09-08 02:20:49,039 TEST : loss 0.2293362021446228 - f1-score (micro avg)  0.7118\n",
      "2024-09-08 02:20:49,249  - 1 epochs without improvement\n",
      "2024-09-08 02:20:49,250 ----------------------------------------------------------------------------------------------------\n",
      "2024-09-08 02:21:40,301 epoch 18 - iter 876/8762 - loss 0.01094939 - time (sec): 51.05 - samples/sec: 307.84 - lr: 0.010000 - momentum: 0.000000\n",
      "2024-09-08 02:22:31,521 epoch 18 - iter 1752/8762 - loss 0.00641259 - time (sec): 102.27 - samples/sec: 317.62 - lr: 0.010000 - momentum: 0.000000\n",
      "2024-09-08 02:23:22,463 epoch 18 - iter 2628/8762 - loss 0.00708323 - time (sec): 153.21 - samples/sec: 313.11 - lr: 0.010000 - momentum: 0.000000\n",
      "2024-09-08 02:24:13,268 epoch 18 - iter 3504/8762 - loss 0.00597110 - time (sec): 204.02 - samples/sec: 309.17 - lr: 0.010000 - momentum: 0.000000\n",
      "2024-09-08 02:25:04,206 epoch 18 - iter 4380/8762 - loss 0.00536778 - time (sec): 254.95 - samples/sec: 310.88 - lr: 0.010000 - momentum: 0.000000\n",
      "2024-09-08 02:25:55,220 epoch 18 - iter 5256/8762 - loss 0.00476505 - time (sec): 305.97 - samples/sec: 310.98 - lr: 0.010000 - momentum: 0.000000\n",
      "2024-09-08 02:26:46,048 epoch 18 - iter 6132/8762 - loss 0.00468203 - time (sec): 356.80 - samples/sec: 310.23 - lr: 0.010000 - momentum: 0.000000\n",
      "2024-09-08 02:27:37,015 epoch 18 - iter 7008/8762 - loss 0.00474584 - time (sec): 407.76 - samples/sec: 310.54 - lr: 0.010000 - momentum: 0.000000\n",
      "2024-09-08 02:28:28,082 epoch 18 - iter 7884/8762 - loss 0.00443418 - time (sec): 458.83 - samples/sec: 311.09 - lr: 0.010000 - momentum: 0.000000\n",
      "2024-09-08 02:29:19,097 epoch 18 - iter 8760/8762 - loss 0.00425599 - time (sec): 509.85 - samples/sec: 311.28 - lr: 0.010000 - momentum: 0.000000\n",
      "2024-09-08 02:29:19,212 ----------------------------------------------------------------------------------------------------\n",
      "2024-09-08 02:29:19,213 EPOCH 18 done: loss 0.0043 - lr: 0.010000\n"
     ]
    },
    {
     "name": "stderr",
     "output_type": "stream",
     "text": [
      "100%|██████████| 64/64 [00:06<00:00, 10.50it/s]\n"
     ]
    },
    {
     "name": "stdout",
     "output_type": "stream",
     "text": [
      "2024-09-08 02:29:25,357 TEST : loss 0.23227661848068237 - f1-score (micro avg)  0.7113\n",
      "2024-09-08 02:29:25,558  - 2 epochs without improvement\n",
      "2024-09-08 02:29:25,559 ----------------------------------------------------------------------------------------------------\n",
      "2024-09-08 02:30:16,493 epoch 19 - iter 876/8762 - loss 0.00701901 - time (sec): 50.93 - samples/sec: 305.54 - lr: 0.010000 - momentum: 0.000000\n",
      "2024-09-08 02:31:07,586 epoch 19 - iter 1752/8762 - loss 0.00514747 - time (sec): 102.03 - samples/sec: 312.93 - lr: 0.010000 - momentum: 0.000000\n",
      "2024-09-08 02:31:58,606 epoch 19 - iter 2628/8762 - loss 0.00542279 - time (sec): 153.05 - samples/sec: 310.25 - lr: 0.010000 - momentum: 0.000000\n",
      "2024-09-08 02:32:49,601 epoch 19 - iter 3504/8762 - loss 0.00519757 - time (sec): 204.04 - samples/sec: 309.89 - lr: 0.010000 - momentum: 0.000000\n",
      "2024-09-08 02:33:40,610 epoch 19 - iter 4380/8762 - loss 0.00433393 - time (sec): 255.05 - samples/sec: 310.35 - lr: 0.010000 - momentum: 0.000000\n",
      "2024-09-08 02:34:31,865 epoch 19 - iter 5256/8762 - loss 0.00404585 - time (sec): 306.31 - samples/sec: 310.04 - lr: 0.010000 - momentum: 0.000000\n",
      "2024-09-08 02:35:22,756 epoch 19 - iter 6132/8762 - loss 0.00381990 - time (sec): 357.20 - samples/sec: 309.38 - lr: 0.010000 - momentum: 0.000000\n",
      "2024-09-08 02:36:13,758 epoch 19 - iter 7008/8762 - loss 0.00390011 - time (sec): 408.20 - samples/sec: 308.91 - lr: 0.010000 - momentum: 0.000000\n",
      "2024-09-08 02:37:04,923 epoch 19 - iter 7884/8762 - loss 0.00372756 - time (sec): 459.36 - samples/sec: 309.70 - lr: 0.010000 - momentum: 0.000000\n",
      "2024-09-08 02:37:55,939 epoch 19 - iter 8760/8762 - loss 0.00377652 - time (sec): 510.38 - samples/sec: 310.97 - lr: 0.010000 - momentum: 0.000000\n",
      "2024-09-08 02:37:56,054 ----------------------------------------------------------------------------------------------------\n",
      "2024-09-08 02:37:56,055 EPOCH 19 done: loss 0.0038 - lr: 0.010000\n"
     ]
    },
    {
     "name": "stderr",
     "output_type": "stream",
     "text": [
      "100%|██████████| 64/64 [00:06<00:00, 10.35it/s]\n"
     ]
    },
    {
     "name": "stdout",
     "output_type": "stream",
     "text": [
      "2024-09-08 02:38:02,287 TEST : loss 0.23535940051078796 - f1-score (micro avg)  0.7096\n",
      "2024-09-08 02:38:02,527  - 0 epochs without improvement\n",
      "2024-09-08 02:38:02,528 ----------------------------------------------------------------------------------------------------\n",
      "2024-09-08 02:38:53,464 epoch 20 - iter 876/8762 - loss 0.00212075 - time (sec): 50.93 - samples/sec: 308.97 - lr: 0.010000 - momentum: 0.000000\n",
      "2024-09-08 02:39:44,295 epoch 20 - iter 1752/8762 - loss 0.00300354 - time (sec): 101.77 - samples/sec: 308.03 - lr: 0.010000 - momentum: 0.000000\n",
      "2024-09-08 02:40:35,254 epoch 20 - iter 2628/8762 - loss 0.00353622 - time (sec): 152.72 - samples/sec: 311.27 - lr: 0.010000 - momentum: 0.000000\n",
      "2024-09-08 02:41:26,330 epoch 20 - iter 3504/8762 - loss 0.00343765 - time (sec): 203.80 - samples/sec: 310.89 - lr: 0.010000 - momentum: 0.000000\n",
      "2024-09-08 02:42:17,444 epoch 20 - iter 4380/8762 - loss 0.00412236 - time (sec): 254.91 - samples/sec: 311.84 - lr: 0.010000 - momentum: 0.000000\n",
      "2024-09-08 02:43:08,553 epoch 20 - iter 5256/8762 - loss 0.00395841 - time (sec): 306.02 - samples/sec: 312.86 - lr: 0.010000 - momentum: 0.000000\n",
      "2024-09-08 02:43:59,746 epoch 20 - iter 6132/8762 - loss 0.00412127 - time (sec): 357.22 - samples/sec: 313.97 - lr: 0.010000 - momentum: 0.000000\n",
      "2024-09-08 02:44:50,559 epoch 20 - iter 7008/8762 - loss 0.00401697 - time (sec): 408.03 - samples/sec: 312.74 - lr: 0.010000 - momentum: 0.000000\n",
      "2024-09-08 02:45:41,505 epoch 20 - iter 7884/8762 - loss 0.00377102 - time (sec): 458.98 - samples/sec: 312.57 - lr: 0.010000 - momentum: 0.000000\n",
      "2024-09-08 02:46:32,508 epoch 20 - iter 8760/8762 - loss 0.00357396 - time (sec): 509.98 - samples/sec: 311.18 - lr: 0.010000 - momentum: 0.000000\n",
      "2024-09-08 02:46:32,625 ----------------------------------------------------------------------------------------------------\n",
      "2024-09-08 02:46:32,626 EPOCH 20 done: loss 0.0036 - lr: 0.010000\n"
     ]
    },
    {
     "name": "stderr",
     "output_type": "stream",
     "text": [
      "100%|██████████| 64/64 [00:06<00:00, 10.42it/s]\n"
     ]
    },
    {
     "name": "stdout",
     "output_type": "stream",
     "text": [
      "2024-09-08 02:46:38,814 TEST : loss 0.2377903014421463 - f1-score (micro avg)  0.7098\n",
      "2024-09-08 02:46:39,017  - 0 epochs without improvement\n",
      "2024-09-08 02:46:39,018 ----------------------------------------------------------------------------------------------------\n",
      "2024-09-08 02:47:30,023 epoch 21 - iter 876/8762 - loss 0.00380028 - time (sec): 51.00 - samples/sec: 304.96 - lr: 0.010000 - momentum: 0.000000\n",
      "2024-09-08 02:48:20,985 epoch 21 - iter 1752/8762 - loss 0.00277268 - time (sec): 101.97 - samples/sec: 298.26 - lr: 0.010000 - momentum: 0.000000\n",
      "2024-09-08 02:49:12,113 epoch 21 - iter 2628/8762 - loss 0.00284333 - time (sec): 153.09 - samples/sec: 302.97 - lr: 0.010000 - momentum: 0.000000\n",
      "2024-09-08 02:50:03,142 epoch 21 - iter 3504/8762 - loss 0.00268479 - time (sec): 204.12 - samples/sec: 305.24 - lr: 0.010000 - momentum: 0.000000\n",
      "2024-09-08 02:50:54,338 epoch 21 - iter 4380/8762 - loss 0.00296676 - time (sec): 255.32 - samples/sec: 307.44 - lr: 0.010000 - momentum: 0.000000\n",
      "2024-09-08 02:51:45,444 epoch 21 - iter 5256/8762 - loss 0.00273243 - time (sec): 306.42 - samples/sec: 310.06 - lr: 0.010000 - momentum: 0.000000\n",
      "2024-09-08 02:52:36,498 epoch 21 - iter 6132/8762 - loss 0.00283055 - time (sec): 357.48 - samples/sec: 310.58 - lr: 0.010000 - momentum: 0.000000\n",
      "2024-09-08 02:53:27,426 epoch 21 - iter 7008/8762 - loss 0.00280868 - time (sec): 408.41 - samples/sec: 309.05 - lr: 0.010000 - momentum: 0.000000\n",
      "2024-09-08 02:54:18,743 epoch 21 - iter 7884/8762 - loss 0.00294005 - time (sec): 459.72 - samples/sec: 311.49 - lr: 0.010000 - momentum: 0.000000\n",
      "2024-09-08 02:55:09,860 epoch 21 - iter 8760/8762 - loss 0.00298357 - time (sec): 510.84 - samples/sec: 310.67 - lr: 0.010000 - momentum: 0.000000\n",
      "2024-09-08 02:55:09,975 ----------------------------------------------------------------------------------------------------\n",
      "2024-09-08 02:55:09,976 EPOCH 21 done: loss 0.0030 - lr: 0.010000\n"
     ]
    },
    {
     "name": "stderr",
     "output_type": "stream",
     "text": [
      "100%|██████████| 64/64 [00:06<00:00, 10.31it/s]\n"
     ]
    },
    {
     "name": "stdout",
     "output_type": "stream",
     "text": [
      "2024-09-08 02:55:16,257 TEST : loss 0.23921117186546326 - f1-score (micro avg)  0.7099\n",
      "2024-09-08 02:55:16,462  - 0 epochs without improvement\n",
      "2024-09-08 02:55:16,463 ----------------------------------------------------------------------------------------------------\n",
      "2024-09-08 02:56:07,542 epoch 22 - iter 876/8762 - loss 0.00155426 - time (sec): 51.08 - samples/sec: 316.45 - lr: 0.010000 - momentum: 0.000000\n",
      "2024-09-08 02:56:58,585 epoch 22 - iter 1752/8762 - loss 0.00392202 - time (sec): 102.12 - samples/sec: 312.33 - lr: 0.010000 - momentum: 0.000000\n",
      "2024-09-08 02:57:49,701 epoch 22 - iter 2628/8762 - loss 0.00369183 - time (sec): 153.24 - samples/sec: 313.81 - lr: 0.010000 - momentum: 0.000000\n",
      "2024-09-08 02:58:40,826 epoch 22 - iter 3504/8762 - loss 0.00359375 - time (sec): 204.36 - samples/sec: 313.26 - lr: 0.010000 - momentum: 0.000000\n",
      "2024-09-08 02:59:31,892 epoch 22 - iter 4380/8762 - loss 0.00340098 - time (sec): 255.43 - samples/sec: 312.92 - lr: 0.010000 - momentum: 0.000000\n",
      "2024-09-08 03:00:22,979 epoch 22 - iter 5256/8762 - loss 0.00295735 - time (sec): 306.51 - samples/sec: 312.77 - lr: 0.010000 - momentum: 0.000000\n",
      "2024-09-08 03:01:14,186 epoch 22 - iter 6132/8762 - loss 0.00258572 - time (sec): 357.72 - samples/sec: 312.94 - lr: 0.010000 - momentum: 0.000000\n",
      "2024-09-08 03:02:05,176 epoch 22 - iter 7008/8762 - loss 0.00259310 - time (sec): 408.71 - samples/sec: 312.09 - lr: 0.010000 - momentum: 0.000000\n",
      "2024-09-08 03:02:56,191 epoch 22 - iter 7884/8762 - loss 0.00240890 - time (sec): 459.73 - samples/sec: 311.29 - lr: 0.010000 - momentum: 0.000000\n",
      "2024-09-08 03:03:47,302 epoch 22 - iter 8760/8762 - loss 0.00228903 - time (sec): 510.84 - samples/sec: 310.70 - lr: 0.010000 - momentum: 0.000000\n",
      "2024-09-08 03:03:47,418 ----------------------------------------------------------------------------------------------------\n",
      "2024-09-08 03:03:47,419 EPOCH 22 done: loss 0.0023 - lr: 0.010000\n"
     ]
    },
    {
     "name": "stderr",
     "output_type": "stream",
     "text": [
      "100%|██████████| 64/64 [00:06<00:00, 10.30it/s]\n"
     ]
    },
    {
     "name": "stdout",
     "output_type": "stream",
     "text": [
      "2024-09-08 03:03:53,684 TEST : loss 0.24207264184951782 - f1-score (micro avg)  0.7084\n",
      "2024-09-08 03:03:53,892  - 0 epochs without improvement\n",
      "2024-09-08 03:03:53,893 ----------------------------------------------------------------------------------------------------\n",
      "2024-09-08 03:04:44,983 epoch 23 - iter 876/8762 - loss 0.00056239 - time (sec): 51.09 - samples/sec: 315.64 - lr: 0.010000 - momentum: 0.000000\n",
      "2024-09-08 03:05:36,231 epoch 23 - iter 1752/8762 - loss 0.00144784 - time (sec): 102.34 - samples/sec: 311.79 - lr: 0.010000 - momentum: 0.000000\n",
      "2024-09-08 03:06:27,764 epoch 23 - iter 2628/8762 - loss 0.00169624 - time (sec): 153.87 - samples/sec: 314.29 - lr: 0.010000 - momentum: 0.000000\n",
      "2024-09-08 03:07:19,020 epoch 23 - iter 3504/8762 - loss 0.00145240 - time (sec): 205.13 - samples/sec: 311.41 - lr: 0.010000 - momentum: 0.000000\n",
      "2024-09-08 03:08:10,378 epoch 23 - iter 4380/8762 - loss 0.00169269 - time (sec): 256.48 - samples/sec: 313.74 - lr: 0.010000 - momentum: 0.000000\n",
      "2024-09-08 03:09:01,423 epoch 23 - iter 5256/8762 - loss 0.00161656 - time (sec): 307.53 - samples/sec: 309.28 - lr: 0.010000 - momentum: 0.000000\n",
      "2024-09-08 03:09:52,668 epoch 23 - iter 6132/8762 - loss 0.00159454 - time (sec): 358.77 - samples/sec: 308.60 - lr: 0.010000 - momentum: 0.000000\n",
      "2024-09-08 03:10:43,841 epoch 23 - iter 7008/8762 - loss 0.00179689 - time (sec): 409.95 - samples/sec: 306.87 - lr: 0.010000 - momentum: 0.000000\n",
      "2024-09-08 03:11:35,245 epoch 23 - iter 7884/8762 - loss 0.00186278 - time (sec): 461.35 - samples/sec: 308.31 - lr: 0.010000 - momentum: 0.000000\n",
      "2024-09-08 03:12:26,676 epoch 23 - iter 8760/8762 - loss 0.00179191 - time (sec): 512.78 - samples/sec: 309.54 - lr: 0.010000 - momentum: 0.000000\n",
      "2024-09-08 03:12:26,792 ----------------------------------------------------------------------------------------------------\n",
      "2024-09-08 03:12:26,792 EPOCH 23 done: loss 0.0018 - lr: 0.010000\n"
     ]
    },
    {
     "name": "stderr",
     "output_type": "stream",
     "text": [
      "100%|██████████| 64/64 [00:05<00:00, 11.49it/s]\n"
     ]
    },
    {
     "name": "stdout",
     "output_type": "stream",
     "text": [
      "2024-09-08 03:12:32,415 TEST : loss 0.24707721173763275 - f1-score (micro avg)  0.7098\n",
      "2024-09-08 03:12:32,619  - 0 epochs without improvement\n",
      "2024-09-08 03:12:32,620 ----------------------------------------------------------------------------------------------------\n",
      "2024-09-08 03:13:24,014 epoch 24 - iter 876/8762 - loss 0.00086658 - time (sec): 51.39 - samples/sec: 309.19 - lr: 0.010000 - momentum: 0.000000\n",
      "2024-09-08 03:14:15,211 epoch 24 - iter 1752/8762 - loss 0.00186404 - time (sec): 102.59 - samples/sec: 307.63 - lr: 0.010000 - momentum: 0.000000\n",
      "2024-09-08 03:15:06,428 epoch 24 - iter 2628/8762 - loss 0.00153220 - time (sec): 153.81 - samples/sec: 308.52 - lr: 0.010000 - momentum: 0.000000\n",
      "2024-09-08 03:15:57,912 epoch 24 - iter 3504/8762 - loss 0.00147841 - time (sec): 205.29 - samples/sec: 311.80 - lr: 0.010000 - momentum: 0.000000\n",
      "2024-09-08 03:16:49,120 epoch 24 - iter 4380/8762 - loss 0.00162195 - time (sec): 256.50 - samples/sec: 312.48 - lr: 0.010000 - momentum: 0.000000\n",
      "2024-09-08 03:17:40,188 epoch 24 - iter 5256/8762 - loss 0.00181041 - time (sec): 307.57 - samples/sec: 312.02 - lr: 0.010000 - momentum: 0.000000\n",
      "2024-09-08 03:18:31,284 epoch 24 - iter 6132/8762 - loss 0.00176946 - time (sec): 358.66 - samples/sec: 311.27 - lr: 0.010000 - momentum: 0.000000\n",
      "2024-09-08 03:19:22,445 epoch 24 - iter 7008/8762 - loss 0.00193585 - time (sec): 409.82 - samples/sec: 310.92 - lr: 0.010000 - momentum: 0.000000\n",
      "2024-09-08 03:20:13,581 epoch 24 - iter 7884/8762 - loss 0.00211046 - time (sec): 460.96 - samples/sec: 310.35 - lr: 0.010000 - momentum: 0.000000\n",
      "2024-09-08 03:21:04,590 epoch 24 - iter 8760/8762 - loss 0.00203712 - time (sec): 511.97 - samples/sec: 309.90 - lr: 0.010000 - momentum: 0.000000\n",
      "2024-09-08 03:21:04,729 ----------------------------------------------------------------------------------------------------\n",
      "2024-09-08 03:21:04,730 EPOCH 24 done: loss 0.0020 - lr: 0.010000\n"
     ]
    },
    {
     "name": "stderr",
     "output_type": "stream",
     "text": [
      "100%|██████████| 64/64 [00:06<00:00, 10.50it/s]\n"
     ]
    },
    {
     "name": "stdout",
     "output_type": "stream",
     "text": [
      "2024-09-08 03:21:10,873 TEST : loss 0.24944230914115906 - f1-score (micro avg)  0.7111\n",
      "2024-09-08 03:21:11,081  - 1 epochs without improvement\n",
      "2024-09-08 03:21:11,082 ----------------------------------------------------------------------------------------------------\n",
      "2024-09-08 03:22:02,014 epoch 25 - iter 876/8762 - loss 0.00294951 - time (sec): 50.93 - samples/sec: 296.68 - lr: 0.010000 - momentum: 0.000000\n",
      "2024-09-08 03:22:53,164 epoch 25 - iter 1752/8762 - loss 0.00196933 - time (sec): 102.08 - samples/sec: 302.30 - lr: 0.010000 - momentum: 0.000000\n",
      "2024-09-08 03:23:44,309 epoch 25 - iter 2628/8762 - loss 0.00217732 - time (sec): 153.23 - samples/sec: 306.59 - lr: 0.010000 - momentum: 0.000000\n",
      "2024-09-08 03:24:35,672 epoch 25 - iter 3504/8762 - loss 0.00173263 - time (sec): 204.59 - samples/sec: 308.65 - lr: 0.010000 - momentum: 0.000000\n",
      "2024-09-08 03:25:26,883 epoch 25 - iter 4380/8762 - loss 0.00207081 - time (sec): 255.80 - samples/sec: 309.05 - lr: 0.010000 - momentum: 0.000000\n",
      "2024-09-08 03:26:18,012 epoch 25 - iter 5256/8762 - loss 0.00216340 - time (sec): 306.93 - samples/sec: 309.68 - lr: 0.010000 - momentum: 0.000000\n",
      "2024-09-08 03:27:09,046 epoch 25 - iter 6132/8762 - loss 0.00200346 - time (sec): 357.96 - samples/sec: 310.40 - lr: 0.010000 - momentum: 0.000000\n",
      "2024-09-08 03:28:00,322 epoch 25 - iter 7008/8762 - loss 0.00188054 - time (sec): 409.24 - samples/sec: 311.28 - lr: 0.010000 - momentum: 0.000000\n",
      "2024-09-08 03:28:51,368 epoch 25 - iter 7884/8762 - loss 0.00174910 - time (sec): 460.28 - samples/sec: 310.77 - lr: 0.010000 - momentum: 0.000000\n",
      "2024-09-08 03:29:42,452 epoch 25 - iter 8760/8762 - loss 0.00165498 - time (sec): 511.37 - samples/sec: 310.34 - lr: 0.010000 - momentum: 0.000000\n",
      "2024-09-08 03:29:42,567 ----------------------------------------------------------------------------------------------------\n",
      "2024-09-08 03:29:42,568 EPOCH 25 done: loss 0.0017 - lr: 0.010000\n"
     ]
    },
    {
     "name": "stderr",
     "output_type": "stream",
     "text": [
      "100%|██████████| 64/64 [00:06<00:00, 10.28it/s]\n"
     ]
    },
    {
     "name": "stdout",
     "output_type": "stream",
     "text": [
      "2024-09-08 03:29:48,847 TEST : loss 0.25008106231689453 - f1-score (micro avg)  0.71\n",
      "2024-09-08 03:29:49,055  - 0 epochs without improvement\n",
      "2024-09-08 03:29:49,056 ----------------------------------------------------------------------------------------------------\n",
      "2024-09-08 03:30:40,101 epoch 26 - iter 876/8762 - loss 0.00438135 - time (sec): 51.04 - samples/sec: 296.06 - lr: 0.010000 - momentum: 0.000000\n",
      "2024-09-08 03:31:31,340 epoch 26 - iter 1752/8762 - loss 0.00331127 - time (sec): 102.28 - samples/sec: 305.59 - lr: 0.010000 - momentum: 0.000000\n",
      "2024-09-08 03:32:22,294 epoch 26 - iter 2628/8762 - loss 0.00262988 - time (sec): 153.24 - samples/sec: 304.67 - lr: 0.010000 - momentum: 0.000000\n",
      "2024-09-08 03:33:13,718 epoch 26 - iter 3504/8762 - loss 0.00225408 - time (sec): 204.66 - samples/sec: 307.13 - lr: 0.010000 - momentum: 0.000000\n",
      "2024-09-08 03:34:04,868 epoch 26 - iter 4380/8762 - loss 0.00200063 - time (sec): 255.81 - samples/sec: 306.98 - lr: 0.010000 - momentum: 0.000000\n",
      "2024-09-08 03:34:56,163 epoch 26 - iter 5256/8762 - loss 0.00182744 - time (sec): 307.11 - samples/sec: 308.93 - lr: 0.010000 - momentum: 0.000000\n",
      "2024-09-08 03:35:47,490 epoch 26 - iter 6132/8762 - loss 0.00171729 - time (sec): 358.43 - samples/sec: 310.29 - lr: 0.010000 - momentum: 0.000000\n",
      "2024-09-08 03:36:38,473 epoch 26 - iter 7008/8762 - loss 0.00166758 - time (sec): 409.42 - samples/sec: 309.34 - lr: 0.010000 - momentum: 0.000000\n",
      "2024-09-08 03:37:29,730 epoch 26 - iter 7884/8762 - loss 0.00177035 - time (sec): 460.67 - samples/sec: 310.66 - lr: 0.010000 - momentum: 0.000000\n",
      "2024-09-08 03:38:20,592 epoch 26 - iter 8760/8762 - loss 0.00184351 - time (sec): 511.54 - samples/sec: 310.24 - lr: 0.010000 - momentum: 0.000000\n",
      "2024-09-08 03:38:20,718 ----------------------------------------------------------------------------------------------------\n",
      "2024-09-08 03:38:20,719 EPOCH 26 done: loss 0.0018 - lr: 0.010000\n"
     ]
    },
    {
     "name": "stderr",
     "output_type": "stream",
     "text": [
      "100%|██████████| 64/64 [00:06<00:00, 10.17it/s]\n"
     ]
    },
    {
     "name": "stdout",
     "output_type": "stream",
     "text": [
      "2024-09-08 03:38:27,063 TEST : loss 0.2536834478378296 - f1-score (micro avg)  0.7125\n",
      "2024-09-08 03:38:27,296  - 1 epochs without improvement\n",
      "2024-09-08 03:38:27,297 ----------------------------------------------------------------------------------------------------\n",
      "2024-09-08 03:39:18,318 epoch 27 - iter 876/8762 - loss 0.00095398 - time (sec): 51.02 - samples/sec: 312.39 - lr: 0.010000 - momentum: 0.000000\n",
      "2024-09-08 03:40:09,711 epoch 27 - iter 1752/8762 - loss 0.00108334 - time (sec): 102.41 - samples/sec: 318.57 - lr: 0.010000 - momentum: 0.000000\n",
      "2024-09-08 03:41:00,694 epoch 27 - iter 2628/8762 - loss 0.00116588 - time (sec): 153.40 - samples/sec: 312.65 - lr: 0.010000 - momentum: 0.000000\n",
      "2024-09-08 03:41:51,628 epoch 27 - iter 3504/8762 - loss 0.00127970 - time (sec): 204.33 - samples/sec: 312.34 - lr: 0.010000 - momentum: 0.000000\n",
      "2024-09-08 03:42:42,630 epoch 27 - iter 4380/8762 - loss 0.00134661 - time (sec): 255.33 - samples/sec: 312.40 - lr: 0.010000 - momentum: 0.000000\n",
      "2024-09-08 03:43:33,772 epoch 27 - iter 5256/8762 - loss 0.00131035 - time (sec): 306.47 - samples/sec: 312.11 - lr: 0.010000 - momentum: 0.000000\n",
      "2024-09-08 03:44:24,794 epoch 27 - iter 6132/8762 - loss 0.00219784 - time (sec): 357.50 - samples/sec: 312.07 - lr: 0.010000 - momentum: 0.000000\n",
      "2024-09-08 03:45:15,887 epoch 27 - iter 7008/8762 - loss 0.00252378 - time (sec): 408.59 - samples/sec: 312.05 - lr: 0.010000 - momentum: 0.000000\n",
      "2024-09-08 03:46:06,667 epoch 27 - iter 7884/8762 - loss 0.00249396 - time (sec): 459.37 - samples/sec: 310.19 - lr: 0.010000 - momentum: 0.000000\n",
      "2024-09-08 03:46:57,693 epoch 27 - iter 8760/8762 - loss 0.00255323 - time (sec): 510.39 - samples/sec: 310.95 - lr: 0.010000 - momentum: 0.000000\n",
      "2024-09-08 03:46:57,807 ----------------------------------------------------------------------------------------------------\n",
      "2024-09-08 03:46:57,808 EPOCH 27 done: loss 0.0026 - lr: 0.010000\n"
     ]
    },
    {
     "name": "stderr",
     "output_type": "stream",
     "text": [
      "100%|██████████| 64/64 [00:06<00:00, 10.33it/s]\n"
     ]
    },
    {
     "name": "stdout",
     "output_type": "stream",
     "text": [
      "2024-09-08 03:47:04,052 TEST : loss 0.2540872395038605 - f1-score (micro avg)  0.7144\n",
      "2024-09-08 03:47:04,257  - 2 epochs without improvement\n",
      "2024-09-08 03:47:04,258 ----------------------------------------------------------------------------------------------------\n",
      "2024-09-08 03:47:55,429 epoch 28 - iter 876/8762 - loss 0.00054432 - time (sec): 51.17 - samples/sec: 307.54 - lr: 0.010000 - momentum: 0.000000\n",
      "2024-09-08 03:48:46,789 epoch 28 - iter 1752/8762 - loss 0.00112108 - time (sec): 102.53 - samples/sec: 315.58 - lr: 0.010000 - momentum: 0.000000\n",
      "2024-09-08 03:49:37,834 epoch 28 - iter 2628/8762 - loss 0.00173528 - time (sec): 153.58 - samples/sec: 314.48 - lr: 0.010000 - momentum: 0.000000\n",
      "2024-09-08 03:50:29,045 epoch 28 - iter 3504/8762 - loss 0.00139758 - time (sec): 204.79 - samples/sec: 315.70 - lr: 0.010000 - momentum: 0.000000\n",
      "2024-09-08 03:51:20,101 epoch 28 - iter 4380/8762 - loss 0.00156361 - time (sec): 255.84 - samples/sec: 315.18 - lr: 0.010000 - momentum: 0.000000\n",
      "2024-09-08 03:52:11,087 epoch 28 - iter 5256/8762 - loss 0.00165573 - time (sec): 306.83 - samples/sec: 312.82 - lr: 0.010000 - momentum: 0.000000\n",
      "2024-09-08 03:53:02,081 epoch 28 - iter 6132/8762 - loss 0.00156491 - time (sec): 357.82 - samples/sec: 311.85 - lr: 0.010000 - momentum: 0.000000\n",
      "2024-09-08 03:53:53,090 epoch 28 - iter 7008/8762 - loss 0.00155070 - time (sec): 408.83 - samples/sec: 310.27 - lr: 0.010000 - momentum: 0.000000\n",
      "2024-09-08 03:54:44,143 epoch 28 - iter 7884/8762 - loss 0.00202831 - time (sec): 459.88 - samples/sec: 309.93 - lr: 0.010000 - momentum: 0.000000\n",
      "2024-09-08 03:55:35,439 epoch 28 - iter 8760/8762 - loss 0.00201816 - time (sec): 511.18 - samples/sec: 310.47 - lr: 0.010000 - momentum: 0.000000\n",
      "2024-09-08 03:55:35,556 ----------------------------------------------------------------------------------------------------\n",
      "2024-09-08 03:55:35,557 EPOCH 28 done: loss 0.0020 - lr: 0.010000\n"
     ]
    },
    {
     "name": "stderr",
     "output_type": "stream",
     "text": [
      "100%|██████████| 64/64 [00:06<00:00, 10.20it/s]\n"
     ]
    },
    {
     "name": "stdout",
     "output_type": "stream",
     "text": [
      "2024-09-08 03:55:41,881 TEST : loss 0.2547137141227722 - f1-score (micro avg)  0.7123\n",
      "2024-09-08 03:55:42,087  - 3 epochs without improvement\n",
      "2024-09-08 03:55:42,088 ----------------------------------------------------------------------------------------------------\n",
      "2024-09-08 03:56:33,055 epoch 29 - iter 876/8762 - loss 0.00141949 - time (sec): 50.97 - samples/sec: 306.71 - lr: 0.010000 - momentum: 0.000000\n",
      "2024-09-08 03:57:24,271 epoch 29 - iter 1752/8762 - loss 0.00101102 - time (sec): 102.18 - samples/sec: 312.20 - lr: 0.010000 - momentum: 0.000000\n",
      "2024-09-08 03:58:14,995 epoch 29 - iter 2628/8762 - loss 0.00108170 - time (sec): 152.91 - samples/sec: 311.03 - lr: 0.010000 - momentum: 0.000000\n",
      "2024-09-08 03:59:06,779 epoch 29 - iter 3504/8762 - loss 0.00122683 - time (sec): 204.69 - samples/sec: 312.88 - lr: 0.010000 - momentum: 0.000000\n",
      "2024-09-08 03:59:58,198 epoch 29 - iter 4380/8762 - loss 0.00131362 - time (sec): 256.11 - samples/sec: 310.85 - lr: 0.010000 - momentum: 0.000000\n",
      "2024-09-08 04:00:49,608 epoch 29 - iter 5256/8762 - loss 0.00124779 - time (sec): 307.52 - samples/sec: 311.49 - lr: 0.010000 - momentum: 0.000000\n",
      "2024-09-08 04:01:40,741 epoch 29 - iter 6132/8762 - loss 0.00136056 - time (sec): 358.65 - samples/sec: 308.82 - lr: 0.010000 - momentum: 0.000000\n",
      "2024-09-08 04:02:32,057 epoch 29 - iter 7008/8762 - loss 0.00139494 - time (sec): 409.97 - samples/sec: 307.98 - lr: 0.010000 - momentum: 0.000000\n",
      "2024-09-08 04:03:23,615 epoch 29 - iter 7884/8762 - loss 0.00131107 - time (sec): 461.53 - samples/sec: 308.26 - lr: 0.010000 - momentum: 0.000000\n",
      "2024-09-08 04:04:15,186 epoch 29 - iter 8760/8762 - loss 0.00127989 - time (sec): 513.10 - samples/sec: 309.30 - lr: 0.010000 - momentum: 0.000000\n",
      "2024-09-08 04:04:15,302 ----------------------------------------------------------------------------------------------------\n",
      "2024-09-08 04:04:15,303 EPOCH 29 done: loss 0.0013 - lr: 0.010000\n"
     ]
    },
    {
     "name": "stderr",
     "output_type": "stream",
     "text": [
      "100%|██████████| 64/64 [00:05<00:00, 11.60it/s]\n"
     ]
    },
    {
     "name": "stdout",
     "output_type": "stream",
     "text": [
      "2024-09-08 04:04:20,869 TEST : loss 0.2596758306026459 - f1-score (micro avg)  0.7146\n",
      "2024-09-08 04:04:21,075  - 0 epochs without improvement\n",
      "2024-09-08 04:04:21,076 ----------------------------------------------------------------------------------------------------\n",
      "2024-09-08 04:05:12,483 epoch 30 - iter 876/8762 - loss 0.00085035 - time (sec): 51.41 - samples/sec: 312.52 - lr: 0.010000 - momentum: 0.000000\n",
      "2024-09-08 04:06:03,856 epoch 30 - iter 1752/8762 - loss 0.00101702 - time (sec): 102.78 - samples/sec: 313.97 - lr: 0.010000 - momentum: 0.000000\n",
      "2024-09-08 04:06:55,239 epoch 30 - iter 2628/8762 - loss 0.00081360 - time (sec): 154.16 - samples/sec: 314.63 - lr: 0.010000 - momentum: 0.000000\n",
      "2024-09-08 04:07:46,481 epoch 30 - iter 3504/8762 - loss 0.00113409 - time (sec): 205.40 - samples/sec: 309.00 - lr: 0.010000 - momentum: 0.000000\n",
      "2024-09-08 04:08:37,789 epoch 30 - iter 4380/8762 - loss 0.00109226 - time (sec): 256.71 - samples/sec: 308.39 - lr: 0.010000 - momentum: 0.000000\n",
      "2024-09-08 04:09:29,049 epoch 30 - iter 5256/8762 - loss 0.00099267 - time (sec): 307.97 - samples/sec: 309.17 - lr: 0.010000 - momentum: 0.000000\n",
      "2024-09-08 04:10:20,410 epoch 30 - iter 6132/8762 - loss 0.00089855 - time (sec): 359.33 - samples/sec: 309.69 - lr: 0.010000 - momentum: 0.000000\n",
      "2024-09-08 04:11:11,724 epoch 30 - iter 7008/8762 - loss 0.00088055 - time (sec): 410.65 - samples/sec: 310.98 - lr: 0.010000 - momentum: 0.000000\n",
      "2024-09-08 04:12:02,972 epoch 30 - iter 7884/8762 - loss 0.00098771 - time (sec): 461.89 - samples/sec: 310.23 - lr: 0.010000 - momentum: 0.000000\n",
      "2024-09-08 04:12:54,239 epoch 30 - iter 8760/8762 - loss 0.00091622 - time (sec): 513.16 - samples/sec: 309.23 - lr: 0.010000 - momentum: 0.000000\n",
      "2024-09-08 04:12:54,358 ----------------------------------------------------------------------------------------------------\n",
      "2024-09-08 04:12:54,359 EPOCH 30 done: loss 0.0009 - lr: 0.010000\n"
     ]
    },
    {
     "name": "stderr",
     "output_type": "stream",
     "text": [
      "100%|██████████| 64/64 [00:06<00:00, 10.43it/s]\n"
     ]
    },
    {
     "name": "stdout",
     "output_type": "stream",
     "text": [
      "2024-09-08 04:13:00,547 TEST : loss 0.26074472069740295 - f1-score (micro avg)  0.712\n",
      "2024-09-08 04:13:00,773  - 0 epochs without improvement\n",
      "2024-09-08 04:13:00,774 ----------------------------------------------------------------------------------------------------\n",
      "2024-09-08 04:13:51,916 epoch 31 - iter 876/8762 - loss 0.00126101 - time (sec): 51.14 - samples/sec: 304.32 - lr: 0.010000 - momentum: 0.000000\n",
      "2024-09-08 04:14:43,183 epoch 31 - iter 1752/8762 - loss 0.00067733 - time (sec): 102.41 - samples/sec: 306.06 - lr: 0.010000 - momentum: 0.000000\n",
      "2024-09-08 04:15:34,562 epoch 31 - iter 2628/8762 - loss 0.00056384 - time (sec): 153.79 - samples/sec: 307.77 - lr: 0.010000 - momentum: 0.000000\n",
      "2024-09-08 04:16:25,879 epoch 31 - iter 3504/8762 - loss 0.00044365 - time (sec): 205.10 - samples/sec: 307.96 - lr: 0.010000 - momentum: 0.000000\n",
      "2024-09-08 04:17:17,237 epoch 31 - iter 4380/8762 - loss 0.00052392 - time (sec): 256.46 - samples/sec: 309.01 - lr: 0.010000 - momentum: 0.000000\n",
      "2024-09-08 04:18:08,704 epoch 31 - iter 5256/8762 - loss 0.00086702 - time (sec): 307.93 - samples/sec: 311.71 - lr: 0.010000 - momentum: 0.000000\n",
      "2024-09-08 04:18:59,957 epoch 31 - iter 6132/8762 - loss 0.00092139 - time (sec): 359.18 - samples/sec: 311.58 - lr: 0.010000 - momentum: 0.000000\n",
      "2024-09-08 04:19:51,337 epoch 31 - iter 7008/8762 - loss 0.00096169 - time (sec): 410.56 - samples/sec: 312.05 - lr: 0.010000 - momentum: 0.000000\n",
      "2024-09-08 04:20:42,426 epoch 31 - iter 7884/8762 - loss 0.00099569 - time (sec): 461.65 - samples/sec: 309.91 - lr: 0.010000 - momentum: 0.000000\n",
      "2024-09-08 04:21:33,551 epoch 31 - iter 8760/8762 - loss 0.00137929 - time (sec): 512.78 - samples/sec: 309.42 - lr: 0.010000 - momentum: 0.000000\n",
      "2024-09-08 04:21:33,674 ----------------------------------------------------------------------------------------------------\n",
      "2024-09-08 04:21:33,675 EPOCH 31 done: loss 0.0014 - lr: 0.010000\n"
     ]
    },
    {
     "name": "stderr",
     "output_type": "stream",
     "text": [
      "100%|██████████| 64/64 [00:06<00:00, 10.29it/s]\n"
     ]
    },
    {
     "name": "stdout",
     "output_type": "stream",
     "text": [
      "2024-09-08 04:21:39,946 TEST : loss 0.26342907547950745 - f1-score (micro avg)  0.7107\n",
      "2024-09-08 04:21:40,151  - 1 epochs without improvement\n",
      "2024-09-08 04:21:40,152 ----------------------------------------------------------------------------------------------------\n",
      "2024-09-08 04:22:31,585 epoch 32 - iter 876/8762 - loss 0.00121309 - time (sec): 51.43 - samples/sec: 325.56 - lr: 0.010000 - momentum: 0.000000\n",
      "2024-09-08 04:23:22,895 epoch 32 - iter 1752/8762 - loss 0.00077247 - time (sec): 102.74 - samples/sec: 314.94 - lr: 0.010000 - momentum: 0.000000\n",
      "2024-09-08 04:24:14,057 epoch 32 - iter 2628/8762 - loss 0.00065944 - time (sec): 153.90 - samples/sec: 311.90 - lr: 0.010000 - momentum: 0.000000\n",
      "2024-09-08 04:25:05,150 epoch 32 - iter 3504/8762 - loss 0.00101818 - time (sec): 205.00 - samples/sec: 309.56 - lr: 0.010000 - momentum: 0.000000\n",
      "2024-09-08 04:25:56,564 epoch 32 - iter 4380/8762 - loss 0.00088239 - time (sec): 256.41 - samples/sec: 313.20 - lr: 0.010000 - momentum: 0.000000\n",
      "2024-09-08 04:26:47,667 epoch 32 - iter 5256/8762 - loss 0.00100413 - time (sec): 307.51 - samples/sec: 312.55 - lr: 0.010000 - momentum: 0.000000\n",
      "2024-09-08 04:27:38,650 epoch 32 - iter 6132/8762 - loss 0.00105593 - time (sec): 358.50 - samples/sec: 310.74 - lr: 0.010000 - momentum: 0.000000\n",
      "2024-09-08 04:28:29,854 epoch 32 - iter 7008/8762 - loss 0.00110830 - time (sec): 409.70 - samples/sec: 310.87 - lr: 0.010000 - momentum: 0.000000\n",
      "2024-09-08 04:29:20,937 epoch 32 - iter 7884/8762 - loss 0.00103810 - time (sec): 460.78 - samples/sec: 310.94 - lr: 0.010000 - momentum: 0.000000\n",
      "2024-09-08 04:30:12,040 epoch 32 - iter 8760/8762 - loss 0.00121643 - time (sec): 511.89 - samples/sec: 309.88 - lr: 0.010000 - momentum: 0.000000\n",
      "2024-09-08 04:30:12,192 ----------------------------------------------------------------------------------------------------\n",
      "2024-09-08 04:30:12,193 EPOCH 32 done: loss 0.0012 - lr: 0.010000\n"
     ]
    },
    {
     "name": "stderr",
     "output_type": "stream",
     "text": [
      "100%|██████████| 64/64 [00:06<00:00, 10.25it/s]\n"
     ]
    },
    {
     "name": "stdout",
     "output_type": "stream",
     "text": [
      "2024-09-08 04:30:18,486 TEST : loss 0.26511675119400024 - f1-score (micro avg)  0.7102\n",
      "2024-09-08 04:30:18,690  - 2 epochs without improvement\n",
      "2024-09-08 04:30:18,691 ----------------------------------------------------------------------------------------------------\n",
      "2024-09-08 04:31:09,731 epoch 33 - iter 876/8762 - loss 0.00213946 - time (sec): 51.04 - samples/sec: 308.51 - lr: 0.010000 - momentum: 0.000000\n",
      "2024-09-08 04:32:00,870 epoch 33 - iter 1752/8762 - loss 0.00139515 - time (sec): 102.18 - samples/sec: 308.92 - lr: 0.010000 - momentum: 0.000000\n",
      "2024-09-08 04:32:52,050 epoch 33 - iter 2628/8762 - loss 0.00166149 - time (sec): 153.36 - samples/sec: 312.03 - lr: 0.010000 - momentum: 0.000000\n",
      "2024-09-08 04:33:43,263 epoch 33 - iter 3504/8762 - loss 0.00132970 - time (sec): 204.57 - samples/sec: 310.03 - lr: 0.010000 - momentum: 0.000000\n",
      "2024-09-08 04:34:34,335 epoch 33 - iter 4380/8762 - loss 0.00119763 - time (sec): 255.64 - samples/sec: 309.44 - lr: 0.010000 - momentum: 0.000000\n",
      "2024-09-08 04:35:25,545 epoch 33 - iter 5256/8762 - loss 0.00115308 - time (sec): 306.85 - samples/sec: 310.17 - lr: 0.010000 - momentum: 0.000000\n",
      "2024-09-08 04:36:16,747 epoch 33 - iter 6132/8762 - loss 0.00125650 - time (sec): 358.06 - samples/sec: 310.95 - lr: 0.010000 - momentum: 0.000000\n",
      "2024-09-08 04:37:07,927 epoch 33 - iter 7008/8762 - loss 0.00120324 - time (sec): 409.24 - samples/sec: 310.62 - lr: 0.010000 - momentum: 0.000000\n",
      "2024-09-08 04:37:59,159 epoch 33 - iter 7884/8762 - loss 0.00111248 - time (sec): 460.47 - samples/sec: 311.44 - lr: 0.010000 - momentum: 0.000000\n",
      "2024-09-08 04:38:50,138 epoch 33 - iter 8760/8762 - loss 0.00105720 - time (sec): 511.45 - samples/sec: 310.31 - lr: 0.010000 - momentum: 0.000000\n",
      "2024-09-08 04:38:50,254 ----------------------------------------------------------------------------------------------------\n",
      "2024-09-08 04:38:50,255 EPOCH 33 done: loss 0.0011 - lr: 0.010000\n"
     ]
    },
    {
     "name": "stderr",
     "output_type": "stream",
     "text": [
      "100%|██████████| 64/64 [00:06<00:00, 10.33it/s]\n"
     ]
    },
    {
     "name": "stdout",
     "output_type": "stream",
     "text": [
      "2024-09-08 04:38:56,506 TEST : loss 0.26626768708229065 - f1-score (micro avg)  0.7089\n",
      "2024-09-08 04:38:56,711  - 3 epochs without improvement\n",
      "2024-09-08 04:38:56,713 ----------------------------------------------------------------------------------------------------\n",
      "2024-09-08 04:39:47,995 epoch 34 - iter 876/8762 - loss 0.00164994 - time (sec): 51.28 - samples/sec: 316.88 - lr: 0.010000 - momentum: 0.000000\n",
      "2024-09-08 04:40:39,266 epoch 34 - iter 1752/8762 - loss 0.00104935 - time (sec): 102.55 - samples/sec: 318.02 - lr: 0.010000 - momentum: 0.000000\n",
      "2024-09-08 04:41:30,242 epoch 34 - iter 2628/8762 - loss 0.00075213 - time (sec): 153.53 - samples/sec: 310.67 - lr: 0.010000 - momentum: 0.000000\n",
      "2024-09-08 04:42:21,303 epoch 34 - iter 3504/8762 - loss 0.00072669 - time (sec): 204.59 - samples/sec: 312.37 - lr: 0.010000 - momentum: 0.000000\n",
      "2024-09-08 04:43:12,184 epoch 34 - iter 4380/8762 - loss 0.00065052 - time (sec): 255.47 - samples/sec: 310.11 - lr: 0.010000 - momentum: 0.000000\n",
      "2024-09-08 04:44:03,341 epoch 34 - iter 5256/8762 - loss 0.00068544 - time (sec): 306.63 - samples/sec: 311.06 - lr: 0.010000 - momentum: 0.000000\n",
      "2024-09-08 04:44:54,538 epoch 34 - iter 6132/8762 - loss 0.00063371 - time (sec): 357.82 - samples/sec: 312.00 - lr: 0.010000 - momentum: 0.000000\n",
      "2024-09-08 04:45:45,824 epoch 34 - iter 7008/8762 - loss 0.00074259 - time (sec): 409.11 - samples/sec: 312.59 - lr: 0.010000 - momentum: 0.000000\n",
      "2024-09-08 04:46:36,881 epoch 34 - iter 7884/8762 - loss 0.00069583 - time (sec): 460.17 - samples/sec: 311.55 - lr: 0.010000 - momentum: 0.000000\n",
      "2024-09-08 04:47:27,955 epoch 34 - iter 8760/8762 - loss 0.00072546 - time (sec): 511.24 - samples/sec: 310.44 - lr: 0.010000 - momentum: 0.000000\n",
      "2024-09-08 04:47:28,081 ----------------------------------------------------------------------------------------------------\n",
      "2024-09-08 04:47:28,082 EPOCH 34 done: loss 0.0007 - lr: 0.010000\n"
     ]
    },
    {
     "name": "stderr",
     "output_type": "stream",
     "text": [
      "100%|██████████| 64/64 [00:05<00:00, 11.61it/s]\n"
     ]
    },
    {
     "name": "stdout",
     "output_type": "stream",
     "text": [
      "2024-09-08 04:47:33,642 TEST : loss 0.2678806781768799 - f1-score (micro avg)  0.711\n",
      "2024-09-08 04:47:33,850  - 0 epochs without improvement\n",
      "2024-09-08 04:47:33,851 ----------------------------------------------------------------------------------------------------\n",
      "2024-09-08 04:48:24,839 epoch 35 - iter 876/8762 - loss 0.00119094 - time (sec): 50.99 - samples/sec: 302.91 - lr: 0.010000 - momentum: 0.000000\n",
      "2024-09-08 04:49:15,995 epoch 35 - iter 1752/8762 - loss 0.00107521 - time (sec): 102.14 - samples/sec: 308.87 - lr: 0.010000 - momentum: 0.000000\n",
      "2024-09-08 04:50:07,230 epoch 35 - iter 2628/8762 - loss 0.00084829 - time (sec): 153.38 - samples/sec: 310.21 - lr: 0.010000 - momentum: 0.000000\n",
      "2024-09-08 04:50:58,410 epoch 35 - iter 3504/8762 - loss 0.00088644 - time (sec): 204.56 - samples/sec: 311.91 - lr: 0.010000 - momentum: 0.000000\n",
      "2024-09-08 04:51:49,339 epoch 35 - iter 4380/8762 - loss 0.00075071 - time (sec): 255.49 - samples/sec: 309.58 - lr: 0.010000 - momentum: 0.000000\n",
      "2024-09-08 04:52:40,589 epoch 35 - iter 5256/8762 - loss 0.00081755 - time (sec): 306.74 - samples/sec: 310.79 - lr: 0.010000 - momentum: 0.000000\n",
      "2024-09-08 04:53:32,077 epoch 35 - iter 6132/8762 - loss 0.00092958 - time (sec): 358.23 - samples/sec: 310.67 - lr: 0.010000 - momentum: 0.000000\n",
      "2024-09-08 04:54:23,486 epoch 35 - iter 7008/8762 - loss 0.00083978 - time (sec): 409.63 - samples/sec: 311.25 - lr: 0.010000 - momentum: 0.000000\n",
      "2024-09-08 04:55:14,886 epoch 35 - iter 7884/8762 - loss 0.00083201 - time (sec): 461.03 - samples/sec: 311.07 - lr: 0.010000 - momentum: 0.000000\n",
      "2024-09-08 04:56:06,143 epoch 35 - iter 8760/8762 - loss 0.00097027 - time (sec): 512.29 - samples/sec: 309.80 - lr: 0.010000 - momentum: 0.000000\n",
      "2024-09-08 04:56:06,259 ----------------------------------------------------------------------------------------------------\n",
      "2024-09-08 04:56:06,260 EPOCH 35 done: loss 0.0010 - lr: 0.010000\n"
     ]
    },
    {
     "name": "stderr",
     "output_type": "stream",
     "text": [
      "100%|██████████| 64/64 [00:06<00:00, 10.32it/s]\n"
     ]
    },
    {
     "name": "stdout",
     "output_type": "stream",
     "text": [
      "2024-09-08 04:56:12,515 TEST : loss 0.2684774100780487 - f1-score (micro avg)  0.7093\n",
      "2024-09-08 04:56:12,725  - 1 epochs without improvement\n",
      "2024-09-08 04:56:12,726 ----------------------------------------------------------------------------------------------------\n",
      "2024-09-08 04:57:03,947 epoch 36 - iter 876/8762 - loss 0.00239884 - time (sec): 51.22 - samples/sec: 300.73 - lr: 0.010000 - momentum: 0.000000\n",
      "2024-09-08 04:57:55,374 epoch 36 - iter 1752/8762 - loss 0.00180789 - time (sec): 102.65 - samples/sec: 305.67 - lr: 0.010000 - momentum: 0.000000\n",
      "2024-09-08 04:58:46,604 epoch 36 - iter 2628/8762 - loss 0.00123874 - time (sec): 153.88 - samples/sec: 306.73 - lr: 0.010000 - momentum: 0.000000\n",
      "2024-09-08 04:59:38,058 epoch 36 - iter 3504/8762 - loss 0.00125768 - time (sec): 205.33 - samples/sec: 307.96 - lr: 0.010000 - momentum: 0.000000\n",
      "2024-09-08 05:00:29,481 epoch 36 - iter 4380/8762 - loss 0.00114986 - time (sec): 256.75 - samples/sec: 307.33 - lr: 0.010000 - momentum: 0.000000\n",
      "2024-09-08 05:01:20,765 epoch 36 - iter 5256/8762 - loss 0.00114766 - time (sec): 308.04 - samples/sec: 307.91 - lr: 0.010000 - momentum: 0.000000\n",
      "2024-09-08 05:02:12,347 epoch 36 - iter 6132/8762 - loss 0.00112918 - time (sec): 359.62 - samples/sec: 309.95 - lr: 0.010000 - momentum: 0.000000\n",
      "2024-09-08 05:03:03,417 epoch 36 - iter 7008/8762 - loss 0.00117027 - time (sec): 410.69 - samples/sec: 308.90 - lr: 0.010000 - momentum: 0.000000\n",
      "2024-09-08 05:03:54,637 epoch 36 - iter 7884/8762 - loss 0.00116070 - time (sec): 461.91 - samples/sec: 308.48 - lr: 0.010000 - momentum: 0.000000\n",
      "2024-09-08 05:04:45,920 epoch 36 - iter 8760/8762 - loss 0.00110391 - time (sec): 513.19 - samples/sec: 309.23 - lr: 0.010000 - momentum: 0.000000\n",
      "2024-09-08 05:04:46,037 ----------------------------------------------------------------------------------------------------\n",
      "2024-09-08 05:04:46,038 EPOCH 36 done: loss 0.0011 - lr: 0.010000\n"
     ]
    },
    {
     "name": "stderr",
     "output_type": "stream",
     "text": [
      "100%|██████████| 64/64 [00:06<00:00, 10.35it/s]\n"
     ]
    },
    {
     "name": "stdout",
     "output_type": "stream",
     "text": [
      "2024-09-08 05:04:52,274 TEST : loss 0.2706417143344879 - f1-score (micro avg)  0.7112\n",
      "2024-09-08 05:04:52,481  - 2 epochs without improvement\n",
      "2024-09-08 05:04:52,482 ----------------------------------------------------------------------------------------------------\n",
      "2024-09-08 05:05:43,764 epoch 37 - iter 876/8762 - loss 0.00096496 - time (sec): 51.28 - samples/sec: 312.11 - lr: 0.010000 - momentum: 0.000000\n",
      "2024-09-08 05:06:35,085 epoch 37 - iter 1752/8762 - loss 0.00183427 - time (sec): 102.60 - samples/sec: 307.15 - lr: 0.010000 - momentum: 0.000000\n",
      "2024-09-08 05:07:26,404 epoch 37 - iter 2628/8762 - loss 0.00169453 - time (sec): 153.92 - samples/sec: 304.23 - lr: 0.010000 - momentum: 0.000000\n",
      "2024-09-08 05:08:17,820 epoch 37 - iter 3504/8762 - loss 0.00151258 - time (sec): 205.34 - samples/sec: 308.52 - lr: 0.010000 - momentum: 0.000000\n",
      "2024-09-08 05:09:09,183 epoch 37 - iter 4380/8762 - loss 0.00129020 - time (sec): 256.70 - samples/sec: 308.75 - lr: 0.010000 - momentum: 0.000000\n",
      "2024-09-08 05:10:00,531 epoch 37 - iter 5256/8762 - loss 0.00111155 - time (sec): 308.05 - samples/sec: 310.67 - lr: 0.010000 - momentum: 0.000000\n",
      "2024-09-08 05:10:51,867 epoch 37 - iter 6132/8762 - loss 0.00109375 - time (sec): 359.38 - samples/sec: 310.83 - lr: 0.010000 - momentum: 0.000000\n",
      "2024-09-08 05:11:42,996 epoch 37 - iter 7008/8762 - loss 0.00096519 - time (sec): 410.51 - samples/sec: 310.63 - lr: 0.010000 - momentum: 0.000000\n",
      "2024-09-08 05:12:34,053 epoch 37 - iter 7884/8762 - loss 0.00091828 - time (sec): 461.57 - samples/sec: 309.91 - lr: 0.010000 - momentum: 0.000000\n",
      "2024-09-08 05:13:25,308 epoch 37 - iter 8760/8762 - loss 0.00084151 - time (sec): 512.82 - samples/sec: 309.49 - lr: 0.010000 - momentum: 0.000000\n",
      "2024-09-08 05:13:25,424 ----------------------------------------------------------------------------------------------------\n",
      "2024-09-08 05:13:25,425 EPOCH 37 done: loss 0.0008 - lr: 0.010000\n"
     ]
    },
    {
     "name": "stderr",
     "output_type": "stream",
     "text": [
      "100%|██████████| 64/64 [00:06<00:00, 10.27it/s]\n"
     ]
    },
    {
     "name": "stdout",
     "output_type": "stream",
     "text": [
      "2024-09-08 05:13:31,703 TEST : loss 0.27065548300743103 - f1-score (micro avg)  0.7132\n",
      "2024-09-08 05:13:31,912  - 3 epochs without improvement\n",
      "2024-09-08 05:13:31,914 ----------------------------------------------------------------------------------------------------\n",
      "2024-09-08 05:14:23,135 epoch 38 - iter 876/8762 - loss 0.00048701 - time (sec): 51.22 - samples/sec: 304.78 - lr: 0.010000 - momentum: 0.000000\n",
      "2024-09-08 05:15:14,221 epoch 38 - iter 1752/8762 - loss 0.00043514 - time (sec): 102.31 - samples/sec: 301.95 - lr: 0.010000 - momentum: 0.000000\n",
      "2024-09-08 05:16:05,378 epoch 38 - iter 2628/8762 - loss 0.00035619 - time (sec): 153.46 - samples/sec: 303.62 - lr: 0.010000 - momentum: 0.000000\n",
      "2024-09-08 05:16:56,530 epoch 38 - iter 3504/8762 - loss 0.00036290 - time (sec): 204.62 - samples/sec: 304.28 - lr: 0.010000 - momentum: 0.000000\n",
      "2024-09-08 05:17:47,889 epoch 38 - iter 4380/8762 - loss 0.00036103 - time (sec): 255.97 - samples/sec: 308.13 - lr: 0.010000 - momentum: 0.000000\n",
      "2024-09-08 05:18:39,112 epoch 38 - iter 5256/8762 - loss 0.00103080 - time (sec): 307.20 - samples/sec: 306.81 - lr: 0.010000 - momentum: 0.000000\n",
      "2024-09-08 05:19:30,312 epoch 38 - iter 6132/8762 - loss 0.00093656 - time (sec): 358.40 - samples/sec: 306.00 - lr: 0.010000 - momentum: 0.000000\n",
      "2024-09-08 05:20:21,605 epoch 38 - iter 7008/8762 - loss 0.00092577 - time (sec): 409.69 - samples/sec: 307.21 - lr: 0.010000 - momentum: 0.000000\n",
      "2024-09-08 05:21:12,926 epoch 38 - iter 7884/8762 - loss 0.00094420 - time (sec): 461.01 - samples/sec: 307.61 - lr: 0.010000 - momentum: 0.000000\n",
      "2024-09-08 05:22:04,452 epoch 38 - iter 8760/8762 - loss 0.00095342 - time (sec): 512.54 - samples/sec: 309.66 - lr: 0.010000 - momentum: 0.000000\n",
      "2024-09-08 05:22:04,568 ----------------------------------------------------------------------------------------------------\n",
      "2024-09-08 05:22:04,568 EPOCH 38 done: loss 0.0010 - lr: 0.010000\n"
     ]
    },
    {
     "name": "stderr",
     "output_type": "stream",
     "text": [
      "100%|██████████| 64/64 [00:06<00:00, 10.30it/s]\n"
     ]
    },
    {
     "name": "stdout",
     "output_type": "stream",
     "text": [
      "2024-09-08 05:22:10,827 TEST : loss 0.2701530456542969 - f1-score (micro avg)  0.7116\n",
      "2024-09-08 05:22:11,035  - 4 epochs without improvement (above 'patience')-> annealing learning_rate to [0.005]\n",
      "2024-09-08 05:22:11,036 ----------------------------------------------------------------------------------------------------\n",
      "2024-09-08 05:23:02,260 epoch 39 - iter 876/8762 - loss 0.00143313 - time (sec): 51.22 - samples/sec: 308.49 - lr: 0.005000 - momentum: 0.000000\n",
      "2024-09-08 05:23:53,701 epoch 39 - iter 1752/8762 - loss 0.00172971 - time (sec): 102.66 - samples/sec: 314.21 - lr: 0.005000 - momentum: 0.000000\n",
      "2024-09-08 05:24:44,963 epoch 39 - iter 2628/8762 - loss 0.00119205 - time (sec): 153.93 - samples/sec: 312.77 - lr: 0.005000 - momentum: 0.000000\n",
      "2024-09-08 05:25:36,228 epoch 39 - iter 3504/8762 - loss 0.00137961 - time (sec): 205.19 - samples/sec: 311.42 - lr: 0.005000 - momentum: 0.000000\n",
      "2024-09-08 05:26:27,483 epoch 39 - iter 4380/8762 - loss 0.00115738 - time (sec): 256.45 - samples/sec: 311.49 - lr: 0.005000 - momentum: 0.000000\n",
      "2024-09-08 05:27:18,848 epoch 39 - iter 5256/8762 - loss 0.00097820 - time (sec): 307.81 - samples/sec: 312.38 - lr: 0.005000 - momentum: 0.000000\n",
      "2024-09-08 05:28:09,972 epoch 39 - iter 6132/8762 - loss 0.00088649 - time (sec): 358.93 - samples/sec: 310.44 - lr: 0.005000 - momentum: 0.000000\n",
      "2024-09-08 05:29:01,235 epoch 39 - iter 7008/8762 - loss 0.00079013 - time (sec): 410.20 - samples/sec: 310.00 - lr: 0.005000 - momentum: 0.000000\n",
      "2024-09-08 05:29:52,480 epoch 39 - iter 7884/8762 - loss 0.00083142 - time (sec): 461.44 - samples/sec: 309.72 - lr: 0.005000 - momentum: 0.000000\n",
      "2024-09-08 05:30:43,684 epoch 39 - iter 8760/8762 - loss 0.00086926 - time (sec): 512.65 - samples/sec: 309.61 - lr: 0.005000 - momentum: 0.000000\n",
      "2024-09-08 05:30:43,801 ----------------------------------------------------------------------------------------------------\n",
      "2024-09-08 05:30:43,801 EPOCH 39 done: loss 0.0009 - lr: 0.005000\n"
     ]
    },
    {
     "name": "stderr",
     "output_type": "stream",
     "text": [
      "100%|██████████| 64/64 [00:06<00:00, 10.23it/s]\n"
     ]
    },
    {
     "name": "stdout",
     "output_type": "stream",
     "text": [
      "2024-09-08 05:30:50,127 TEST : loss 0.26981252431869507 - f1-score (micro avg)  0.7101\n",
      "2024-09-08 05:30:50,331  - 1 epochs without improvement\n",
      "2024-09-08 05:30:50,332 ----------------------------------------------------------------------------------------------------\n",
      "2024-09-08 05:31:41,531 epoch 40 - iter 876/8762 - loss 0.00020332 - time (sec): 51.20 - samples/sec: 301.14 - lr: 0.005000 - momentum: 0.000000\n",
      "2024-09-08 05:32:32,922 epoch 40 - iter 1752/8762 - loss 0.00028703 - time (sec): 102.59 - samples/sec: 303.74 - lr: 0.005000 - momentum: 0.000000\n",
      "2024-09-08 05:33:24,493 epoch 40 - iter 2628/8762 - loss 0.00039163 - time (sec): 154.16 - samples/sec: 307.43 - lr: 0.005000 - momentum: 0.000000\n",
      "2024-09-08 05:34:15,868 epoch 40 - iter 3504/8762 - loss 0.00036218 - time (sec): 205.54 - samples/sec: 307.01 - lr: 0.005000 - momentum: 0.000000\n",
      "2024-09-08 05:35:07,313 epoch 40 - iter 4380/8762 - loss 0.00036594 - time (sec): 256.98 - samples/sec: 307.50 - lr: 0.005000 - momentum: 0.000000\n",
      "2024-09-08 05:35:58,523 epoch 40 - iter 5256/8762 - loss 0.00047667 - time (sec): 308.19 - samples/sec: 308.05 - lr: 0.005000 - momentum: 0.000000\n",
      "2024-09-08 05:36:49,994 epoch 40 - iter 6132/8762 - loss 0.00046344 - time (sec): 359.66 - samples/sec: 309.20 - lr: 0.005000 - momentum: 0.000000\n",
      "2024-09-08 05:37:41,128 epoch 40 - iter 7008/8762 - loss 0.00048868 - time (sec): 410.80 - samples/sec: 307.64 - lr: 0.005000 - momentum: 0.000000\n",
      "2024-09-08 05:38:32,841 epoch 40 - iter 7884/8762 - loss 0.00050056 - time (sec): 462.51 - samples/sec: 308.69 - lr: 0.005000 - momentum: 0.000000\n",
      "2024-09-08 05:39:24,177 epoch 40 - iter 8760/8762 - loss 0.00049215 - time (sec): 513.84 - samples/sec: 308.90 - lr: 0.005000 - momentum: 0.000000\n",
      "2024-09-08 05:39:24,290 ----------------------------------------------------------------------------------------------------\n",
      "2024-09-08 05:39:24,291 EPOCH 40 done: loss 0.0005 - lr: 0.005000\n"
     ]
    },
    {
     "name": "stderr",
     "output_type": "stream",
     "text": [
      "100%|██████████| 64/64 [00:05<00:00, 11.50it/s]\n"
     ]
    },
    {
     "name": "stdout",
     "output_type": "stream",
     "text": [
      "2024-09-08 05:39:29,935 TEST : loss 0.2705116868019104 - f1-score (micro avg)  0.7115\n",
      "2024-09-08 05:39:30,144  - 0 epochs without improvement\n",
      "2024-09-08 05:39:30,145 ----------------------------------------------------------------------------------------------------\n",
      "2024-09-08 05:40:21,439 epoch 41 - iter 876/8762 - loss 0.00099852 - time (sec): 51.29 - samples/sec: 303.28 - lr: 0.005000 - momentum: 0.000000\n",
      "2024-09-08 05:41:12,838 epoch 41 - iter 1752/8762 - loss 0.00056813 - time (sec): 102.69 - samples/sec: 307.73 - lr: 0.005000 - momentum: 0.000000\n",
      "2024-09-08 05:42:04,366 epoch 41 - iter 2628/8762 - loss 0.00071978 - time (sec): 154.22 - samples/sec: 311.27 - lr: 0.005000 - momentum: 0.000000\n",
      "2024-09-08 05:42:55,732 epoch 41 - iter 3504/8762 - loss 0.00076019 - time (sec): 205.59 - samples/sec: 310.61 - lr: 0.005000 - momentum: 0.000000\n",
      "2024-09-08 05:43:47,250 epoch 41 - iter 4380/8762 - loss 0.00064816 - time (sec): 257.10 - samples/sec: 310.75 - lr: 0.005000 - momentum: 0.000000\n",
      "2024-09-08 05:44:38,483 epoch 41 - iter 5256/8762 - loss 0.00063324 - time (sec): 308.34 - samples/sec: 309.64 - lr: 0.005000 - momentum: 0.000000\n",
      "2024-09-08 05:45:29,990 epoch 41 - iter 6132/8762 - loss 0.00058267 - time (sec): 359.84 - samples/sec: 309.49 - lr: 0.005000 - momentum: 0.000000\n",
      "2024-09-08 05:46:21,147 epoch 41 - iter 7008/8762 - loss 0.00056475 - time (sec): 411.00 - samples/sec: 308.00 - lr: 0.005000 - momentum: 0.000000\n",
      "2024-09-08 05:47:12,471 epoch 41 - iter 7884/8762 - loss 0.00050816 - time (sec): 462.32 - samples/sec: 307.62 - lr: 0.005000 - momentum: 0.000000\n",
      "2024-09-08 05:48:03,951 epoch 41 - iter 8760/8762 - loss 0.00049897 - time (sec): 513.80 - samples/sec: 308.93 - lr: 0.005000 - momentum: 0.000000\n",
      "2024-09-08 05:48:04,065 ----------------------------------------------------------------------------------------------------\n",
      "2024-09-08 05:48:04,066 EPOCH 41 done: loss 0.0005 - lr: 0.005000\n"
     ]
    },
    {
     "name": "stderr",
     "output_type": "stream",
     "text": [
      "100%|██████████| 64/64 [00:06<00:00, 10.42it/s]\n"
     ]
    },
    {
     "name": "stdout",
     "output_type": "stream",
     "text": [
      "2024-09-08 05:48:10,264 TEST : loss 0.2722858786582947 - f1-score (micro avg)  0.711\n",
      "2024-09-08 05:48:10,471  - 1 epochs without improvement\n",
      "2024-09-08 05:48:10,474 ----------------------------------------------------------------------------------------------------\n",
      "2024-09-08 05:49:01,924 epoch 42 - iter 876/8762 - loss 0.00025915 - time (sec): 51.45 - samples/sec: 310.57 - lr: 0.005000 - momentum: 0.000000\n",
      "2024-09-08 05:49:53,266 epoch 42 - iter 1752/8762 - loss 0.00023137 - time (sec): 102.79 - samples/sec: 308.05 - lr: 0.005000 - momentum: 0.000000\n",
      "2024-09-08 05:50:44,498 epoch 42 - iter 2628/8762 - loss 0.00021122 - time (sec): 154.02 - samples/sec: 308.04 - lr: 0.005000 - momentum: 0.000000\n",
      "2024-09-08 05:51:35,478 epoch 42 - iter 3504/8762 - loss 0.00035747 - time (sec): 205.00 - samples/sec: 303.06 - lr: 0.005000 - momentum: 0.000000\n",
      "2024-09-08 05:52:26,911 epoch 42 - iter 4380/8762 - loss 0.00052443 - time (sec): 256.43 - samples/sec: 302.28 - lr: 0.005000 - momentum: 0.000000\n",
      "2024-09-08 05:53:18,413 epoch 42 - iter 5256/8762 - loss 0.00047383 - time (sec): 307.94 - samples/sec: 305.03 - lr: 0.005000 - momentum: 0.000000\n",
      "2024-09-08 05:54:09,803 epoch 42 - iter 6132/8762 - loss 0.00043925 - time (sec): 359.33 - samples/sec: 306.62 - lr: 0.005000 - momentum: 0.000000\n",
      "2024-09-08 05:55:01,434 epoch 42 - iter 7008/8762 - loss 0.00050811 - time (sec): 410.96 - samples/sec: 309.00 - lr: 0.005000 - momentum: 0.000000\n",
      "2024-09-08 05:55:52,813 epoch 42 - iter 7884/8762 - loss 0.00048008 - time (sec): 462.34 - samples/sec: 309.52 - lr: 0.005000 - momentum: 0.000000\n",
      "2024-09-08 05:56:44,138 epoch 42 - iter 8760/8762 - loss 0.00050418 - time (sec): 513.66 - samples/sec: 308.89 - lr: 0.005000 - momentum: 0.000000\n",
      "2024-09-08 05:56:44,263 ----------------------------------------------------------------------------------------------------\n",
      "2024-09-08 05:56:44,264 EPOCH 42 done: loss 0.0005 - lr: 0.005000\n"
     ]
    },
    {
     "name": "stderr",
     "output_type": "stream",
     "text": [
      "100%|██████████| 64/64 [00:06<00:00, 10.20it/s]\n"
     ]
    },
    {
     "name": "stdout",
     "output_type": "stream",
     "text": [
      "2024-09-08 05:56:50,592 TEST : loss 0.2730211317539215 - f1-score (micro avg)  0.712\n",
      "2024-09-08 05:56:50,793  - 2 epochs without improvement\n",
      "2024-09-08 05:56:50,794 ----------------------------------------------------------------------------------------------------\n",
      "2024-09-08 05:57:41,931 epoch 43 - iter 876/8762 - loss 0.00069717 - time (sec): 51.14 - samples/sec: 299.87 - lr: 0.005000 - momentum: 0.000000\n",
      "2024-09-08 05:58:33,103 epoch 43 - iter 1752/8762 - loss 0.00048023 - time (sec): 102.31 - samples/sec: 299.70 - lr: 0.005000 - momentum: 0.000000\n",
      "2024-09-08 05:59:24,455 epoch 43 - iter 2628/8762 - loss 0.00049653 - time (sec): 153.66 - samples/sec: 306.27 - lr: 0.005000 - momentum: 0.000000\n",
      "2024-09-08 06:00:15,567 epoch 43 - iter 3504/8762 - loss 0.00048496 - time (sec): 204.77 - samples/sec: 305.89 - lr: 0.005000 - momentum: 0.000000\n",
      "2024-09-08 06:01:06,803 epoch 43 - iter 4380/8762 - loss 0.00051184 - time (sec): 256.01 - samples/sec: 306.42 - lr: 0.005000 - momentum: 0.000000\n",
      "2024-09-08 06:01:58,110 epoch 43 - iter 5256/8762 - loss 0.00045223 - time (sec): 307.32 - samples/sec: 308.66 - lr: 0.005000 - momentum: 0.000000\n",
      "2024-09-08 06:02:49,331 epoch 43 - iter 6132/8762 - loss 0.00039867 - time (sec): 358.54 - samples/sec: 309.32 - lr: 0.005000 - momentum: 0.000000\n",
      "2024-09-08 06:03:40,756 epoch 43 - iter 7008/8762 - loss 0.00037925 - time (sec): 409.96 - samples/sec: 311.21 - lr: 0.005000 - momentum: 0.000000\n",
      "2024-09-08 06:04:31,722 epoch 43 - iter 7884/8762 - loss 0.00036733 - time (sec): 460.93 - samples/sec: 308.85 - lr: 0.005000 - momentum: 0.000000\n",
      "2024-09-08 06:05:23,264 epoch 43 - iter 8760/8762 - loss 0.00044129 - time (sec): 512.47 - samples/sec: 309.67 - lr: 0.005000 - momentum: 0.000000\n",
      "2024-09-08 06:05:23,380 ----------------------------------------------------------------------------------------------------\n",
      "2024-09-08 06:05:23,381 EPOCH 43 done: loss 0.0004 - lr: 0.005000\n"
     ]
    },
    {
     "name": "stderr",
     "output_type": "stream",
     "text": [
      "100%|██████████| 64/64 [00:06<00:00, 10.19it/s]\n"
     ]
    },
    {
     "name": "stdout",
     "output_type": "stream",
     "text": [
      "2024-09-08 06:05:29,709 TEST : loss 0.27350491285324097 - f1-score (micro avg)  0.7117\n",
      "2024-09-08 06:05:29,910  - 0 epochs without improvement\n",
      "2024-09-08 06:05:29,911 ----------------------------------------------------------------------------------------------------\n",
      "2024-09-08 06:06:21,047 epoch 44 - iter 876/8762 - loss 0.00079172 - time (sec): 51.14 - samples/sec: 306.29 - lr: 0.005000 - momentum: 0.000000\n",
      "2024-09-08 06:07:12,357 epoch 44 - iter 1752/8762 - loss 0.00077834 - time (sec): 102.44 - samples/sec: 311.33 - lr: 0.005000 - momentum: 0.000000\n",
      "2024-09-08 06:08:03,569 epoch 44 - iter 2628/8762 - loss 0.00075675 - time (sec): 153.66 - samples/sec: 313.04 - lr: 0.005000 - momentum: 0.000000\n",
      "2024-09-08 06:08:54,849 epoch 44 - iter 3504/8762 - loss 0.00062991 - time (sec): 204.94 - samples/sec: 313.80 - lr: 0.005000 - momentum: 0.000000\n",
      "2024-09-08 06:09:46,096 epoch 44 - iter 4380/8762 - loss 0.00053553 - time (sec): 256.18 - samples/sec: 312.56 - lr: 0.005000 - momentum: 0.000000\n",
      "2024-09-08 06:10:37,475 epoch 44 - iter 5256/8762 - loss 0.00075415 - time (sec): 307.56 - samples/sec: 313.43 - lr: 0.005000 - momentum: 0.000000\n",
      "2024-09-08 06:11:28,651 epoch 44 - iter 6132/8762 - loss 0.00068056 - time (sec): 358.74 - samples/sec: 312.39 - lr: 0.005000 - momentum: 0.000000\n",
      "2024-09-08 06:12:20,008 epoch 44 - iter 7008/8762 - loss 0.00064140 - time (sec): 410.10 - samples/sec: 311.74 - lr: 0.005000 - momentum: 0.000000\n",
      "2024-09-08 06:13:11,200 epoch 44 - iter 7884/8762 - loss 0.00061863 - time (sec): 461.29 - samples/sec: 310.90 - lr: 0.005000 - momentum: 0.000000\n",
      "2024-09-08 06:14:02,389 epoch 44 - iter 8760/8762 - loss 0.00057820 - time (sec): 512.48 - samples/sec: 309.73 - lr: 0.005000 - momentum: 0.000000\n",
      "2024-09-08 06:14:02,504 ----------------------------------------------------------------------------------------------------\n",
      "2024-09-08 06:14:02,505 EPOCH 44 done: loss 0.0006 - lr: 0.005000\n"
     ]
    },
    {
     "name": "stderr",
     "output_type": "stream",
     "text": [
      "100%|██████████| 64/64 [00:06<00:00, 10.27it/s]\n"
     ]
    },
    {
     "name": "stdout",
     "output_type": "stream",
     "text": [
      "2024-09-08 06:14:08,788 TEST : loss 0.27468904852867126 - f1-score (micro avg)  0.7117\n",
      "2024-09-08 06:14:08,992  - 1 epochs without improvement\n",
      "2024-09-08 06:14:08,993 ----------------------------------------------------------------------------------------------------\n",
      "2024-09-08 06:15:00,292 epoch 45 - iter 876/8762 - loss 0.00036632 - time (sec): 51.30 - samples/sec: 316.42 - lr: 0.005000 - momentum: 0.000000\n",
      "2024-09-08 06:15:51,750 epoch 45 - iter 1752/8762 - loss 0.00050613 - time (sec): 102.76 - samples/sec: 312.25 - lr: 0.005000 - momentum: 0.000000\n",
      "2024-09-08 06:16:42,639 epoch 45 - iter 2628/8762 - loss 0.00046296 - time (sec): 153.64 - samples/sec: 306.34 - lr: 0.005000 - momentum: 0.000000\n",
      "2024-09-08 06:17:33,872 epoch 45 - iter 3504/8762 - loss 0.00037897 - time (sec): 204.88 - samples/sec: 307.57 - lr: 0.005000 - momentum: 0.000000\n",
      "2024-09-08 06:18:25,085 epoch 45 - iter 4380/8762 - loss 0.00054628 - time (sec): 256.09 - samples/sec: 309.18 - lr: 0.005000 - momentum: 0.000000\n",
      "2024-09-08 06:19:16,407 epoch 45 - iter 5256/8762 - loss 0.00050505 - time (sec): 307.41 - samples/sec: 309.01 - lr: 0.005000 - momentum: 0.000000\n",
      "2024-09-08 06:20:07,787 epoch 45 - iter 6132/8762 - loss 0.00050368 - time (sec): 358.79 - samples/sec: 309.43 - lr: 0.005000 - momentum: 0.000000\n",
      "2024-09-08 06:20:59,078 epoch 45 - iter 7008/8762 - loss 0.00046105 - time (sec): 410.08 - samples/sec: 309.89 - lr: 0.005000 - momentum: 0.000000\n",
      "2024-09-08 06:21:50,160 epoch 45 - iter 7884/8762 - loss 0.00055239 - time (sec): 461.17 - samples/sec: 309.36 - lr: 0.005000 - momentum: 0.000000\n",
      "2024-09-08 06:22:41,295 epoch 45 - iter 8760/8762 - loss 0.00063460 - time (sec): 512.30 - samples/sec: 309.81 - lr: 0.005000 - momentum: 0.000000\n",
      "2024-09-08 06:22:41,409 ----------------------------------------------------------------------------------------------------\n",
      "2024-09-08 06:22:41,410 EPOCH 45 done: loss 0.0006 - lr: 0.005000\n"
     ]
    },
    {
     "name": "stderr",
     "output_type": "stream",
     "text": [
      "100%|██████████| 64/64 [00:06<00:00, 10.15it/s]\n"
     ]
    },
    {
     "name": "stdout",
     "output_type": "stream",
     "text": [
      "2024-09-08 06:22:47,762 TEST : loss 0.27500253915786743 - f1-score (micro avg)  0.712\n",
      "2024-09-08 06:22:47,966  - 2 epochs without improvement\n",
      "2024-09-08 06:22:47,967 ----------------------------------------------------------------------------------------------------\n",
      "2024-09-08 06:23:39,059 epoch 46 - iter 876/8762 - loss 0.00029761 - time (sec): 51.09 - samples/sec: 307.32 - lr: 0.005000 - momentum: 0.000000\n",
      "2024-09-08 06:24:30,361 epoch 46 - iter 1752/8762 - loss 0.00028711 - time (sec): 102.39 - samples/sec: 307.71 - lr: 0.005000 - momentum: 0.000000\n",
      "2024-09-08 06:25:21,693 epoch 46 - iter 2628/8762 - loss 0.00022061 - time (sec): 153.72 - samples/sec: 308.14 - lr: 0.005000 - momentum: 0.000000\n",
      "2024-09-08 06:26:12,867 epoch 46 - iter 3504/8762 - loss 0.00020178 - time (sec): 204.90 - samples/sec: 307.28 - lr: 0.005000 - momentum: 0.000000\n",
      "2024-09-08 06:27:03,894 epoch 46 - iter 4380/8762 - loss 0.00020304 - time (sec): 255.93 - samples/sec: 306.35 - lr: 0.005000 - momentum: 0.000000\n",
      "2024-09-08 06:27:55,063 epoch 46 - iter 5256/8762 - loss 0.00027280 - time (sec): 307.09 - samples/sec: 307.47 - lr: 0.005000 - momentum: 0.000000\n",
      "2024-09-08 06:28:46,234 epoch 46 - iter 6132/8762 - loss 0.00032661 - time (sec): 358.27 - samples/sec: 309.04 - lr: 0.005000 - momentum: 0.000000\n",
      "2024-09-08 06:29:37,299 epoch 46 - iter 7008/8762 - loss 0.00037088 - time (sec): 409.33 - samples/sec: 309.24 - lr: 0.005000 - momentum: 0.000000\n",
      "2024-09-08 06:30:28,416 epoch 46 - iter 7884/8762 - loss 0.00035391 - time (sec): 460.45 - samples/sec: 310.02 - lr: 0.005000 - momentum: 0.000000\n",
      "2024-09-08 06:31:19,605 epoch 46 - iter 8760/8762 - loss 0.00033445 - time (sec): 511.64 - samples/sec: 310.20 - lr: 0.005000 - momentum: 0.000000\n",
      "2024-09-08 06:31:19,736 ----------------------------------------------------------------------------------------------------\n",
      "2024-09-08 06:31:19,738 EPOCH 46 done: loss 0.0003 - lr: 0.005000\n"
     ]
    },
    {
     "name": "stderr",
     "output_type": "stream",
     "text": [
      "100%|██████████| 64/64 [00:05<00:00, 11.58it/s]\n"
     ]
    },
    {
     "name": "stdout",
     "output_type": "stream",
     "text": [
      "2024-09-08 06:31:25,320 TEST : loss 0.2747323215007782 - f1-score (micro avg)  0.7125\n",
      "2024-09-08 06:31:25,524  - 0 epochs without improvement\n",
      "2024-09-08 06:31:25,525 ----------------------------------------------------------------------------------------------------\n",
      "2024-09-08 06:32:16,532 epoch 47 - iter 876/8762 - loss 0.00054086 - time (sec): 51.01 - samples/sec: 314.22 - lr: 0.005000 - momentum: 0.000000\n",
      "2024-09-08 06:33:07,628 epoch 47 - iter 1752/8762 - loss 0.00048877 - time (sec): 102.10 - samples/sec: 304.70 - lr: 0.005000 - momentum: 0.000000\n",
      "2024-09-08 06:33:58,856 epoch 47 - iter 2628/8762 - loss 0.00059414 - time (sec): 153.33 - samples/sec: 306.59 - lr: 0.005000 - momentum: 0.000000\n",
      "2024-09-08 06:34:50,117 epoch 47 - iter 3504/8762 - loss 0.00045603 - time (sec): 204.59 - samples/sec: 308.50 - lr: 0.005000 - momentum: 0.000000\n",
      "2024-09-08 06:35:41,275 epoch 47 - iter 4380/8762 - loss 0.00038453 - time (sec): 255.75 - samples/sec: 310.48 - lr: 0.005000 - momentum: 0.000000\n",
      "2024-09-08 06:36:32,371 epoch 47 - iter 5256/8762 - loss 0.00036636 - time (sec): 306.84 - samples/sec: 310.84 - lr: 0.005000 - momentum: 0.000000\n",
      "2024-09-08 06:37:23,236 epoch 47 - iter 6132/8762 - loss 0.00047341 - time (sec): 357.71 - samples/sec: 308.12 - lr: 0.005000 - momentum: 0.000000\n",
      "2024-09-08 06:38:14,363 epoch 47 - iter 7008/8762 - loss 0.00046567 - time (sec): 408.84 - samples/sec: 308.90 - lr: 0.005000 - momentum: 0.000000\n",
      "2024-09-08 06:39:05,533 epoch 47 - iter 7884/8762 - loss 0.00042030 - time (sec): 460.01 - samples/sec: 308.50 - lr: 0.005000 - momentum: 0.000000\n",
      "2024-09-08 06:39:56,911 epoch 47 - iter 8760/8762 - loss 0.00040619 - time (sec): 511.38 - samples/sec: 310.33 - lr: 0.005000 - momentum: 0.000000\n",
      "2024-09-08 06:39:57,027 ----------------------------------------------------------------------------------------------------\n",
      "2024-09-08 06:39:57,028 EPOCH 47 done: loss 0.0004 - lr: 0.005000\n"
     ]
    },
    {
     "name": "stderr",
     "output_type": "stream",
     "text": [
      "100%|██████████| 64/64 [00:06<00:00, 10.38it/s]\n"
     ]
    },
    {
     "name": "stdout",
     "output_type": "stream",
     "text": [
      "2024-09-08 06:40:03,239 TEST : loss 0.275339812040329 - f1-score (micro avg)  0.7123\n",
      "2024-09-08 06:40:03,443  - 1 epochs without improvement\n",
      "2024-09-08 06:40:03,444 ----------------------------------------------------------------------------------------------------\n",
      "2024-09-08 06:40:54,814 epoch 48 - iter 876/8762 - loss 0.00039788 - time (sec): 51.37 - samples/sec: 314.74 - lr: 0.005000 - momentum: 0.000000\n",
      "2024-09-08 06:41:46,241 epoch 48 - iter 1752/8762 - loss 0.00071032 - time (sec): 102.80 - samples/sec: 314.49 - lr: 0.005000 - momentum: 0.000000\n",
      "2024-09-08 06:42:37,609 epoch 48 - iter 2628/8762 - loss 0.00051673 - time (sec): 154.16 - samples/sec: 312.20 - lr: 0.005000 - momentum: 0.000000\n",
      "2024-09-08 06:43:28,987 epoch 48 - iter 3504/8762 - loss 0.00049894 - time (sec): 205.54 - samples/sec: 311.79 - lr: 0.005000 - momentum: 0.000000\n",
      "2024-09-08 06:44:20,443 epoch 48 - iter 4380/8762 - loss 0.00044996 - time (sec): 257.00 - samples/sec: 311.58 - lr: 0.005000 - momentum: 0.000000\n",
      "2024-09-08 06:45:11,950 epoch 48 - iter 5256/8762 - loss 0.00052009 - time (sec): 308.51 - samples/sec: 311.35 - lr: 0.005000 - momentum: 0.000000\n",
      "2024-09-08 06:46:02,956 epoch 48 - iter 6132/8762 - loss 0.00052873 - time (sec): 359.51 - samples/sec: 311.39 - lr: 0.005000 - momentum: 0.000000\n",
      "2024-09-08 06:46:54,607 epoch 48 - iter 7008/8762 - loss 0.00056171 - time (sec): 411.16 - samples/sec: 309.80 - lr: 0.005000 - momentum: 0.000000\n",
      "2024-09-08 06:47:45,913 epoch 48 - iter 7884/8762 - loss 0.00051093 - time (sec): 462.47 - samples/sec: 309.72 - lr: 0.005000 - momentum: 0.000000\n",
      "2024-09-08 06:48:36,489 epoch 48 - iter 8760/8762 - loss 0.00046497 - time (sec): 513.04 - samples/sec: 309.31 - lr: 0.005000 - momentum: 0.000000\n",
      "2024-09-08 06:48:36,606 ----------------------------------------------------------------------------------------------------\n",
      "2024-09-08 06:48:36,607 EPOCH 48 done: loss 0.0005 - lr: 0.005000\n"
     ]
    },
    {
     "name": "stderr",
     "output_type": "stream",
     "text": [
      "100%|██████████| 64/64 [00:06<00:00, 10.05it/s]\n"
     ]
    },
    {
     "name": "stdout",
     "output_type": "stream",
     "text": [
      "2024-09-08 06:48:43,028 TEST : loss 0.27717503905296326 - f1-score (micro avg)  0.7119\n",
      "2024-09-08 06:48:43,231  - 2 epochs without improvement\n",
      "2024-09-08 06:48:48,573 ----------------------------------------------------------------------------------------------------\n",
      "2024-09-08 06:48:48,605 Testing using last state of model ...\n"
     ]
    },
    {
     "name": "stderr",
     "output_type": "stream",
     "text": [
      "100%|██████████| 64/64 [00:06<00:00,  9.59it/s]\n"
     ]
    },
    {
     "name": "stdout",
     "output_type": "stream",
     "text": [
      "2024-09-08 06:48:56,290 \n",
      "Results:\n",
      "- F-score (micro) 0.7119\n",
      "- F-score (macro) 0.4996\n",
      "- Accuracy 0.6303\n",
      "\n",
      "By class:\n",
      "              precision    recall  f1-score   support\n",
      "\n",
      "        PERS     0.9264    0.8248    0.8726      1678\n",
      "         LOC     0.6012    0.7556    0.6696       401\n",
      "         ORG     0.2873    0.6782    0.4036       261\n",
      "        MISC     0.1231    0.0333    0.0525       240\n",
      "\n",
      "   micro avg     0.6988    0.7256    0.7119      2580\n",
      "   macro avg     0.4845    0.5730    0.4996      2580\n",
      "weighted avg     0.7365    0.7256    0.7173      2580\n",
      "\n",
      "2024-09-08 06:48:56,290 ----------------------------------------------------------------------------------------------------\n"
     ]
    },
    {
     "data": {
      "text/plain": [
       "{'test_score': 0.7119224187107815}"
      ]
     },
     "execution_count": 6,
     "metadata": {},
     "output_type": "execute_result"
    }
   ],
   "source": [
    "trainer.train(finetuned_model_name,\n",
    "              learning_rate=0.01,\n",
    "              mini_batch_size=1,\n",
    "              max_epochs=48,\n",
    "              #embeddings_storage_mode='cpu',\n",
    "              #main_evaluation_metric='f1',\n",
    "              monitor_test=True,\n",
    "              use_amp=False,\n",
    "              train_with_dev=True) "
   ]
  },
  {
   "cell_type": "markdown",
   "metadata": {},
   "source": [
    "Lets evaluate it"
   ]
  },
  {
   "cell_type": "code",
   "execution_count": 7,
   "metadata": {},
   "outputs": [
    {
     "name": "stderr",
     "output_type": "stream",
     "text": [
      "100%|██████████| 127/127 [00:48<00:00,  2.61it/s]"
     ]
    },
    {
     "name": "stdout",
     "output_type": "stream",
     "text": [
      "\n",
      "Results:\n",
      "- F-score (micro) 0.8194\n",
      "- F-score (macro) 0.7011\n",
      "- Accuracy 0.7506\n",
      "\n",
      "By class:\n",
      "              precision    recall  f1-score   support\n",
      "\n",
      "        PERS     0.9090    0.8993    0.9041      1678\n",
      "         LOC     0.7319    0.8304    0.7780       401\n",
      "        MISC     0.5323    0.5500    0.5410       240\n",
      "         ORG     0.6570    0.5211    0.5812       261\n",
      "\n",
      "   micro avg     0.8210    0.8178    0.8194      2580\n",
      "   macro avg     0.7075    0.7002    0.7011      2580\n",
      "weighted avg     0.8210    0.8178    0.8181      2580\n",
      "\n"
     ]
    },
    {
     "name": "stderr",
     "output_type": "stream",
     "text": [
      "\n"
     ]
    }
   ],
   "source": [
    "result = tagger.evaluate(corpus.test, gold_label_type='ner')  # Evaluate on the test set\n",
    "print(result.detailed_results)"
   ]
  },
  {
   "cell_type": "markdown",
   "metadata": {},
   "source": [
    "Lets test with own data"
   ]
  },
  {
   "cell_type": "code",
   "execution_count": 8,
   "metadata": {},
   "outputs": [
    {
     "name": "stdout",
     "output_type": "stream",
     "text": [
      "2024-09-08 06:49:54,401 SequenceTagger predicts: Dictionary with 17 tags: O, S-PERS, B-PERS, E-PERS, I-PERS, S-LOC, B-LOC, E-LOC, I-LOC, S-ORG, B-ORG, E-ORG, I-ORG, S-MISC, B-MISC, E-MISC, I-MISC\n",
      "Привіт , мене звати [Тімо|(PERS=100.0%)] і я живу в [Турку|(LOC=100.0%)] , навчаюсь в [Универсітеті|(ORG=99.8%)] Турку\n",
      "Тімо [Юнолайнен|(PERS=100.0%)] живе в місті [Турку|(LOC=100.0%)] й навчається в [Університеті|(ORG=89.9%)] міста Турку .\n",
      "Місто [Турку|(LOC=100.0%)] розташоване на південно-західному узбережжі [Фінляндії|(LOC=100.0%)] .\n",
      "В [Турку|(LOC=100.0%)] є поліція , й вона вельми корумпована\n",
      "У [Турку|(LOC=100.0%)] проходить щорічний фестиваль музики та мистецтв .\n",
      "Тімо [Юнолайнен|(PERS=74.0%)] , професор в [Університеті|(ORG=99.8%)] міста Турку , співпрацює з організацією \" [Турку|(ORG=100.0%)] Інститут \" для розробки нових проектів у [Турку|(LOC=100.0%)] .\n"
     ]
    }
   ],
   "source": [
    "finetuned_model = SequenceTagger.load('/home/sginne/src/master_thesis/colab/'+finetuned_model_name+'/final-model.pt')\n",
    "def print_tagged_sentences(sentences, model=None):\n",
    "    # Load model only if not already loaded\n",
    "    \n",
    "    for text in sentences:\n",
    "        sentence = Sentence(text)  # Create Sentence object\n",
    "        model.predict(sentence)    # Predict tags\n",
    "        #print (sentence.to_tagged_string())\n",
    "        tagged_sentence = []\n",
    "        spans=sentence.get_spans('ner')\n",
    "    \n",
    "        #for span in spans:\n",
    "        #    print (\"Span:\",span.get_label('ner').value)\n",
    "        #    print (\"Span:\",span.get_label('ner').score)\n",
    "        i=0\n",
    "        for token in sentence:\n",
    "            if i!=len(spans):\n",
    "                if (token==spans[i][0]):\n",
    "                    current_tag_token=spans[i]\n",
    "                    current_tag_value=current_tag_token.get_label('ner').value\n",
    "                    current_tag_score=current_tag_token.get_label('ner').score\n",
    "                    tagged_sentence.append(f'[{token.text}|({current_tag_value}={current_tag_score*100:.1f}%)]')\n",
    "                    i=i+1\n",
    "                else:\n",
    "                    tagged_sentence.append(token.text)\n",
    "            else:\n",
    "                tagged_sentence.append(token.text)\n",
    "\n",
    "        print ( ' '.join(tagged_sentence))\n",
    "\n",
    "sentences = [\n",
    "    'Привіт , мене звати Тімо і я живу в Турку , навчаюсь в Универсітеті Турку',\n",
    "    'Тімо Юнолайнен живе в місті Турку й навчається в Університеті міста Турку.',\n",
    "    'Місто Турку розташоване на південно-західному узбережжі Фінляндії.',\n",
    "    'В Турку є поліція, й вона вельми корумпована',\n",
    "    'У Турку проходить щорічний фестиваль музики та мистецтв.',\n",
    "    'Тімо Юнолайнен, професор в Університеті міста Турку, співпрацює з організацією \"Турку Інститут\" для розробки нових проектів у Турку.'\n",
    "]\n",
    "\n",
    "print_tagged_sentences(sentences, finetuned_model)"
   ]
  },
  {
   "cell_type": "code",
   "execution_count": 10,
   "metadata": {},
   "outputs": [
    {
     "data": {
      "image/png": "[encoded data removed]",
      "text/plain": [
       "<Figure size 1000x500 with 2 Axes>"
      ]
     },
     "metadata": {},
     "output_type": "display_data"
    }
   ],
   "source": [
    "import re\n",
    "import matplotlib.pyplot as plt\n",
    "\n",
    "# Parse the log file\n",
    "epochs = []\n",
    "f1_scores = []\n",
    "test_losses = []\n",
    "\n",
    "with open('dist-finetuned.05/training.log', 'r') as f:\n",
    "    for line in f:\n",
    "        if 'EPOCH' in line and 'done' in line:\n",
    "            epoch = int(re.search(r'EPOCH (\\d+)', line).group(1))\n",
    "            epochs.append(epoch)\n",
    "        if 'TEST :' in line:\n",
    "            test_loss = float(re.search(r'loss ([\\d.]+)', line).group(1))\n",
    "            test_losses.append(test_loss)\n",
    "        if 'f1-score (micro avg)' in line:\n",
    "            f1_score = float(re.search(r'f1-score \\(micro avg\\)\\s+([\\d.]+)', line).group(1))\n",
    "            f1_scores.append(f1_score)\n",
    "\n",
    "# Plotting the results\n",
    "plt.figure(figsize=(10,5))\n",
    "\n",
    "# F1-score plot\n",
    "plt.subplot(1, 2, 1)\n",
    "plt.plot(epochs, f1_scores, marker='o', color='b', label='F1-score (micro avg)')\n",
    "plt.xlabel('Epochs')\n",
    "plt.ylabel('F1-score')\n",
    "plt.title('F1-score Progress')\n",
    "plt.grid(True)\n",
    "plt.legend()\n",
    "\n",
    "# Test loss plot\n",
    "plt.subplot(1, 2, 2)\n",
    "plt.plot(epochs, test_losses, marker='o', color='r', label='Test Loss')\n",
    "plt.xlabel('Epochs')\n",
    "plt.ylabel('Test Loss')\n",
    "plt.title('Test Loss Progress')\n",
    "plt.grid(True)\n",
    "plt.legend()\n",
    "\n",
    "plt.tight_layout()\n",
    "plt.show()\n"
   ]
  }
 ],
 "metadata": {
  "kernelspec": {
   "display_name": "flair_env",
   "language": "python",
   "name": "python3"
  },
  "language_info": {
   "codemirror_mode": {
    "name": "ipython",
    "version": 3
   },
   "file_extension": ".py",
   "mimetype": "text/x-python",
   "name": "python",
   "nbconvert_exporter": "python",
   "pygments_lexer": "ipython3",
   "version": "3.8.19"
  }
 },
 "nbformat": 4,
 "nbformat_minor": 2
}
